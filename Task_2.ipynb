{
 "cells": [
  {
   "cell_type": "markdown",
   "metadata": {},
   "source": [
    "# Importing the dataset"
   ]
  },
  {
   "cell_type": "code",
   "execution_count": 1,
   "metadata": {},
   "outputs": [],
   "source": [
    "import pandas as pd\n",
    "import matplotlib.pyplot as plt\n",
    "import seaborn as sns\n",
    "import pandas as pd\n",
    "import numpy as np\n",
    "from sklearn.model_selection import train_test_split\n",
    "from sklearn.linear_model import LinearRegression\n",
    "from sklearn.metrics import mean_squared_error, r2_score,mean_absolute_error\n"
   ]
  },
  {
   "cell_type": "markdown",
   "metadata": {},
   "source": [
    "# Loading the dataset"
   ]
  },
  {
   "cell_type": "code",
   "execution_count": 2,
   "metadata": {},
   "outputs": [],
   "source": [
    "data = pd.read_csv('future_500_team04.csv')"
   ]
  },
  {
   "cell_type": "code",
   "execution_count": 3,
   "metadata": {},
   "outputs": [
    {
     "data": {
      "text/html": [
       "<div>\n",
       "<style scoped>\n",
       "    .dataframe tbody tr th:only-of-type {\n",
       "        vertical-align: middle;\n",
       "    }\n",
       "\n",
       "    .dataframe tbody tr th {\n",
       "        vertical-align: top;\n",
       "    }\n",
       "\n",
       "    .dataframe thead th {\n",
       "        text-align: right;\n",
       "    }\n",
       "</style>\n",
       "<table border=\"1\" class=\"dataframe\">\n",
       "  <thead>\n",
       "    <tr style=\"text-align: right;\">\n",
       "      <th></th>\n",
       "      <th>Unnamed: 0</th>\n",
       "      <th>ID</th>\n",
       "      <th>Name</th>\n",
       "      <th>Industry</th>\n",
       "      <th>Inception</th>\n",
       "      <th>Employees</th>\n",
       "      <th>State</th>\n",
       "      <th>City</th>\n",
       "      <th>Revenue</th>\n",
       "      <th>Expenses</th>\n",
       "      <th>Profit</th>\n",
       "      <th>Growth</th>\n",
       "    </tr>\n",
       "  </thead>\n",
       "  <tbody>\n",
       "    <tr>\n",
       "      <th>0</th>\n",
       "      <td>133</td>\n",
       "      <td>134</td>\n",
       "      <td>Sub-Fan</td>\n",
       "      <td>Software</td>\n",
       "      <td>2014.0</td>\n",
       "      <td>24.0</td>\n",
       "      <td>MA</td>\n",
       "      <td>Boston</td>\n",
       "      <td>$61,78,217</td>\n",
       "      <td>4,916,737 Dollars</td>\n",
       "      <td>1261480.0</td>\n",
       "      <td>17%</td>\n",
       "    </tr>\n",
       "    <tr>\n",
       "      <th>1</th>\n",
       "      <td>288</td>\n",
       "      <td>289</td>\n",
       "      <td>Annoyhog</td>\n",
       "      <td>Health</td>\n",
       "      <td>2009.0</td>\n",
       "      <td>90.0</td>\n",
       "      <td>FL</td>\n",
       "      <td>Medley</td>\n",
       "      <td>$1,27,29,198</td>\n",
       "      <td>7,494,847 Dollars</td>\n",
       "      <td>5234351.0</td>\n",
       "      <td>9%</td>\n",
       "    </tr>\n",
       "    <tr>\n",
       "      <th>2</th>\n",
       "      <td>443</td>\n",
       "      <td>444</td>\n",
       "      <td>Ridglingshod</td>\n",
       "      <td>Health</td>\n",
       "      <td>2011.0</td>\n",
       "      <td>23.0</td>\n",
       "      <td>CA</td>\n",
       "      <td>San Diego</td>\n",
       "      <td>$82,93,498</td>\n",
       "      <td>8,165,133 Dollars</td>\n",
       "      <td>128365.0</td>\n",
       "      <td>9%</td>\n",
       "    </tr>\n",
       "    <tr>\n",
       "      <th>3</th>\n",
       "      <td>245</td>\n",
       "      <td>246</td>\n",
       "      <td>Circinuscategory</td>\n",
       "      <td>IT Services</td>\n",
       "      <td>2013.0</td>\n",
       "      <td>32.0</td>\n",
       "      <td>NJ</td>\n",
       "      <td>Cranbury</td>\n",
       "      <td>$1,49,20,255</td>\n",
       "      <td>5,274,251 Dollars</td>\n",
       "      <td>9646004.0</td>\n",
       "      <td>28%</td>\n",
       "    </tr>\n",
       "    <tr>\n",
       "      <th>4</th>\n",
       "      <td>240</td>\n",
       "      <td>241</td>\n",
       "      <td>Sounderfibber</td>\n",
       "      <td>IT Services</td>\n",
       "      <td>2011.0</td>\n",
       "      <td>372.0</td>\n",
       "      <td>MN</td>\n",
       "      <td>Minnetonka</td>\n",
       "      <td>$1,47,27,740</td>\n",
       "      <td>6,403,759 Dollars</td>\n",
       "      <td>8323981.0</td>\n",
       "      <td>21%</td>\n",
       "    </tr>\n",
       "  </tbody>\n",
       "</table>\n",
       "</div>"
      ],
      "text/plain": [
       "   Unnamed: 0   ID              Name     Industry  Inception  Employees State  \\\n",
       "0         133  134           Sub-Fan     Software     2014.0       24.0    MA   \n",
       "1         288  289          Annoyhog       Health     2009.0       90.0    FL   \n",
       "2         443  444      Ridglingshod       Health     2011.0       23.0    CA   \n",
       "3         245  246  Circinuscategory  IT Services     2013.0       32.0    NJ   \n",
       "4         240  241     Sounderfibber  IT Services     2011.0      372.0    MN   \n",
       "\n",
       "         City       Revenue           Expenses     Profit Growth  \n",
       "0      Boston    $61,78,217  4,916,737 Dollars  1261480.0    17%  \n",
       "1      Medley  $1,27,29,198  7,494,847 Dollars  5234351.0     9%  \n",
       "2   San Diego    $82,93,498  8,165,133 Dollars   128365.0     9%  \n",
       "3    Cranbury  $1,49,20,255  5,274,251 Dollars  9646004.0    28%  \n",
       "4  Minnetonka  $1,47,27,740  6,403,759 Dollars  8323981.0    21%  "
      ]
     },
     "execution_count": 3,
     "metadata": {},
     "output_type": "execute_result"
    }
   ],
   "source": [
    "data.head()"
   ]
  },
  {
   "cell_type": "code",
   "execution_count": 4,
   "metadata": {},
   "outputs": [],
   "source": [
    "data.drop('Unnamed: 0', axis=1, inplace=True)"
   ]
  },
  {
   "cell_type": "code",
   "execution_count": 5,
   "metadata": {},
   "outputs": [
    {
     "data": {
      "text/plain": [
       "Index(['ID', 'Name', 'Industry', 'Inception', 'Employees', 'State', 'City',\n",
       "       'Revenue', 'Expenses', 'Profit', 'Growth'],\n",
       "      dtype='object')"
      ]
     },
     "execution_count": 5,
     "metadata": {},
     "output_type": "execute_result"
    }
   ],
   "source": [
    "data.columns"
   ]
  },
  {
   "cell_type": "code",
   "execution_count": 6,
   "metadata": {},
   "outputs": [],
   "source": [
    "import missingno as msno"
   ]
  },
  {
   "cell_type": "markdown",
   "metadata": {},
   "source": [
    "# Missing Values:"
   ]
  },
  {
   "cell_type": "markdown",
   "metadata": {},
   "source": [
    "1. Are there any anomalies (unusual data or missing values) in the given dataset? Support your answer with appropriate argument."
   ]
  },
  {
   "cell_type": "code",
   "execution_count": 7,
   "metadata": {},
   "outputs": [
    {
     "data": {
      "text/plain": [
       "7"
      ]
     },
     "execution_count": 7,
     "metadata": {},
     "output_type": "execute_result"
    }
   ],
   "source": [
    "data.isnull().any().sum()"
   ]
  },
  {
   "cell_type": "code",
   "execution_count": 8,
   "metadata": {},
   "outputs": [
    {
     "data": {
      "text/plain": [
       "0"
      ]
     },
     "execution_count": 8,
     "metadata": {},
     "output_type": "execute_result"
    }
   ],
   "source": [
    "data.duplicated().sum()"
   ]
  },
  {
   "cell_type": "code",
   "execution_count": 9,
   "metadata": {},
   "outputs": [
    {
     "data": {
      "text/plain": [
       "<AxesSubplot:>"
      ]
     },
     "execution_count": 9,
     "metadata": {},
     "output_type": "execute_result"
    },
    {
     "data": {
      "image/png": "[encoded data removed]",
      "text/plain": [
       "<Figure size 1800x720 with 3 Axes>"
      ]
     },
     "metadata": {
      "needs_background": "light"
     },
     "output_type": "display_data"
    }
   ],
   "source": [
    "msno.bar(data)"
   ]
  },
  {
   "cell_type": "markdown",
   "metadata": {},
   "source": [
    "There are no missing values nor duplicates in the dataset"
   ]
  },
  {
   "cell_type": "markdown",
   "metadata": {},
   "source": [
    "2. List two possible strategies to handle cases with missing values in data (if applicable) & provide appropriate reasoning?"
   ]
  },
  {
   "cell_type": "markdown",
   "metadata": {},
   "source": [
    "Filling missing values with the mean; We fill with the mean when the data is normally distributed. And also mean can be used when filling missing values for continuous variables.\n",
    "\n",
    "Filling missing values with the median : We fill with median when the data is skewed.\n",
    "\n",
    "Filling with mode ' This is for categorical data.\n",
    "\n",
    "Dropping the missing values : we can drop if there are not many or if they do not affect our data in terms loosing valuable information."
   ]
  },
  {
   "cell_type": "markdown",
   "metadata": {},
   "source": [
    "# Data Cleaning"
   ]
  },
  {
   "cell_type": "code",
   "execution_count": 10,
   "metadata": {},
   "outputs": [],
   "source": [
    "# Remove the dollar sign and commas in 'Revenue'\n",
    "data['Revenue'] = data['Revenue'].replace({'\\$': '', ',': ''}, regex=True)\n",
    "\n",
    "# Remove the word 'Dollars' and commas in 'Expenses'\n",
    "data['Expenses'] = data['Expenses'].replace({' Dollars': '', ',': ''}, regex=True)\n",
    "\n",
    "# Remove commas in 'Growth'\n",
    "data['Growth'] = data['Growth'].replace({'%': ''}, regex=True)"
   ]
  },
  {
   "cell_type": "code",
   "execution_count": 11,
   "metadata": {},
   "outputs": [],
   "source": [
    "data['Employees'].fillna(0, inplace=True)\n",
    "data['Inception'].fillna(0, inplace=True)\n",
    "data['Revenue'].fillna(0, inplace=True)\n",
    "data['Expenses'].fillna(0, inplace=True)\n",
    "data['Growth'].fillna(0, inplace=True)"
   ]
  },
  {
   "cell_type": "code",
   "execution_count": 12,
   "metadata": {},
   "outputs": [],
   "source": [
    "# Remove the dot and trailing zeros from 'Inception' and 'Employees'\n",
    "data['Inception'] = data['Inception'].astype(str).str.replace(r'\\.0+$', '').astype(int)\n",
    "data['Employees'] = data['Employees'].astype(str).str.replace(r'\\.0+$', '').astype(int)\n"
   ]
  },
  {
   "cell_type": "code",
   "execution_count": 13,
   "metadata": {},
   "outputs": [
    {
     "data": {
      "text/html": [
       "<div>\n",
       "<style scoped>\n",
       "    .dataframe tbody tr th:only-of-type {\n",
       "        vertical-align: middle;\n",
       "    }\n",
       "\n",
       "    .dataframe tbody tr th {\n",
       "        vertical-align: top;\n",
       "    }\n",
       "\n",
       "    .dataframe thead th {\n",
       "        text-align: right;\n",
       "    }\n",
       "</style>\n",
       "<table border=\"1\" class=\"dataframe\">\n",
       "  <thead>\n",
       "    <tr style=\"text-align: right;\">\n",
       "      <th></th>\n",
       "      <th>ID</th>\n",
       "      <th>Name</th>\n",
       "      <th>Industry</th>\n",
       "      <th>Inception</th>\n",
       "      <th>Employees</th>\n",
       "      <th>State</th>\n",
       "      <th>City</th>\n",
       "      <th>Revenue</th>\n",
       "      <th>Expenses</th>\n",
       "      <th>Profit</th>\n",
       "      <th>Growth</th>\n",
       "    </tr>\n",
       "  </thead>\n",
       "  <tbody>\n",
       "    <tr>\n",
       "      <th>0</th>\n",
       "      <td>134</td>\n",
       "      <td>Sub-Fan</td>\n",
       "      <td>Software</td>\n",
       "      <td>2014</td>\n",
       "      <td>24</td>\n",
       "      <td>MA</td>\n",
       "      <td>Boston</td>\n",
       "      <td>6178217</td>\n",
       "      <td>4916737</td>\n",
       "      <td>1261480.0</td>\n",
       "      <td>17</td>\n",
       "    </tr>\n",
       "    <tr>\n",
       "      <th>1</th>\n",
       "      <td>289</td>\n",
       "      <td>Annoyhog</td>\n",
       "      <td>Health</td>\n",
       "      <td>2009</td>\n",
       "      <td>90</td>\n",
       "      <td>FL</td>\n",
       "      <td>Medley</td>\n",
       "      <td>12729198</td>\n",
       "      <td>7494847</td>\n",
       "      <td>5234351.0</td>\n",
       "      <td>9</td>\n",
       "    </tr>\n",
       "    <tr>\n",
       "      <th>2</th>\n",
       "      <td>444</td>\n",
       "      <td>Ridglingshod</td>\n",
       "      <td>Health</td>\n",
       "      <td>2011</td>\n",
       "      <td>23</td>\n",
       "      <td>CA</td>\n",
       "      <td>San Diego</td>\n",
       "      <td>8293498</td>\n",
       "      <td>8165133</td>\n",
       "      <td>128365.0</td>\n",
       "      <td>9</td>\n",
       "    </tr>\n",
       "    <tr>\n",
       "      <th>3</th>\n",
       "      <td>246</td>\n",
       "      <td>Circinuscategory</td>\n",
       "      <td>IT Services</td>\n",
       "      <td>2013</td>\n",
       "      <td>32</td>\n",
       "      <td>NJ</td>\n",
       "      <td>Cranbury</td>\n",
       "      <td>14920255</td>\n",
       "      <td>5274251</td>\n",
       "      <td>9646004.0</td>\n",
       "      <td>28</td>\n",
       "    </tr>\n",
       "    <tr>\n",
       "      <th>4</th>\n",
       "      <td>241</td>\n",
       "      <td>Sounderfibber</td>\n",
       "      <td>IT Services</td>\n",
       "      <td>2011</td>\n",
       "      <td>372</td>\n",
       "      <td>MN</td>\n",
       "      <td>Minnetonka</td>\n",
       "      <td>14727740</td>\n",
       "      <td>6403759</td>\n",
       "      <td>8323981.0</td>\n",
       "      <td>21</td>\n",
       "    </tr>\n",
       "  </tbody>\n",
       "</table>\n",
       "</div>"
      ],
      "text/plain": [
       "    ID              Name     Industry  Inception  Employees State        City  \\\n",
       "0  134           Sub-Fan     Software       2014         24    MA      Boston   \n",
       "1  289          Annoyhog       Health       2009         90    FL      Medley   \n",
       "2  444      Ridglingshod       Health       2011         23    CA   San Diego   \n",
       "3  246  Circinuscategory  IT Services       2013         32    NJ    Cranbury   \n",
       "4  241     Sounderfibber  IT Services       2011        372    MN  Minnetonka   \n",
       "\n",
       "    Revenue Expenses     Profit Growth  \n",
       "0   6178217  4916737  1261480.0     17  \n",
       "1  12729198  7494847  5234351.0      9  \n",
       "2   8293498  8165133   128365.0      9  \n",
       "3  14920255  5274251  9646004.0     28  \n",
       "4  14727740  6403759  8323981.0     21  "
      ]
     },
     "execution_count": 13,
     "metadata": {},
     "output_type": "execute_result"
    }
   ],
   "source": [
    "data.head()"
   ]
  },
  {
   "cell_type": "code",
   "execution_count": 14,
   "metadata": {},
   "outputs": [
    {
     "name": "stdout",
     "output_type": "stream",
     "text": [
      "<class 'pandas.core.frame.DataFrame'>\n",
      "RangeIndex: 350 entries, 0 to 349\n",
      "Data columns (total 11 columns):\n",
      " #   Column     Non-Null Count  Dtype  \n",
      "---  ------     --------------  -----  \n",
      " 0   ID         350 non-null    int64  \n",
      " 1   Name       350 non-null    object \n",
      " 2   Industry   348 non-null    object \n",
      " 3   Inception  350 non-null    int32  \n",
      " 4   Employees  350 non-null    int32  \n",
      " 5   State      347 non-null    object \n",
      " 6   City       350 non-null    object \n",
      " 7   Revenue    350 non-null    object \n",
      " 8   Expenses   350 non-null    object \n",
      " 9   Profit     348 non-null    float64\n",
      " 10  Growth     350 non-null    object \n",
      "dtypes: float64(1), int32(2), int64(1), object(7)\n",
      "memory usage: 27.5+ KB\n"
     ]
    }
   ],
   "source": [
    "data.info()"
   ]
  },
  {
   "cell_type": "code",
   "execution_count": 15,
   "metadata": {},
   "outputs": [],
   "source": [
    "data['Revenue'] = data['Revenue'].astype(float)\n",
    "data['Expenses'] = data['Expenses'].astype(int)\n",
    "data['Growth'] = data['Growth'].astype(int)"
   ]
  },
  {
   "cell_type": "code",
   "execution_count": 16,
   "metadata": {},
   "outputs": [
    {
     "name": "stdout",
     "output_type": "stream",
     "text": [
      "<class 'pandas.core.frame.DataFrame'>\n",
      "RangeIndex: 350 entries, 0 to 349\n",
      "Data columns (total 11 columns):\n",
      " #   Column     Non-Null Count  Dtype  \n",
      "---  ------     --------------  -----  \n",
      " 0   ID         350 non-null    int64  \n",
      " 1   Name       350 non-null    object \n",
      " 2   Industry   348 non-null    object \n",
      " 3   Inception  350 non-null    int32  \n",
      " 4   Employees  350 non-null    int32  \n",
      " 5   State      347 non-null    object \n",
      " 6   City       350 non-null    object \n",
      " 7   Revenue    350 non-null    float64\n",
      " 8   Expenses   350 non-null    int32  \n",
      " 9   Profit     348 non-null    float64\n",
      " 10  Growth     350 non-null    int32  \n",
      "dtypes: float64(2), int32(4), int64(1), object(4)\n",
      "memory usage: 24.7+ KB\n"
     ]
    }
   ],
   "source": [
    "data.info()"
   ]
  },
  {
   "cell_type": "code",
   "execution_count": 17,
   "metadata": {},
   "outputs": [
    {
     "data": {
      "text/html": [
       "<div>\n",
       "<style scoped>\n",
       "    .dataframe tbody tr th:only-of-type {\n",
       "        vertical-align: middle;\n",
       "    }\n",
       "\n",
       "    .dataframe tbody tr th {\n",
       "        vertical-align: top;\n",
       "    }\n",
       "\n",
       "    .dataframe thead th {\n",
       "        text-align: right;\n",
       "    }\n",
       "</style>\n",
       "<table border=\"1\" class=\"dataframe\">\n",
       "  <thead>\n",
       "    <tr style=\"text-align: right;\">\n",
       "      <th></th>\n",
       "      <th>ID</th>\n",
       "      <th>Name</th>\n",
       "      <th>Industry</th>\n",
       "      <th>Inception</th>\n",
       "      <th>Employees</th>\n",
       "      <th>State</th>\n",
       "      <th>City</th>\n",
       "      <th>Revenue</th>\n",
       "      <th>Expenses</th>\n",
       "      <th>Profit</th>\n",
       "      <th>Growth</th>\n",
       "    </tr>\n",
       "  </thead>\n",
       "  <tbody>\n",
       "    <tr>\n",
       "      <th>0</th>\n",
       "      <td>134</td>\n",
       "      <td>Sub-Fan</td>\n",
       "      <td>Software</td>\n",
       "      <td>2014</td>\n",
       "      <td>24</td>\n",
       "      <td>MA</td>\n",
       "      <td>Boston</td>\n",
       "      <td>6178217.0</td>\n",
       "      <td>4916737</td>\n",
       "      <td>1261480.0</td>\n",
       "      <td>17</td>\n",
       "    </tr>\n",
       "    <tr>\n",
       "      <th>1</th>\n",
       "      <td>289</td>\n",
       "      <td>Annoyhog</td>\n",
       "      <td>Health</td>\n",
       "      <td>2009</td>\n",
       "      <td>90</td>\n",
       "      <td>FL</td>\n",
       "      <td>Medley</td>\n",
       "      <td>12729198.0</td>\n",
       "      <td>7494847</td>\n",
       "      <td>5234351.0</td>\n",
       "      <td>9</td>\n",
       "    </tr>\n",
       "    <tr>\n",
       "      <th>2</th>\n",
       "      <td>444</td>\n",
       "      <td>Ridglingshod</td>\n",
       "      <td>Health</td>\n",
       "      <td>2011</td>\n",
       "      <td>23</td>\n",
       "      <td>CA</td>\n",
       "      <td>San Diego</td>\n",
       "      <td>8293498.0</td>\n",
       "      <td>8165133</td>\n",
       "      <td>128365.0</td>\n",
       "      <td>9</td>\n",
       "    </tr>\n",
       "    <tr>\n",
       "      <th>3</th>\n",
       "      <td>246</td>\n",
       "      <td>Circinuscategory</td>\n",
       "      <td>IT Services</td>\n",
       "      <td>2013</td>\n",
       "      <td>32</td>\n",
       "      <td>NJ</td>\n",
       "      <td>Cranbury</td>\n",
       "      <td>14920255.0</td>\n",
       "      <td>5274251</td>\n",
       "      <td>9646004.0</td>\n",
       "      <td>28</td>\n",
       "    </tr>\n",
       "    <tr>\n",
       "      <th>4</th>\n",
       "      <td>241</td>\n",
       "      <td>Sounderfibber</td>\n",
       "      <td>IT Services</td>\n",
       "      <td>2011</td>\n",
       "      <td>372</td>\n",
       "      <td>MN</td>\n",
       "      <td>Minnetonka</td>\n",
       "      <td>14727740.0</td>\n",
       "      <td>6403759</td>\n",
       "      <td>8323981.0</td>\n",
       "      <td>21</td>\n",
       "    </tr>\n",
       "  </tbody>\n",
       "</table>\n",
       "</div>"
      ],
      "text/plain": [
       "    ID              Name     Industry  Inception  Employees State        City  \\\n",
       "0  134           Sub-Fan     Software       2014         24    MA      Boston   \n",
       "1  289          Annoyhog       Health       2009         90    FL      Medley   \n",
       "2  444      Ridglingshod       Health       2011         23    CA   San Diego   \n",
       "3  246  Circinuscategory  IT Services       2013         32    NJ    Cranbury   \n",
       "4  241     Sounderfibber  IT Services       2011        372    MN  Minnetonka   \n",
       "\n",
       "      Revenue  Expenses     Profit  Growth  \n",
       "0   6178217.0   4916737  1261480.0      17  \n",
       "1  12729198.0   7494847  5234351.0       9  \n",
       "2   8293498.0   8165133   128365.0       9  \n",
       "3  14920255.0   5274251  9646004.0      28  \n",
       "4  14727740.0   6403759  8323981.0      21  "
      ]
     },
     "execution_count": 17,
     "metadata": {},
     "output_type": "execute_result"
    }
   ],
   "source": [
    "data.head()"
   ]
  },
  {
   "cell_type": "code",
   "execution_count": 18,
   "metadata": {},
   "outputs": [
    {
     "data": {
      "text/html": [
       "<div>\n",
       "<style scoped>\n",
       "    .dataframe tbody tr th:only-of-type {\n",
       "        vertical-align: middle;\n",
       "    }\n",
       "\n",
       "    .dataframe tbody tr th {\n",
       "        vertical-align: top;\n",
       "    }\n",
       "\n",
       "    .dataframe thead th {\n",
       "        text-align: right;\n",
       "    }\n",
       "</style>\n",
       "<table border=\"1\" class=\"dataframe\">\n",
       "  <thead>\n",
       "    <tr style=\"text-align: right;\">\n",
       "      <th></th>\n",
       "      <th>ID</th>\n",
       "      <th>Inception</th>\n",
       "      <th>Employees</th>\n",
       "      <th>Revenue</th>\n",
       "      <th>Expenses</th>\n",
       "      <th>Profit</th>\n",
       "      <th>Growth</th>\n",
       "    </tr>\n",
       "  </thead>\n",
       "  <tbody>\n",
       "    <tr>\n",
       "      <th>count</th>\n",
       "      <td>350.000000</td>\n",
       "      <td>350.000000</td>\n",
       "      <td>350.000000</td>\n",
       "      <td>3.500000e+02</td>\n",
       "      <td>3.500000e+02</td>\n",
       "      <td>3.480000e+02</td>\n",
       "      <td>350.000000</td>\n",
       "    </tr>\n",
       "    <tr>\n",
       "      <th>mean</th>\n",
       "      <td>248.762857</td>\n",
       "      <td>2010.331429</td>\n",
       "      <td>147.082857</td>\n",
       "      <td>1.079311e+07</td>\n",
       "      <td>4.192546e+06</td>\n",
       "      <td>6.632466e+06</td>\n",
       "      <td>14.282857</td>\n",
       "    </tr>\n",
       "    <tr>\n",
       "      <th>std</th>\n",
       "      <td>143.577314</td>\n",
       "      <td>3.051400</td>\n",
       "      <td>432.281721</td>\n",
       "      <td>3.284496e+06</td>\n",
       "      <td>2.109258e+06</td>\n",
       "      <td>3.809704e+06</td>\n",
       "      <td>6.798996</td>\n",
       "    </tr>\n",
       "    <tr>\n",
       "      <th>min</th>\n",
       "      <td>2.000000</td>\n",
       "      <td>1999.000000</td>\n",
       "      <td>0.000000</td>\n",
       "      <td>0.000000e+00</td>\n",
       "      <td>0.000000e+00</td>\n",
       "      <td>1.243400e+04</td>\n",
       "      <td>-3.000000</td>\n",
       "    </tr>\n",
       "    <tr>\n",
       "      <th>25%</th>\n",
       "      <td>123.250000</td>\n",
       "      <td>2009.000000</td>\n",
       "      <td>26.000000</td>\n",
       "      <td>8.697276e+06</td>\n",
       "      <td>2.662454e+06</td>\n",
       "      <td>3.672650e+06</td>\n",
       "      <td>8.000000</td>\n",
       "    </tr>\n",
       "    <tr>\n",
       "      <th>50%</th>\n",
       "      <td>250.500000</td>\n",
       "      <td>2011.000000</td>\n",
       "      <td>55.000000</td>\n",
       "      <td>1.067974e+07</td>\n",
       "      <td>4.192102e+06</td>\n",
       "      <td>6.586320e+06</td>\n",
       "      <td>15.000000</td>\n",
       "    </tr>\n",
       "    <tr>\n",
       "      <th>75%</th>\n",
       "      <td>368.750000</td>\n",
       "      <td>2012.000000</td>\n",
       "      <td>124.000000</td>\n",
       "      <td>1.300962e+07</td>\n",
       "      <td>5.667252e+06</td>\n",
       "      <td>9.382582e+06</td>\n",
       "      <td>20.000000</td>\n",
       "    </tr>\n",
       "    <tr>\n",
       "      <th>max</th>\n",
       "      <td>500.000000</td>\n",
       "      <td>2014.000000</td>\n",
       "      <td>7125.000000</td>\n",
       "      <td>2.181005e+07</td>\n",
       "      <td>9.860686e+06</td>\n",
       "      <td>1.962453e+07</td>\n",
       "      <td>30.000000</td>\n",
       "    </tr>\n",
       "  </tbody>\n",
       "</table>\n",
       "</div>"
      ],
      "text/plain": [
       "               ID    Inception    Employees       Revenue      Expenses  \\\n",
       "count  350.000000   350.000000   350.000000  3.500000e+02  3.500000e+02   \n",
       "mean   248.762857  2010.331429   147.082857  1.079311e+07  4.192546e+06   \n",
       "std    143.577314     3.051400   432.281721  3.284496e+06  2.109258e+06   \n",
       "min      2.000000  1999.000000     0.000000  0.000000e+00  0.000000e+00   \n",
       "25%    123.250000  2009.000000    26.000000  8.697276e+06  2.662454e+06   \n",
       "50%    250.500000  2011.000000    55.000000  1.067974e+07  4.192102e+06   \n",
       "75%    368.750000  2012.000000   124.000000  1.300962e+07  5.667252e+06   \n",
       "max    500.000000  2014.000000  7125.000000  2.181005e+07  9.860686e+06   \n",
       "\n",
       "             Profit      Growth  \n",
       "count  3.480000e+02  350.000000  \n",
       "mean   6.632466e+06   14.282857  \n",
       "std    3.809704e+06    6.798996  \n",
       "min    1.243400e+04   -3.000000  \n",
       "25%    3.672650e+06    8.000000  \n",
       "50%    6.586320e+06   15.000000  \n",
       "75%    9.382582e+06   20.000000  \n",
       "max    1.962453e+07   30.000000  "
      ]
     },
     "execution_count": 18,
     "metadata": {},
     "output_type": "execute_result"
    }
   ],
   "source": [
    "data.describe()"
   ]
  },
  {
   "cell_type": "code",
   "execution_count": 19,
   "metadata": {},
   "outputs": [
    {
     "data": {
      "text/plain": [
       "ID           0\n",
       "Name         0\n",
       "Industry     2\n",
       "Inception    0\n",
       "Employees    0\n",
       "State        3\n",
       "City         0\n",
       "Revenue      0\n",
       "Expenses     0\n",
       "Profit       2\n",
       "Growth       0\n",
       "dtype: int64"
      ]
     },
     "execution_count": 19,
     "metadata": {},
     "output_type": "execute_result"
    }
   ],
   "source": [
    "data.isnull().sum()"
   ]
  },
  {
   "cell_type": "code",
   "execution_count": 20,
   "metadata": {},
   "outputs": [
    {
     "data": {
      "text/html": [
       "<div>\n",
       "<style scoped>\n",
       "    .dataframe tbody tr th:only-of-type {\n",
       "        vertical-align: middle;\n",
       "    }\n",
       "\n",
       "    .dataframe tbody tr th {\n",
       "        vertical-align: top;\n",
       "    }\n",
       "\n",
       "    .dataframe thead th {\n",
       "        text-align: right;\n",
       "    }\n",
       "</style>\n",
       "<table border=\"1\" class=\"dataframe\">\n",
       "  <thead>\n",
       "    <tr style=\"text-align: right;\">\n",
       "      <th></th>\n",
       "      <th>ID</th>\n",
       "      <th>Name</th>\n",
       "      <th>Industry</th>\n",
       "      <th>Inception</th>\n",
       "      <th>Employees</th>\n",
       "      <th>State</th>\n",
       "      <th>City</th>\n",
       "      <th>Revenue</th>\n",
       "      <th>Expenses</th>\n",
       "      <th>Profit</th>\n",
       "      <th>Growth</th>\n",
       "    </tr>\n",
       "  </thead>\n",
       "  <tbody>\n",
       "    <tr>\n",
       "      <th>53</th>\n",
       "      <td>15</td>\n",
       "      <td>Cityace</td>\n",
       "      <td>NaN</td>\n",
       "      <td>2010</td>\n",
       "      <td>25</td>\n",
       "      <td>CO</td>\n",
       "      <td>Louisville</td>\n",
       "      <td>9254614.0</td>\n",
       "      <td>6249498</td>\n",
       "      <td>3005116.0</td>\n",
       "      <td>6</td>\n",
       "    </tr>\n",
       "    <tr>\n",
       "      <th>84</th>\n",
       "      <td>14</td>\n",
       "      <td>Techline</td>\n",
       "      <td>NaN</td>\n",
       "      <td>2006</td>\n",
       "      <td>65</td>\n",
       "      <td>CA</td>\n",
       "      <td>San Ramon</td>\n",
       "      <td>13898119.0</td>\n",
       "      <td>5470303</td>\n",
       "      <td>8427816.0</td>\n",
       "      <td>23</td>\n",
       "    </tr>\n",
       "  </tbody>\n",
       "</table>\n",
       "</div>"
      ],
      "text/plain": [
       "    ID      Name Industry  Inception  Employees State        City     Revenue  \\\n",
       "53  15   Cityace      NaN       2010         25    CO  Louisville   9254614.0   \n",
       "84  14  Techline      NaN       2006         65    CA   San Ramon  13898119.0   \n",
       "\n",
       "    Expenses     Profit  Growth  \n",
       "53   6249498  3005116.0       6  \n",
       "84   5470303  8427816.0      23  "
      ]
     },
     "execution_count": 20,
     "metadata": {},
     "output_type": "execute_result"
    }
   ],
   "source": [
    "# Slice to see rows with missing values in 'Industry'\n",
    "missing_industry = data[data['Industry'].isnull()]\n",
    "missing_industry"
   ]
  },
  {
   "cell_type": "code",
   "execution_count": 21,
   "metadata": {},
   "outputs": [
    {
     "data": {
      "text/html": [
       "<div>\n",
       "<style scoped>\n",
       "    .dataframe tbody tr th:only-of-type {\n",
       "        vertical-align: middle;\n",
       "    }\n",
       "\n",
       "    .dataframe tbody tr th {\n",
       "        vertical-align: top;\n",
       "    }\n",
       "\n",
       "    .dataframe thead th {\n",
       "        text-align: right;\n",
       "    }\n",
       "</style>\n",
       "<table border=\"1\" class=\"dataframe\">\n",
       "  <thead>\n",
       "    <tr style=\"text-align: right;\">\n",
       "      <th></th>\n",
       "      <th>ID</th>\n",
       "      <th>Name</th>\n",
       "      <th>Industry</th>\n",
       "      <th>Inception</th>\n",
       "      <th>Employees</th>\n",
       "      <th>State</th>\n",
       "      <th>City</th>\n",
       "      <th>Revenue</th>\n",
       "      <th>Expenses</th>\n",
       "      <th>Profit</th>\n",
       "      <th>Growth</th>\n",
       "    </tr>\n",
       "  </thead>\n",
       "  <tbody>\n",
       "    <tr>\n",
       "      <th>236</th>\n",
       "      <td>267</td>\n",
       "      <td>Circlechop</td>\n",
       "      <td>Software</td>\n",
       "      <td>2010</td>\n",
       "      <td>14</td>\n",
       "      <td>NaN</td>\n",
       "      <td>San Francisco</td>\n",
       "      <td>9067070.0</td>\n",
       "      <td>5929828</td>\n",
       "      <td>3137242.0</td>\n",
       "      <td>20</td>\n",
       "    </tr>\n",
       "    <tr>\n",
       "      <th>251</th>\n",
       "      <td>84</td>\n",
       "      <td>Drilldrill</td>\n",
       "      <td>Software</td>\n",
       "      <td>2010</td>\n",
       "      <td>30</td>\n",
       "      <td>NaN</td>\n",
       "      <td>San Francisco</td>\n",
       "      <td>7800620.0</td>\n",
       "      <td>2785799</td>\n",
       "      <td>5014821.0</td>\n",
       "      <td>17</td>\n",
       "    </tr>\n",
       "    <tr>\n",
       "      <th>301</th>\n",
       "      <td>11</td>\n",
       "      <td>Canecorporation</td>\n",
       "      <td>Health</td>\n",
       "      <td>2012</td>\n",
       "      <td>6</td>\n",
       "      <td>NaN</td>\n",
       "      <td>New York</td>\n",
       "      <td>10597009.0</td>\n",
       "      <td>7591189</td>\n",
       "      <td>3005820.0</td>\n",
       "      <td>7</td>\n",
       "    </tr>\n",
       "  </tbody>\n",
       "</table>\n",
       "</div>"
      ],
      "text/plain": [
       "      ID             Name  Industry  Inception  Employees State  \\\n",
       "236  267       Circlechop  Software       2010         14   NaN   \n",
       "251   84       Drilldrill  Software       2010         30   NaN   \n",
       "301   11  Canecorporation    Health       2012          6   NaN   \n",
       "\n",
       "              City     Revenue  Expenses     Profit  Growth  \n",
       "236  San Francisco   9067070.0   5929828  3137242.0      20  \n",
       "251  San Francisco   7800620.0   2785799  5014821.0      17  \n",
       "301       New York  10597009.0   7591189  3005820.0       7  "
      ]
     },
     "execution_count": 21,
     "metadata": {},
     "output_type": "execute_result"
    }
   ],
   "source": [
    "# Slice to see rows with missing values in 'State'\n",
    "missing_state = data[data['State'].isnull()]\n",
    "missing_state"
   ]
  },
  {
   "cell_type": "code",
   "execution_count": 22,
   "metadata": {},
   "outputs": [
    {
     "data": {
      "text/html": [
       "<div>\n",
       "<style scoped>\n",
       "    .dataframe tbody tr th:only-of-type {\n",
       "        vertical-align: middle;\n",
       "    }\n",
       "\n",
       "    .dataframe tbody tr th {\n",
       "        vertical-align: top;\n",
       "    }\n",
       "\n",
       "    .dataframe thead th {\n",
       "        text-align: right;\n",
       "    }\n",
       "</style>\n",
       "<table border=\"1\" class=\"dataframe\">\n",
       "  <thead>\n",
       "    <tr style=\"text-align: right;\">\n",
       "      <th></th>\n",
       "      <th>State</th>\n",
       "      <th>City</th>\n",
       "    </tr>\n",
       "  </thead>\n",
       "  <tbody>\n",
       "    <tr>\n",
       "      <th>18</th>\n",
       "      <td>NY</td>\n",
       "      <td>New York</td>\n",
       "    </tr>\n",
       "    <tr>\n",
       "      <th>77</th>\n",
       "      <td>NY</td>\n",
       "      <td>New York</td>\n",
       "    </tr>\n",
       "    <tr>\n",
       "      <th>79</th>\n",
       "      <td>NY</td>\n",
       "      <td>New York</td>\n",
       "    </tr>\n",
       "    <tr>\n",
       "      <th>89</th>\n",
       "      <td>NY</td>\n",
       "      <td>New York</td>\n",
       "    </tr>\n",
       "    <tr>\n",
       "      <th>95</th>\n",
       "      <td>NY</td>\n",
       "      <td>New York</td>\n",
       "    </tr>\n",
       "    <tr>\n",
       "      <th>187</th>\n",
       "      <td>NY</td>\n",
       "      <td>New York</td>\n",
       "    </tr>\n",
       "    <tr>\n",
       "      <th>235</th>\n",
       "      <td>NY</td>\n",
       "      <td>New York</td>\n",
       "    </tr>\n",
       "    <tr>\n",
       "      <th>236</th>\n",
       "      <td>NaN</td>\n",
       "      <td>San Francisco</td>\n",
       "    </tr>\n",
       "    <tr>\n",
       "      <th>244</th>\n",
       "      <td>NY</td>\n",
       "      <td>New York</td>\n",
       "    </tr>\n",
       "    <tr>\n",
       "      <th>251</th>\n",
       "      <td>NaN</td>\n",
       "      <td>San Francisco</td>\n",
       "    </tr>\n",
       "    <tr>\n",
       "      <th>289</th>\n",
       "      <td>NY</td>\n",
       "      <td>New York</td>\n",
       "    </tr>\n",
       "    <tr>\n",
       "      <th>301</th>\n",
       "      <td>NaN</td>\n",
       "      <td>New York</td>\n",
       "    </tr>\n",
       "  </tbody>\n",
       "</table>\n",
       "</div>"
      ],
      "text/plain": [
       "    State           City\n",
       "18     NY       New York\n",
       "77     NY       New York\n",
       "79     NY       New York\n",
       "89     NY       New York\n",
       "95     NY       New York\n",
       "187    NY       New York\n",
       "235    NY       New York\n",
       "236   NaN  San Francisco\n",
       "244    NY       New York\n",
       "251   NaN  San Francisco\n",
       "289    NY       New York\n",
       "301   NaN       New York"
      ]
     },
     "execution_count": 22,
     "metadata": {},
     "output_type": "execute_result"
    }
   ],
   "source": [
    "# Slice out the rows where 'City' is 'San Francisco' or 'New York'\n",
    "filtered_data = data[data['City'].isin(['San Francisco', 'New York'])]\n",
    "\n",
    "# Display the 'State' and 'City' columns of the filtered rows\n",
    "filtered_state_city = filtered_data[['State', 'City']]\n",
    "filtered_state_city\n"
   ]
  },
  {
   "cell_type": "code",
   "execution_count": 23,
   "metadata": {},
   "outputs": [
    {
     "data": {
      "text/html": [
       "<div>\n",
       "<style scoped>\n",
       "    .dataframe tbody tr th:only-of-type {\n",
       "        vertical-align: middle;\n",
       "    }\n",
       "\n",
       "    .dataframe tbody tr th {\n",
       "        vertical-align: top;\n",
       "    }\n",
       "\n",
       "    .dataframe thead th {\n",
       "        text-align: right;\n",
       "    }\n",
       "</style>\n",
       "<table border=\"1\" class=\"dataframe\">\n",
       "  <thead>\n",
       "    <tr style=\"text-align: right;\">\n",
       "      <th></th>\n",
       "      <th>ID</th>\n",
       "      <th>Name</th>\n",
       "      <th>Industry</th>\n",
       "      <th>Inception</th>\n",
       "      <th>Employees</th>\n",
       "      <th>State</th>\n",
       "      <th>City</th>\n",
       "      <th>Revenue</th>\n",
       "      <th>Expenses</th>\n",
       "      <th>Profit</th>\n",
       "      <th>Growth</th>\n",
       "    </tr>\n",
       "  </thead>\n",
       "  <tbody>\n",
       "    <tr>\n",
       "      <th>93</th>\n",
       "      <td>8</td>\n",
       "      <td>Rednimdox</td>\n",
       "      <td>Construction</td>\n",
       "      <td>2013</td>\n",
       "      <td>73</td>\n",
       "      <td>NY</td>\n",
       "      <td>Woodside</td>\n",
       "      <td>0.0</td>\n",
       "      <td>0</td>\n",
       "      <td>NaN</td>\n",
       "      <td>0</td>\n",
       "    </tr>\n",
       "    <tr>\n",
       "      <th>186</th>\n",
       "      <td>44</td>\n",
       "      <td>Ganzgreen</td>\n",
       "      <td>Construction</td>\n",
       "      <td>2010</td>\n",
       "      <td>224</td>\n",
       "      <td>TN</td>\n",
       "      <td>Franklin</td>\n",
       "      <td>0.0</td>\n",
       "      <td>0</td>\n",
       "      <td>NaN</td>\n",
       "      <td>9</td>\n",
       "    </tr>\n",
       "  </tbody>\n",
       "</table>\n",
       "</div>"
      ],
      "text/plain": [
       "     ID       Name      Industry  Inception  Employees State      City  \\\n",
       "93    8  Rednimdox  Construction       2013         73    NY  Woodside   \n",
       "186  44  Ganzgreen  Construction       2010        224    TN  Franklin   \n",
       "\n",
       "     Revenue  Expenses  Profit  Growth  \n",
       "93       0.0         0     NaN       0  \n",
       "186      0.0         0     NaN       9  "
      ]
     },
     "execution_count": 23,
     "metadata": {},
     "output_type": "execute_result"
    }
   ],
   "source": [
    "# Slice to see rows with missing values in 'Profit'\n",
    "missing_profit = data[data['Profit'].isnull()]\n",
    "missing_profit\n"
   ]
  },
  {
   "cell_type": "code",
   "execution_count": 24,
   "metadata": {},
   "outputs": [],
   "source": [
    "# Fill NaN values in 'State' where 'City' is 'New York' with 'NY'\n",
    "data.loc[(data['City'] == 'New York') & (data['State'].isnull()), 'State'] = 'NY'"
   ]
  },
  {
   "cell_type": "code",
   "execution_count": 25,
   "metadata": {},
   "outputs": [
    {
     "data": {
      "text/html": [
       "<div>\n",
       "<style scoped>\n",
       "    .dataframe tbody tr th:only-of-type {\n",
       "        vertical-align: middle;\n",
       "    }\n",
       "\n",
       "    .dataframe tbody tr th {\n",
       "        vertical-align: top;\n",
       "    }\n",
       "\n",
       "    .dataframe thead th {\n",
       "        text-align: right;\n",
       "    }\n",
       "</style>\n",
       "<table border=\"1\" class=\"dataframe\">\n",
       "  <thead>\n",
       "    <tr style=\"text-align: right;\">\n",
       "      <th></th>\n",
       "      <th>ID</th>\n",
       "      <th>Name</th>\n",
       "      <th>Industry</th>\n",
       "      <th>Inception</th>\n",
       "      <th>Employees</th>\n",
       "      <th>State</th>\n",
       "      <th>City</th>\n",
       "      <th>Revenue</th>\n",
       "      <th>Expenses</th>\n",
       "      <th>Profit</th>\n",
       "      <th>Growth</th>\n",
       "    </tr>\n",
       "  </thead>\n",
       "  <tbody>\n",
       "    <tr>\n",
       "      <th>18</th>\n",
       "      <td>325</td>\n",
       "      <td>Monotrichous</td>\n",
       "      <td>Software</td>\n",
       "      <td>2011</td>\n",
       "      <td>12</td>\n",
       "      <td>NY</td>\n",
       "      <td>New York</td>\n",
       "      <td>6203337.0</td>\n",
       "      <td>3660171</td>\n",
       "      <td>2543166.0</td>\n",
       "      <td>22</td>\n",
       "    </tr>\n",
       "    <tr>\n",
       "      <th>77</th>\n",
       "      <td>331</td>\n",
       "      <td>Aspic</td>\n",
       "      <td>Retail</td>\n",
       "      <td>2001</td>\n",
       "      <td>130</td>\n",
       "      <td>NY</td>\n",
       "      <td>New York</td>\n",
       "      <td>10498414.0</td>\n",
       "      <td>4645617</td>\n",
       "      <td>5852797.0</td>\n",
       "      <td>17</td>\n",
       "    </tr>\n",
       "    <tr>\n",
       "      <th>79</th>\n",
       "      <td>66</td>\n",
       "      <td>Zathtone</td>\n",
       "      <td>Software</td>\n",
       "      <td>2009</td>\n",
       "      <td>121</td>\n",
       "      <td>NY</td>\n",
       "      <td>New York</td>\n",
       "      <td>8953759.0</td>\n",
       "      <td>4069681</td>\n",
       "      <td>4884078.0</td>\n",
       "      <td>21</td>\n",
       "    </tr>\n",
       "    <tr>\n",
       "      <th>89</th>\n",
       "      <td>419</td>\n",
       "      <td>Twistedelephant</td>\n",
       "      <td>IT Services</td>\n",
       "      <td>2011</td>\n",
       "      <td>150</td>\n",
       "      <td>NY</td>\n",
       "      <td>New York</td>\n",
       "      <td>16917213.0</td>\n",
       "      <td>2814394</td>\n",
       "      <td>14102819.0</td>\n",
       "      <td>16</td>\n",
       "    </tr>\n",
       "    <tr>\n",
       "      <th>95</th>\n",
       "      <td>474</td>\n",
       "      <td>Valuesbilled</td>\n",
       "      <td>IT Services</td>\n",
       "      <td>2013</td>\n",
       "      <td>95</td>\n",
       "      <td>NY</td>\n",
       "      <td>New York</td>\n",
       "      <td>13214550.0</td>\n",
       "      <td>7479813</td>\n",
       "      <td>5734737.0</td>\n",
       "      <td>20</td>\n",
       "    </tr>\n",
       "    <tr>\n",
       "      <th>187</th>\n",
       "      <td>337</td>\n",
       "      <td>Asynchronous</td>\n",
       "      <td>Health</td>\n",
       "      <td>2013</td>\n",
       "      <td>22</td>\n",
       "      <td>NY</td>\n",
       "      <td>New York</td>\n",
       "      <td>8720504.0</td>\n",
       "      <td>2632756</td>\n",
       "      <td>6087748.0</td>\n",
       "      <td>1</td>\n",
       "    </tr>\n",
       "    <tr>\n",
       "      <th>235</th>\n",
       "      <td>132</td>\n",
       "      <td>Nimlux</td>\n",
       "      <td>Financial Services</td>\n",
       "      <td>2013</td>\n",
       "      <td>285</td>\n",
       "      <td>NY</td>\n",
       "      <td>New York</td>\n",
       "      <td>7753213.0</td>\n",
       "      <td>1117206</td>\n",
       "      <td>6636007.0</td>\n",
       "      <td>18</td>\n",
       "    </tr>\n",
       "    <tr>\n",
       "      <th>244</th>\n",
       "      <td>370</td>\n",
       "      <td>Haulbittern</td>\n",
       "      <td>IT Services</td>\n",
       "      <td>2010</td>\n",
       "      <td>138</td>\n",
       "      <td>NY</td>\n",
       "      <td>New York</td>\n",
       "      <td>15104143.0</td>\n",
       "      <td>4177864</td>\n",
       "      <td>10926279.0</td>\n",
       "      <td>24</td>\n",
       "    </tr>\n",
       "    <tr>\n",
       "      <th>289</th>\n",
       "      <td>215</td>\n",
       "      <td>Nervousdispatcher</td>\n",
       "      <td>Financial Services</td>\n",
       "      <td>2011</td>\n",
       "      <td>80</td>\n",
       "      <td>NY</td>\n",
       "      <td>New York</td>\n",
       "      <td>6955439.0</td>\n",
       "      <td>409237</td>\n",
       "      <td>6546202.0</td>\n",
       "      <td>16</td>\n",
       "    </tr>\n",
       "    <tr>\n",
       "      <th>301</th>\n",
       "      <td>11</td>\n",
       "      <td>Canecorporation</td>\n",
       "      <td>Health</td>\n",
       "      <td>2012</td>\n",
       "      <td>6</td>\n",
       "      <td>NY</td>\n",
       "      <td>New York</td>\n",
       "      <td>10597009.0</td>\n",
       "      <td>7591189</td>\n",
       "      <td>3005820.0</td>\n",
       "      <td>7</td>\n",
       "    </tr>\n",
       "  </tbody>\n",
       "</table>\n",
       "</div>"
      ],
      "text/plain": [
       "      ID               Name            Industry  Inception  Employees State  \\\n",
       "18   325       Monotrichous            Software       2011         12    NY   \n",
       "77   331              Aspic              Retail       2001        130    NY   \n",
       "79    66           Zathtone            Software       2009        121    NY   \n",
       "89   419    Twistedelephant         IT Services       2011        150    NY   \n",
       "95   474       Valuesbilled         IT Services       2013         95    NY   \n",
       "187  337       Asynchronous              Health       2013         22    NY   \n",
       "235  132             Nimlux  Financial Services       2013        285    NY   \n",
       "244  370        Haulbittern         IT Services       2010        138    NY   \n",
       "289  215  Nervousdispatcher  Financial Services       2011         80    NY   \n",
       "301   11    Canecorporation              Health       2012          6    NY   \n",
       "\n",
       "         City     Revenue  Expenses      Profit  Growth  \n",
       "18   New York   6203337.0   3660171   2543166.0      22  \n",
       "77   New York  10498414.0   4645617   5852797.0      17  \n",
       "79   New York   8953759.0   4069681   4884078.0      21  \n",
       "89   New York  16917213.0   2814394  14102819.0      16  \n",
       "95   New York  13214550.0   7479813   5734737.0      20  \n",
       "187  New York   8720504.0   2632756   6087748.0       1  \n",
       "235  New York   7753213.0   1117206   6636007.0      18  \n",
       "244  New York  15104143.0   4177864  10926279.0      24  \n",
       "289  New York   6955439.0    409237   6546202.0      16  \n",
       "301  New York  10597009.0   7591189   3005820.0       7  "
      ]
     },
     "execution_count": 25,
     "metadata": {},
     "output_type": "execute_result"
    }
   ],
   "source": [
    "\n",
    "# Check if the 'State' values have been filled correctly\n",
    "new_york_rows = data[data['City'] == 'New York']\n",
    "new_york_rows"
   ]
  },
  {
   "cell_type": "code",
   "execution_count": 26,
   "metadata": {},
   "outputs": [
    {
     "data": {
      "text/html": [
       "<div>\n",
       "<style scoped>\n",
       "    .dataframe tbody tr th:only-of-type {\n",
       "        vertical-align: middle;\n",
       "    }\n",
       "\n",
       "    .dataframe tbody tr th {\n",
       "        vertical-align: top;\n",
       "    }\n",
       "\n",
       "    .dataframe thead th {\n",
       "        text-align: right;\n",
       "    }\n",
       "</style>\n",
       "<table border=\"1\" class=\"dataframe\">\n",
       "  <thead>\n",
       "    <tr style=\"text-align: right;\">\n",
       "      <th></th>\n",
       "      <th>ID</th>\n",
       "      <th>Name</th>\n",
       "      <th>Industry</th>\n",
       "      <th>Inception</th>\n",
       "      <th>Employees</th>\n",
       "      <th>State</th>\n",
       "      <th>City</th>\n",
       "      <th>Revenue</th>\n",
       "      <th>Expenses</th>\n",
       "      <th>Profit</th>\n",
       "      <th>Growth</th>\n",
       "    </tr>\n",
       "  </thead>\n",
       "  <tbody>\n",
       "    <tr>\n",
       "      <th>236</th>\n",
       "      <td>267</td>\n",
       "      <td>Circlechop</td>\n",
       "      <td>Software</td>\n",
       "      <td>2010</td>\n",
       "      <td>14</td>\n",
       "      <td>NaN</td>\n",
       "      <td>San Francisco</td>\n",
       "      <td>9067070.0</td>\n",
       "      <td>5929828</td>\n",
       "      <td>3137242.0</td>\n",
       "      <td>20</td>\n",
       "    </tr>\n",
       "    <tr>\n",
       "      <th>251</th>\n",
       "      <td>84</td>\n",
       "      <td>Drilldrill</td>\n",
       "      <td>Software</td>\n",
       "      <td>2010</td>\n",
       "      <td>30</td>\n",
       "      <td>NaN</td>\n",
       "      <td>San Francisco</td>\n",
       "      <td>7800620.0</td>\n",
       "      <td>2785799</td>\n",
       "      <td>5014821.0</td>\n",
       "      <td>17</td>\n",
       "    </tr>\n",
       "  </tbody>\n",
       "</table>\n",
       "</div>"
      ],
      "text/plain": [
       "      ID        Name  Industry  Inception  Employees State           City  \\\n",
       "236  267  Circlechop  Software       2010         14   NaN  San Francisco   \n",
       "251   84  Drilldrill  Software       2010         30   NaN  San Francisco   \n",
       "\n",
       "       Revenue  Expenses     Profit  Growth  \n",
       "236  9067070.0   5929828  3137242.0      20  \n",
       "251  7800620.0   2785799  5014821.0      17  "
      ]
     },
     "execution_count": 26,
     "metadata": {},
     "output_type": "execute_result"
    }
   ],
   "source": [
    "data.loc[(data['City'] == 'San Francisco')]"
   ]
  },
  {
   "cell_type": "code",
   "execution_count": 27,
   "metadata": {},
   "outputs": [
    {
     "data": {
      "text/plain": [
       "ID           0\n",
       "Name         0\n",
       "Industry     2\n",
       "Inception    0\n",
       "Employees    0\n",
       "State        2\n",
       "City         0\n",
       "Revenue      0\n",
       "Expenses     0\n",
       "Profit       2\n",
       "Growth       0\n",
       "dtype: int64"
      ]
     },
     "execution_count": 27,
     "metadata": {},
     "output_type": "execute_result"
    }
   ],
   "source": [
    "data.isnull().sum()"
   ]
  },
  {
   "cell_type": "code",
   "execution_count": 28,
   "metadata": {},
   "outputs": [],
   "source": [
    "data['State'].fillna(data['State'].mode()[0], inplace=True)"
   ]
  },
  {
   "cell_type": "code",
   "execution_count": 29,
   "metadata": {},
   "outputs": [],
   "source": [
    "data['Industry'].fillna(data['Industry'].mode()[0], inplace=True)"
   ]
  },
  {
   "cell_type": "code",
   "execution_count": 30,
   "metadata": {},
   "outputs": [
    {
     "data": {
      "image/png": "[encoded data removed]",
      "text/plain": [
       "<Figure size 720x432 with 1 Axes>"
      ]
     },
     "metadata": {
      "needs_background": "light"
     },
     "output_type": "display_data"
    }
   ],
   "source": [
    "# Plot histogram\n",
    "import pandas as pd\n",
    "import seaborn as sns\n",
    "import matplotlib.pyplot as plt\n",
    "plt.figure(figsize=(10, 6))\n",
    "sns.histplot(data['Profit'], bins=10, kde=True)\n",
    "plt.title('Distribution of Profit')\n",
    "plt.xlabel('Profit')\n",
    "plt.ylabel('Frequency')\n",
    "plt.grid(True)\n",
    "plt.show()"
   ]
  },
  {
   "cell_type": "code",
   "execution_count": 31,
   "metadata": {},
   "outputs": [],
   "source": [
    "data['Profit'] = data['Profit'].fillna(data['Profit'].median())"
   ]
  },
  {
   "cell_type": "code",
   "execution_count": 32,
   "metadata": {},
   "outputs": [
    {
     "data": {
      "text/plain": [
       "0"
      ]
     },
     "execution_count": 32,
     "metadata": {},
     "output_type": "execute_result"
    }
   ],
   "source": [
    "data.duplicated().sum()"
   ]
  },
  {
   "cell_type": "code",
   "execution_count": 33,
   "metadata": {},
   "outputs": [
    {
     "data": {
      "text/plain": [
       "ID           0\n",
       "Name         0\n",
       "Industry     0\n",
       "Inception    0\n",
       "Employees    0\n",
       "State        0\n",
       "City         0\n",
       "Revenue      0\n",
       "Expenses     0\n",
       "Profit       0\n",
       "Growth       0\n",
       "dtype: int64"
      ]
     },
     "execution_count": 33,
     "metadata": {},
     "output_type": "execute_result"
    }
   ],
   "source": [
    "data.isnull().sum()"
   ]
  },
  {
   "cell_type": "markdown",
   "metadata": {},
   "source": [
    "The data is now ready for analysis we have filled all the missing data."
   ]
  },
  {
   "cell_type": "markdown",
   "metadata": {},
   "source": [
    "# Exploratory data analysis"
   ]
  },
  {
   "cell_type": "code",
   "execution_count": 34,
   "metadata": {},
   "outputs": [
    {
     "data": {
      "text/plain": [
       "Index(['ID', 'Name', 'Industry', 'Inception', 'Employees', 'State', 'City',\n",
       "       'Revenue', 'Expenses', 'Profit', 'Growth'],\n",
       "      dtype='object')"
      ]
     },
     "execution_count": 34,
     "metadata": {},
     "output_type": "execute_result"
    }
   ],
   "source": [
    "data.columns"
   ]
  },
  {
   "cell_type": "code",
   "execution_count": 35,
   "metadata": {},
   "outputs": [
    {
     "data": {
      "text/html": [
       "<div>\n",
       "<style scoped>\n",
       "    .dataframe tbody tr th:only-of-type {\n",
       "        vertical-align: middle;\n",
       "    }\n",
       "\n",
       "    .dataframe tbody tr th {\n",
       "        vertical-align: top;\n",
       "    }\n",
       "\n",
       "    .dataframe thead th {\n",
       "        text-align: right;\n",
       "    }\n",
       "</style>\n",
       "<table border=\"1\" class=\"dataframe\">\n",
       "  <thead>\n",
       "    <tr style=\"text-align: right;\">\n",
       "      <th></th>\n",
       "      <th>ID</th>\n",
       "      <th>Name</th>\n",
       "      <th>Industry</th>\n",
       "      <th>Inception</th>\n",
       "      <th>Employees</th>\n",
       "      <th>State</th>\n",
       "      <th>City</th>\n",
       "      <th>Revenue</th>\n",
       "      <th>Expenses</th>\n",
       "      <th>Profit</th>\n",
       "      <th>Growth</th>\n",
       "    </tr>\n",
       "  </thead>\n",
       "  <tbody>\n",
       "    <tr>\n",
       "      <th>0</th>\n",
       "      <td>134</td>\n",
       "      <td>Sub-Fan</td>\n",
       "      <td>Software</td>\n",
       "      <td>2014</td>\n",
       "      <td>24</td>\n",
       "      <td>MA</td>\n",
       "      <td>Boston</td>\n",
       "      <td>6178217.0</td>\n",
       "      <td>4916737</td>\n",
       "      <td>1261480.0</td>\n",
       "      <td>17</td>\n",
       "    </tr>\n",
       "    <tr>\n",
       "      <th>1</th>\n",
       "      <td>289</td>\n",
       "      <td>Annoyhog</td>\n",
       "      <td>Health</td>\n",
       "      <td>2009</td>\n",
       "      <td>90</td>\n",
       "      <td>FL</td>\n",
       "      <td>Medley</td>\n",
       "      <td>12729198.0</td>\n",
       "      <td>7494847</td>\n",
       "      <td>5234351.0</td>\n",
       "      <td>9</td>\n",
       "    </tr>\n",
       "    <tr>\n",
       "      <th>2</th>\n",
       "      <td>444</td>\n",
       "      <td>Ridglingshod</td>\n",
       "      <td>Health</td>\n",
       "      <td>2011</td>\n",
       "      <td>23</td>\n",
       "      <td>CA</td>\n",
       "      <td>San Diego</td>\n",
       "      <td>8293498.0</td>\n",
       "      <td>8165133</td>\n",
       "      <td>128365.0</td>\n",
       "      <td>9</td>\n",
       "    </tr>\n",
       "    <tr>\n",
       "      <th>3</th>\n",
       "      <td>246</td>\n",
       "      <td>Circinuscategory</td>\n",
       "      <td>IT Services</td>\n",
       "      <td>2013</td>\n",
       "      <td>32</td>\n",
       "      <td>NJ</td>\n",
       "      <td>Cranbury</td>\n",
       "      <td>14920255.0</td>\n",
       "      <td>5274251</td>\n",
       "      <td>9646004.0</td>\n",
       "      <td>28</td>\n",
       "    </tr>\n",
       "    <tr>\n",
       "      <th>4</th>\n",
       "      <td>241</td>\n",
       "      <td>Sounderfibber</td>\n",
       "      <td>IT Services</td>\n",
       "      <td>2011</td>\n",
       "      <td>372</td>\n",
       "      <td>MN</td>\n",
       "      <td>Minnetonka</td>\n",
       "      <td>14727740.0</td>\n",
       "      <td>6403759</td>\n",
       "      <td>8323981.0</td>\n",
       "      <td>21</td>\n",
       "    </tr>\n",
       "  </tbody>\n",
       "</table>\n",
       "</div>"
      ],
      "text/plain": [
       "    ID              Name     Industry  Inception  Employees State        City  \\\n",
       "0  134           Sub-Fan     Software       2014         24    MA      Boston   \n",
       "1  289          Annoyhog       Health       2009         90    FL      Medley   \n",
       "2  444      Ridglingshod       Health       2011         23    CA   San Diego   \n",
       "3  246  Circinuscategory  IT Services       2013         32    NJ    Cranbury   \n",
       "4  241     Sounderfibber  IT Services       2011        372    MN  Minnetonka   \n",
       "\n",
       "      Revenue  Expenses     Profit  Growth  \n",
       "0   6178217.0   4916737  1261480.0      17  \n",
       "1  12729198.0   7494847  5234351.0       9  \n",
       "2   8293498.0   8165133   128365.0       9  \n",
       "3  14920255.0   5274251  9646004.0      28  \n",
       "4  14727740.0   6403759  8323981.0      21  "
      ]
     },
     "execution_count": 35,
     "metadata": {},
     "output_type": "execute_result"
    }
   ],
   "source": [
    "data.head()"
   ]
  },
  {
   "cell_type": "code",
   "execution_count": 36,
   "metadata": {},
   "outputs": [
    {
     "data": {
      "text/html": [
       "<div>\n",
       "<style scoped>\n",
       "    .dataframe tbody tr th:only-of-type {\n",
       "        vertical-align: middle;\n",
       "    }\n",
       "\n",
       "    .dataframe tbody tr th {\n",
       "        vertical-align: top;\n",
       "    }\n",
       "\n",
       "    .dataframe thead th {\n",
       "        text-align: right;\n",
       "    }\n",
       "</style>\n",
       "<table border=\"1\" class=\"dataframe\">\n",
       "  <thead>\n",
       "    <tr style=\"text-align: right;\">\n",
       "      <th></th>\n",
       "      <th>ID</th>\n",
       "      <th>Name</th>\n",
       "      <th>Industry</th>\n",
       "      <th>Inception</th>\n",
       "      <th>Employees</th>\n",
       "      <th>State</th>\n",
       "      <th>City</th>\n",
       "      <th>Revenue</th>\n",
       "      <th>Expenses</th>\n",
       "      <th>Profit</th>\n",
       "      <th>Growth</th>\n",
       "    </tr>\n",
       "  </thead>\n",
       "  <tbody>\n",
       "    <tr>\n",
       "      <th>97</th>\n",
       "      <td>115</td>\n",
       "      <td>Roundla</td>\n",
       "      <td>IT Services</td>\n",
       "      <td>2012</td>\n",
       "      <td>1500</td>\n",
       "      <td>MD</td>\n",
       "      <td>Bethesda</td>\n",
       "      <td>20252673.0</td>\n",
       "      <td>628139</td>\n",
       "      <td>19624534.0</td>\n",
       "      <td>20</td>\n",
       "    </tr>\n",
       "  </tbody>\n",
       "</table>\n",
       "</div>"
      ],
      "text/plain": [
       "     ID     Name     Industry  Inception  Employees State      City  \\\n",
       "97  115  Roundla  IT Services       2012       1500    MD  Bethesda   \n",
       "\n",
       "       Revenue  Expenses      Profit  Growth  \n",
       "97  20252673.0    628139  19624534.0      20  "
      ]
     },
     "execution_count": 36,
     "metadata": {},
     "output_type": "execute_result"
    }
   ],
   "source": [
    "data.loc[data[\"Profit\"] == data[\"Profit\"].max()]"
   ]
  },
  {
   "cell_type": "code",
   "execution_count": 37,
   "metadata": {},
   "outputs": [
    {
     "data": {
      "text/html": [
       "<div>\n",
       "<style scoped>\n",
       "    .dataframe tbody tr th:only-of-type {\n",
       "        vertical-align: middle;\n",
       "    }\n",
       "\n",
       "    .dataframe tbody tr th {\n",
       "        vertical-align: top;\n",
       "    }\n",
       "\n",
       "    .dataframe thead th {\n",
       "        text-align: right;\n",
       "    }\n",
       "</style>\n",
       "<table border=\"1\" class=\"dataframe\">\n",
       "  <thead>\n",
       "    <tr style=\"text-align: right;\">\n",
       "      <th></th>\n",
       "      <th>ID</th>\n",
       "      <th>Name</th>\n",
       "      <th>Industry</th>\n",
       "      <th>Inception</th>\n",
       "      <th>Employees</th>\n",
       "      <th>State</th>\n",
       "      <th>City</th>\n",
       "      <th>Revenue</th>\n",
       "      <th>Expenses</th>\n",
       "      <th>Profit</th>\n",
       "      <th>Growth</th>\n",
       "    </tr>\n",
       "  </thead>\n",
       "  <tbody>\n",
       "    <tr>\n",
       "      <th>160</th>\n",
       "      <td>373</td>\n",
       "      <td>Dillimported</td>\n",
       "      <td>Health</td>\n",
       "      <td>2002</td>\n",
       "      <td>30</td>\n",
       "      <td>TX</td>\n",
       "      <td>Humble</td>\n",
       "      <td>9724730.0</td>\n",
       "      <td>9712296</td>\n",
       "      <td>12434.0</td>\n",
       "      <td>3</td>\n",
       "    </tr>\n",
       "  </tbody>\n",
       "</table>\n",
       "</div>"
      ],
      "text/plain": [
       "      ID          Name Industry  Inception  Employees State    City  \\\n",
       "160  373  Dillimported   Health       2002         30    TX  Humble   \n",
       "\n",
       "       Revenue  Expenses   Profit  Growth  \n",
       "160  9724730.0   9712296  12434.0       3  "
      ]
     },
     "execution_count": 37,
     "metadata": {},
     "output_type": "execute_result"
    }
   ],
   "source": [
    "data.loc[data[\"Profit\"] == data[\"Profit\"].min()]"
   ]
  },
  {
   "cell_type": "code",
   "execution_count": 38,
   "metadata": {},
   "outputs": [
    {
     "data": {
      "image/png": "[encoded data removed]",
      "text/plain": [
       "<Figure size 864x576 with 5 Axes>"
      ]
     },
     "metadata": {
      "needs_background": "light"
     },
     "output_type": "display_data"
    }
   ],
   "source": [
    "import seaborn as sns\n",
    "import matplotlib.pyplot as plt\n",
    "\n",
    "# Selecting the specified columns\n",
    "selected_columns = ['Employees', 'Revenue', 'Expenses', 'Profit', 'Growth']\n",
    "\n",
    "# Set up the figure size\n",
    "plt.figure(figsize=(12, 8))\n",
    "\n",
    "# Create boxplots for the selected columns\n",
    "for i, column in enumerate(selected_columns, 1):\n",
    "    plt.subplot(2, 3, i)\n",
    "    sns.boxplot(data=data[column])\n",
    "    plt.title(f'Boxplot of {column}')\n",
    "    plt.xlabel(column)\n",
    "\n",
    "# Adjust layout\n",
    "plt.tight_layout()\n",
    "\n",
    "# Show the plot\n",
    "plt.show()\n"
   ]
  },
  {
   "cell_type": "code",
   "execution_count": 39,
   "metadata": {},
   "outputs": [
    {
     "data": {
      "image/png": "[encoded data removed]",
      "text/plain": [
       "<Figure size 720x432 with 1 Axes>"
      ]
     },
     "metadata": {
      "needs_background": "light"
     },
     "output_type": "display_data"
    }
   ],
   "source": [
    "import seaborn as sns\n",
    "import matplotlib.pyplot as plt\n",
    "# Create a countplot\n",
    "plt.figure(figsize=(10, 6))\n",
    "sns.countplot(x='Inception', data=data)\n",
    "plt.title('Count of Companies by Inception Year')\n",
    "plt.xlabel('Inception Year')\n",
    "plt.ylabel('Count')\n",
    "plt.xticks(rotation=90) \n",
    "plt.show()\n"
   ]
  },
  {
   "cell_type": "markdown",
   "metadata": {},
   "source": [
    "Most companies were started in 2011"
   ]
  },
  {
   "cell_type": "code",
   "execution_count": 40,
   "metadata": {},
   "outputs": [
    {
     "data": {
      "image/png": "[encoded data removed]",
      "text/plain": [
       "<Figure size 720x432 with 1 Axes>"
      ]
     },
     "metadata": {
      "needs_background": "light"
     },
     "output_type": "display_data"
    }
   ],
   "source": [
    "import seaborn as sns\n",
    "import matplotlib.pyplot as plt\n",
    "\n",
    "# Assuming your DataFrame is named 'df'\n",
    "\n",
    "# Create a countplot\n",
    "plt.figure(figsize=(10, 6))\n",
    "sns.countplot(x='Industry', data=data)\n",
    "plt.title('Count of Industries')\n",
    "plt.xlabel('Industry')\n",
    "plt.ylabel('Count')\n",
    "plt.xticks(rotation=90)\n",
    "plt.show()\n"
   ]
  },
  {
   "cell_type": "markdown",
   "metadata": {},
   "source": [
    "Most industries are IT services"
   ]
  },
  {
   "cell_type": "code",
   "execution_count": 41,
   "metadata": {},
   "outputs": [
    {
     "data": {
      "image/png": "[encoded data removed]",
      "text/plain": [
       "<Figure size 720x432 with 1 Axes>"
      ]
     },
     "metadata": {
      "needs_background": "light"
     },
     "output_type": "display_data"
    }
   ],
   "source": [
    "# Scatter plot\n",
    "plt.figure(figsize=(10, 6))\n",
    "plt.scatter(data['Inception'], data['Profit'], alpha=0.5)\n",
    "plt.title('Scatter plot of Inception vs. Profit')\n",
    "plt.xlabel('Inception')\n",
    "plt.ylabel('Profit')\n",
    "plt.grid(True)\n",
    "plt.show()"
   ]
  },
  {
   "cell_type": "markdown",
   "metadata": {},
   "source": [
    "2012 is the year that most profits were made."
   ]
  },
  {
   "cell_type": "code",
   "execution_count": 42,
   "metadata": {},
   "outputs": [
    {
     "data": {
      "text/html": [
       "<div>\n",
       "<style scoped>\n",
       "    .dataframe tbody tr th:only-of-type {\n",
       "        vertical-align: middle;\n",
       "    }\n",
       "\n",
       "    .dataframe tbody tr th {\n",
       "        vertical-align: top;\n",
       "    }\n",
       "\n",
       "    .dataframe thead th {\n",
       "        text-align: right;\n",
       "    }\n",
       "</style>\n",
       "<table border=\"1\" class=\"dataframe\">\n",
       "  <thead>\n",
       "    <tr style=\"text-align: right;\">\n",
       "      <th></th>\n",
       "      <th>ID</th>\n",
       "      <th>Name</th>\n",
       "      <th>Industry</th>\n",
       "      <th>Inception</th>\n",
       "      <th>Employees</th>\n",
       "      <th>State</th>\n",
       "      <th>City</th>\n",
       "      <th>Revenue</th>\n",
       "      <th>Expenses</th>\n",
       "      <th>Profit</th>\n",
       "      <th>Growth</th>\n",
       "    </tr>\n",
       "  </thead>\n",
       "  <tbody>\n",
       "    <tr>\n",
       "      <th>0</th>\n",
       "      <td>134</td>\n",
       "      <td>Sub-Fan</td>\n",
       "      <td>Software</td>\n",
       "      <td>2014</td>\n",
       "      <td>24</td>\n",
       "      <td>MA</td>\n",
       "      <td>Boston</td>\n",
       "      <td>6178217.0</td>\n",
       "      <td>4916737</td>\n",
       "      <td>1261480.0</td>\n",
       "      <td>17</td>\n",
       "    </tr>\n",
       "    <tr>\n",
       "      <th>1</th>\n",
       "      <td>289</td>\n",
       "      <td>Annoyhog</td>\n",
       "      <td>Health</td>\n",
       "      <td>2009</td>\n",
       "      <td>90</td>\n",
       "      <td>FL</td>\n",
       "      <td>Medley</td>\n",
       "      <td>12729198.0</td>\n",
       "      <td>7494847</td>\n",
       "      <td>5234351.0</td>\n",
       "      <td>9</td>\n",
       "    </tr>\n",
       "    <tr>\n",
       "      <th>2</th>\n",
       "      <td>444</td>\n",
       "      <td>Ridglingshod</td>\n",
       "      <td>Health</td>\n",
       "      <td>2011</td>\n",
       "      <td>23</td>\n",
       "      <td>CA</td>\n",
       "      <td>San Diego</td>\n",
       "      <td>8293498.0</td>\n",
       "      <td>8165133</td>\n",
       "      <td>128365.0</td>\n",
       "      <td>9</td>\n",
       "    </tr>\n",
       "    <tr>\n",
       "      <th>3</th>\n",
       "      <td>246</td>\n",
       "      <td>Circinuscategory</td>\n",
       "      <td>IT Services</td>\n",
       "      <td>2013</td>\n",
       "      <td>32</td>\n",
       "      <td>NJ</td>\n",
       "      <td>Cranbury</td>\n",
       "      <td>14920255.0</td>\n",
       "      <td>5274251</td>\n",
       "      <td>9646004.0</td>\n",
       "      <td>28</td>\n",
       "    </tr>\n",
       "    <tr>\n",
       "      <th>4</th>\n",
       "      <td>241</td>\n",
       "      <td>Sounderfibber</td>\n",
       "      <td>IT Services</td>\n",
       "      <td>2011</td>\n",
       "      <td>372</td>\n",
       "      <td>MN</td>\n",
       "      <td>Minnetonka</td>\n",
       "      <td>14727740.0</td>\n",
       "      <td>6403759</td>\n",
       "      <td>8323981.0</td>\n",
       "      <td>21</td>\n",
       "    </tr>\n",
       "  </tbody>\n",
       "</table>\n",
       "</div>"
      ],
      "text/plain": [
       "    ID              Name     Industry  Inception  Employees State        City  \\\n",
       "0  134           Sub-Fan     Software       2014         24    MA      Boston   \n",
       "1  289          Annoyhog       Health       2009         90    FL      Medley   \n",
       "2  444      Ridglingshod       Health       2011         23    CA   San Diego   \n",
       "3  246  Circinuscategory  IT Services       2013         32    NJ    Cranbury   \n",
       "4  241     Sounderfibber  IT Services       2011        372    MN  Minnetonka   \n",
       "\n",
       "      Revenue  Expenses     Profit  Growth  \n",
       "0   6178217.0   4916737  1261480.0      17  \n",
       "1  12729198.0   7494847  5234351.0       9  \n",
       "2   8293498.0   8165133   128365.0       9  \n",
       "3  14920255.0   5274251  9646004.0      28  \n",
       "4  14727740.0   6403759  8323981.0      21  "
      ]
     },
     "execution_count": 42,
     "metadata": {},
     "output_type": "execute_result"
    }
   ],
   "source": [
    "data.head()"
   ]
  },
  {
   "cell_type": "code",
   "execution_count": 43,
   "metadata": {},
   "outputs": [
    {
     "data": {
      "image/png": "[encoded data removed]",
      "text/plain": [
       "<Figure size 864x432 with 1 Axes>"
      ]
     },
     "metadata": {
      "needs_background": "light"
     },
     "output_type": "display_data"
    }
   ],
   "source": [
    "import pandas as pd\n",
    "import matplotlib.pyplot as plt\n",
    "# Group by 'Industry' and calculate total profit for each industry\n",
    "industry_profit = data.groupby('Industry')['Profit'].sum().reset_index()\n",
    "\n",
    "# Sort by total profit in descending order\n",
    "industry_profit = industry_profit.sort_values(by='Profit', ascending=False)\n",
    "\n",
    "# Plot graph\n",
    "plt.figure(figsize=(12, 6))\n",
    "plt.bar(industry_profit['Industry'], industry_profit['Profit'])\n",
    "plt.title('Total Profit by Industry')\n",
    "plt.xlabel('Industry')\n",
    "plt.ylabel('Total Profit')\n",
    "plt.xticks(rotation=45, ha='right')\n",
    "plt.tight_layout()\n",
    "plt.show()\n"
   ]
  },
  {
   "cell_type": "markdown",
   "metadata": {},
   "source": [
    "IT services made the highest profit"
   ]
  },
  {
   "cell_type": "code",
   "execution_count": 44,
   "metadata": {},
   "outputs": [
    {
     "data": {
      "image/png": "[encoded data removed]",
      "text/plain": [
       "<Figure size 1008x504 with 1 Axes>"
      ]
     },
     "metadata": {
      "needs_background": "light"
     },
     "output_type": "display_data"
    }
   ],
   "source": [
    "# Set up the figure size\n",
    "plt.figure(figsize=(14, 7))\n",
    "\n",
    "# Create a count plot to show the number of companies in each industry\n",
    "sns.countplot(data=data, x='Industry', order=data['Industry'].value_counts().index)\n",
    "\n",
    "# Add title and labels\n",
    "plt.title('Distribution of Companies Across Industries')\n",
    "plt.xlabel('Industry')\n",
    "plt.ylabel('Number of Companies')\n",
    "plt.xticks(rotation=45, ha='right')\n",
    "\n",
    "# Show the plot\n",
    "plt.tight_layout()\n",
    "plt.show()\n"
   ]
  },
  {
   "cell_type": "code",
   "execution_count": 56,
   "metadata": {},
   "outputs": [
    {
     "data": {
      "image/png": "[encoded data removed]",
      "text/plain": [
       "<Figure size 1008x504 with 1 Axes>"
      ]
     },
     "metadata": {
      "needs_background": "light"
     },
     "output_type": "display_data"
    }
   ],
   "source": [
    "state_industry_profit_df = pd.DataFrame(data)\n",
    "\n",
    "# Aggregate the total profit by state and industry\n",
    "aggregated_data = state_industry_profit_df.groupby(['State', 'Industry']).sum().reset_index()\n",
    "\n",
    "# Find the top 10 states by total profit\n",
    "top_states = aggregated_data.groupby('State')['Profit'].sum().nlargest(10).index\n",
    "\n",
    "# Filter the aggregated data to include only the top 10 states\n",
    "filtered_data = aggregated_data[aggregated_data['State'].isin(top_states)]\n",
    "\n",
    "# Set up the figure size\n",
    "plt.figure(figsize=(14, 7))\n",
    "\n",
    "# Create a bar plot to show the distribution of profit by state and industry\n",
    "sns.barplot(data=filtered_data, x='State', y='Profit', hue='Industry')\n",
    "\n",
    "# Add title and labels\n",
    "plt.title('Distribution of Profit by State and Industry (Top 10 States)')\n",
    "plt.xlabel('State')\n",
    "plt.ylabel('Total Profit')\n",
    "plt.xticks(rotation=45, ha='right')\n",
    "\n",
    "# Show the plot\n",
    "plt.tight_layout()\n",
    "plt.show()"
   ]
  },
  {
   "cell_type": "markdown",
   "metadata": {},
   "source": [
    "The state with the highest profit is VA having IT services contributing to the highest profit to the state."
   ]
  },
  {
   "cell_type": "code",
   "execution_count": null,
   "metadata": {},
   "outputs": [
    {
     "data": {
      "image/png": "[encoded data removed]",
      "text/plain": [
       "<Figure size 864x432 with 1 Axes>"
      ]
     },
     "metadata": {
      "needs_background": "light"
     },
     "output_type": "display_data"
    }
   ],
   "source": [
    "# Group by 'State' to calculate total profit for each state\n",
    "state_profit = data.groupby('State')['Profit'].sum().reset_index()\n",
    "\n",
    "# Sort by total profit in descending order\n",
    "state_profit = state_profit.sort_values(by='Profit', ascending=False)\n",
    "\n",
    "# Set up the figure size\n",
    "plt.figure(figsize=(12, 6))\n",
    "\n",
    "# Create a bar plot to show the total profit by state\n",
    "sns.barplot(data=state_profit, x='State', y='Profit', ci=None)\n",
    "\n",
    "# Add title and labels\n",
    "plt.title('Total Profit by State')\n",
    "plt.xlabel('State')\n",
    "plt.ylabel('Total Profit')\n",
    "plt.xticks(rotation=45, ha='right')\n",
    "\n",
    "# Show the plot\n",
    "plt.tight_layout()\n",
    "plt.show()"
   ]
  },
  {
   "cell_type": "markdown",
   "metadata": {},
   "source": [
    "VA is the state with leading profit"
   ]
  },
  {
   "cell_type": "code",
   "execution_count": null,
   "metadata": {},
   "outputs": [
    {
     "data": {
      "text/plain": [
       "Index(['ID', 'Name', 'Industry', 'Inception', 'Employees', 'State', 'City',\n",
       "       'Revenue', 'Expenses', 'Profit', 'Growth'],\n",
       "      dtype='object')"
      ]
     },
     "execution_count": 635,
     "metadata": {},
     "output_type": "execute_result"
    }
   ],
   "source": [
    "data.columns"
   ]
  },
  {
   "cell_type": "markdown",
   "metadata": {},
   "source": [
    "Comment on the correlation between the dependent and independent variable(s) used in the model? Support your answer with appropriate argument and evidence. "
   ]
  },
  {
   "cell_type": "markdown",
   "metadata": {},
   "source": [
    "Revenue shows a strong positive correlation with Profit, indicating that increasing revenue is a key driver for higher profit.\n",
    "\n",
    "Growth has a moderate positive correlation with Profit, indicating that efforts to grow the company are beneficial for profit. Sustained growth initiatives should be prioritized.\n",
    "\n",
    "Employees have a very weak negative correlation with Profit, suggesting that merely increasing the number of employees does not contribute significantly to profit. Focus should be on improving employee efficiency and productivity rather than just increasing headcount.\n",
    "\n",
    "Expenses show a moderate negative correlation with Profit, emphasizing the importance of cost control. Efforts to reduce unnecessary expenses and optimize spending can positively impact profit."
   ]
  },
  {
   "cell_type": "code",
   "execution_count": null,
   "metadata": {},
   "outputs": [
    {
     "data": {
      "image/png": "[encoded data removed]",
      "text/plain": [
       "<Figure size 864x576 with 2 Axes>"
      ]
     },
     "metadata": {
      "needs_background": "light"
     },
     "output_type": "display_data"
    }
   ],
   "source": [
    "# Calculate the correlation matrix\n",
    "correlation_matrix = data[['Employees', 'Revenue', 'Expenses', 'Profit', 'Growth']].corr()\n",
    "\n",
    "# Set up the matplotlib figure\n",
    "plt.figure(figsize=(12, 8))\n",
    "\n",
    "# Draw the heatmap with the correlation matrix\n",
    "sns.heatmap(correlation_matrix, annot=True, cmap='coolwarm', vmin=-1, vmax=1, center=0)\n",
    "\n",
    "# Add title and labels\n",
    "plt.title('Correlation Heatmap')\n",
    "plt.xlabel('Features')\n",
    "plt.ylabel('Features')\n",
    "\n",
    "# Show the plot\n",
    "plt.tight_layout()\n",
    "plt.show()"
   ]
  },
  {
   "cell_type": "markdown",
   "metadata": {},
   "source": [
    "There is a strong positive correlation (0.81) between 'Revenue' and 'Profit'. This means that as revenue increases, profit tends to increase as well. Companies with higher revenue are generally more profitable.\n",
    "Focusing on increasing revenue and managing expenses appears to be key strategies for improving profitability based on these correlations."
   ]
  },
  {
   "cell_type": "code",
   "execution_count": 47,
   "metadata": {},
   "outputs": [
    {
     "data": {
      "text/plain": [
       "Index(['ID', 'Name', 'Industry', 'Inception', 'Employees', 'State', 'City',\n",
       "       'Revenue', 'Expenses', 'Profit', 'Growth'],\n",
       "      dtype='object')"
      ]
     },
     "execution_count": 47,
     "metadata": {},
     "output_type": "execute_result"
    }
   ],
   "source": [
    "data.columns"
   ]
  },
  {
   "cell_type": "code",
   "execution_count": null,
   "metadata": {},
   "outputs": [
    {
     "name": "stdout",
     "output_type": "stream",
     "text": [
      "Profit       1.000000\n",
      "Revenue      0.811224\n",
      "Growth       0.480428\n",
      "ID           0.044014\n",
      "Employees   -0.031739\n",
      "Inception   -0.045321\n",
      "Expenses    -0.541951\n",
      "Name: Profit, dtype: float64\n"
     ]
    }
   ],
   "source": [
    "# Calculate the correlation of 'price' with all numerical columns and sort them in descending order\n",
    "profit_corr = data.corr()['Profit'].sort_values(ascending=False)\n",
    "\n",
    "print(profit_corr)"
   ]
  },
  {
   "cell_type": "markdown",
   "metadata": {},
   "source": [
    "# Linear Regression or apply other visualisation technique: "
   ]
  },
  {
   "cell_type": "markdown",
   "metadata": {},
   "source": [
    "1. Based on the dataset, list dependent and independent variable(s). Give reasons for your choice."
   ]
  },
  {
   "cell_type": "markdown",
   "metadata": {},
   "source": [
    "## Dependent variable\n",
    "\n",
    "Profit\n",
    "\n",
    "## Independent variables\n",
    "\n",
    "Revenue\n",
    "\n",
    "Growth\n",
    "\n",
    "Employees\n",
    "\n",
    "Expenses\n",
    "\n",
    "ID\n",
    "\n",
    "Inception\n",
    "\n",
    "Dependent variable is the variable we want to predict. In this dataset we want to predict the profit of various companies.\n",
    "Profit is influenced by the independent variables such as Revenue , Growth , Employees and EXpenses. \n"
   ]
  },
  {
   "cell_type": "markdown",
   "metadata": {},
   "source": [
    "2. Which variables would be the best candidates for the independent variable?"
   ]
  },
  {
   "cell_type": "markdown",
   "metadata": {},
   "source": [
    "Revenue\n",
    "\n",
    "Growth\n",
    "\n",
    "Employees\n",
    "\n",
    "EXpenses"
   ]
  },
  {
   "cell_type": "code",
   "execution_count": null,
   "metadata": {},
   "outputs": [],
   "source": [
    "# Select relevant features for the model\n",
    "features = ['Revenue', 'Growth', 'Employees','Expenses']\n",
    "X = data[features]\n",
    "y = data['Profit']"
   ]
  },
  {
   "cell_type": "code",
   "execution_count": null,
   "metadata": {},
   "outputs": [],
   "source": [
    "# Split the data into training and testing sets\n",
    "X_train, X_test, y_train, y_test = train_test_split(X, y, test_size=0.2, random_state=42)"
   ]
  },
  {
   "cell_type": "markdown",
   "metadata": {},
   "source": [
    "1. Create a regression model based on the previous step"
   ]
  },
  {
   "cell_type": "code",
   "execution_count": null,
   "metadata": {},
   "outputs": [],
   "source": [
    "# Create a linear regression model\n",
    "model = LinearRegression()"
   ]
  },
  {
   "cell_type": "code",
   "execution_count": null,
   "metadata": {},
   "outputs": [],
   "source": [
    "# Train the model\n",
    "model.fit(X_train, y_train)\n",
    "y_pred = model.predict(X_test)"
   ]
  },
  {
   "cell_type": "code",
   "execution_count": null,
   "metadata": {},
   "outputs": [
    {
     "name": "stdout",
     "output_type": "stream",
     "text": [
      "Mean Squared Error: 563741498264.0067\n",
      "R-squared: 0.954751911688292\n",
      "Rmse: 750827.2093258253\n",
      "Mean Absolute Error: 155982.641574571\n",
      "           Coefficient\n",
      "Revenue       0.972394\n",
      "Growth     1744.666899\n",
      "Employees     0.768627\n",
      "Expenses     -1.013661\n"
     ]
    }
   ],
   "source": [
    "# Evaluate the model\n",
    "mse = mean_squared_error(y_test, y_pred)\n",
    "r2 = r2_score(y_test, y_pred)\n",
    "rmse = np.sqrt(mse)\n",
    "mae = mean_absolute_error(y_test, y_pred)\n",
    "\n",
    "# Print the evaluation metrics\n",
    "print(f\"Mean Squared Error: {mse}\")\n",
    "print(f\"R-squared: {r2}\")\n",
    "print(f\"Rmse: {rmse}\")\n",
    "print(f\"Mean Absolute Error: {mae}\")\n",
    "\n",
    "# Print the model coefficients\n",
    "coefficients = pd.DataFrame(model.coef_, features, columns=['Coefficient'])\n",
    "print(coefficients)"
   ]
  },
  {
   "cell_type": "markdown",
   "metadata": {},
   "source": [
    "Revenue appears to be the strongest feature for the independent variable, followed by Growth and Employees."
   ]
  },
  {
   "cell_type": "markdown",
   "metadata": {},
   "source": [
    "4. Based on the regression model created, make 1 or more predictions for increasing profit."
   ]
  },
  {
   "cell_type": "code",
   "execution_count": null,
   "metadata": {},
   "outputs": [],
   "source": [
    "coef = {'Revenue': 0.972394,'Growth': 1744.666899,'Employees': 0.768627,'Expenses': -1.013661}\n",
    "values = {'Revenue': 30000000,'Growth': 30,'Employees':100,'Expenses': 500000}\n"
   ]
  },
  {
   "cell_type": "code",
   "execution_count": null,
   "metadata": {},
   "outputs": [],
   "source": [
    "# Function to calculate predicted profit\n",
    "def calculate_predicted_profit(values, coefficients):\n",
    "    return (\n",
    "        coef['Revenue'] * values['Revenue'] +\n",
    "        coef['Growth'] * values['Growth'] +\n",
    "        coef['Employees'] * values['Employees'] +\n",
    "        coef['Expenses'] * values['Expenses']\n",
    "    )"
   ]
  },
  {
   "cell_type": "code",
   "execution_count": null,
   "metadata": {},
   "outputs": [
    {
     "data": {
      "text/plain": [
       "28717406.36967"
      ]
     },
     "execution_count": 646,
     "metadata": {},
     "output_type": "execute_result"
    }
   ],
   "source": [
    "predicted_profit = calculate_predicted_profit(values, coef)\n",
    "predicted_profit"
   ]
  },
  {
   "cell_type": "code",
   "execution_count": null,
   "metadata": {},
   "outputs": [
    {
     "data": {
      "image/png": "[encoded data removed]",
      "text/plain": [
       "<Figure size 720x432 with 1 Axes>"
      ]
     },
     "metadata": {
      "needs_background": "light"
     },
     "output_type": "display_data"
    }
   ],
   "source": [
    "# Visualize the predicted vs actual profit\n",
    "plt.figure(figsize=(10, 6))\n",
    "plt.scatter(y_test, y_pred)\n",
    "plt.xlabel('Actual Profit')\n",
    "plt.ylabel('Predicted Profit')\n",
    "plt.title('Predicted vs Actual Profit')\n",
    "plt.show()"
   ]
  },
  {
   "cell_type": "markdown",
   "metadata": {},
   "source": [
    "5. Based on these results, what other value added observations can you make? "
   ]
  },
  {
   "cell_type": "markdown",
   "metadata": {},
   "source": [
    "The model has an r-squared of 0.954751911688292.\n",
    "The model demonstrates a strong ability to explain the variability in profit (high R-squared), indicating that the chosen features are relevant predictors. However, the error metrics (RMSE and MAE) suggest that there are still significant deviations in some predictions. Addressing these areas could further improve the model's accuracy and robustness. To further improve the rmse we can try other models."
   ]
  }
 ],
 "metadata": {
  "kernelspec": {
   "display_name": "learn-env",
   "language": "python",
   "name": "python3"
  },
  "language_info": {
   "codemirror_mode": {
    "name": "ipython",
    "version": 3
   },
   "file_extension": ".py",
   "mimetype": "text/x-python",
   "name": "python",
   "nbconvert_exporter": "python",
   "pygments_lexer": "ipython3",
   "version": "3.8.5"
  }
 },
 "nbformat": 4,
 "nbformat_minor": 2
}
