{
 "cells": [
  {
   "cell_type": "markdown",
   "metadata": {},
   "source": [
    "# Importing Libraries"
   ]
  },
  {
   "cell_type": "code",
   "execution_count": 230,
   "metadata": {},
   "outputs": [],
   "source": [
    "import numpy as np\n",
    "import pandas as pd\n",
    "import matplotlib.pyplot as plt\n",
    "import seaborn as sns\n",
    "from sklearn import preprocessing\n",
    "from sklearn.preprocessing import StandardScaler\n",
    "from sklearn.model_selection import train_test_split\n",
    "from sklearn.linear_model import LogisticRegression\n",
    "from sklearn import model_selection\n",
    "from sklearn.metrics import accuracy_score, classification_report, confusion_matrix\n",
    "import warnings\n",
    "warnings.filterwarnings('ignore')"
   ]
  },
  {
   "cell_type": "markdown",
   "metadata": {},
   "source": [
    "# Loading the dataset"
   ]
  },
  {
   "cell_type": "code",
   "execution_count": 231,
   "metadata": {},
   "outputs": [],
   "source": [
    "data = pd.read_csv('employee_attrition_team04.csv')"
   ]
  },
  {
   "cell_type": "code",
   "execution_count": 232,
   "metadata": {},
   "outputs": [
    {
     "data": {
      "text/html": [
       "<div>\n",
       "<style scoped>\n",
       "    .dataframe tbody tr th:only-of-type {\n",
       "        vertical-align: middle;\n",
       "    }\n",
       "\n",
       "    .dataframe tbody tr th {\n",
       "        vertical-align: top;\n",
       "    }\n",
       "\n",
       "    .dataframe thead th {\n",
       "        text-align: right;\n",
       "    }\n",
       "</style>\n",
       "<table border=\"1\" class=\"dataframe\">\n",
       "  <thead>\n",
       "    <tr style=\"text-align: right;\">\n",
       "      <th></th>\n",
       "      <th>Age</th>\n",
       "      <th>Attrition</th>\n",
       "      <th>BusinessTravel</th>\n",
       "      <th>DailyRate</th>\n",
       "      <th>Department</th>\n",
       "      <th>DistanceFromHome</th>\n",
       "      <th>Education</th>\n",
       "      <th>EducationField</th>\n",
       "      <th>EmployeeCount</th>\n",
       "      <th>EmployeeNumber</th>\n",
       "      <th>...</th>\n",
       "      <th>RelationshipSatisfaction</th>\n",
       "      <th>StandardHours</th>\n",
       "      <th>StockOptionLevel</th>\n",
       "      <th>TotalWorkingYears</th>\n",
       "      <th>TrainingTimesLastYear</th>\n",
       "      <th>WorkLifeBalance</th>\n",
       "      <th>YearsAtCompany</th>\n",
       "      <th>YearsInCurrentRole</th>\n",
       "      <th>YearsSinceLastPromotion</th>\n",
       "      <th>YearsWithCurrManager</th>\n",
       "    </tr>\n",
       "  </thead>\n",
       "  <tbody>\n",
       "    <tr>\n",
       "      <th>0</th>\n",
       "      <td>37</td>\n",
       "      <td>No</td>\n",
       "      <td>Travel_Rarely</td>\n",
       "      <td>1372</td>\n",
       "      <td>Research &amp; Development</td>\n",
       "      <td>1</td>\n",
       "      <td>3</td>\n",
       "      <td>Life Sciences</td>\n",
       "      <td>1</td>\n",
       "      <td>391</td>\n",
       "      <td>...</td>\n",
       "      <td>2</td>\n",
       "      <td>80</td>\n",
       "      <td>0</td>\n",
       "      <td>17</td>\n",
       "      <td>3</td>\n",
       "      <td>3</td>\n",
       "      <td>17</td>\n",
       "      <td>12</td>\n",
       "      <td>5</td>\n",
       "      <td>7</td>\n",
       "    </tr>\n",
       "    <tr>\n",
       "      <th>1</th>\n",
       "      <td>37</td>\n",
       "      <td>No</td>\n",
       "      <td>Travel_Rarely</td>\n",
       "      <td>1439</td>\n",
       "      <td>Research &amp; Development</td>\n",
       "      <td>4</td>\n",
       "      <td>1</td>\n",
       "      <td>Life Sciences</td>\n",
       "      <td>1</td>\n",
       "      <td>1394</td>\n",
       "      <td>...</td>\n",
       "      <td>4</td>\n",
       "      <td>80</td>\n",
       "      <td>0</td>\n",
       "      <td>8</td>\n",
       "      <td>2</td>\n",
       "      <td>3</td>\n",
       "      <td>6</td>\n",
       "      <td>4</td>\n",
       "      <td>1</td>\n",
       "      <td>3</td>\n",
       "    </tr>\n",
       "    <tr>\n",
       "      <th>2</th>\n",
       "      <td>42</td>\n",
       "      <td>No</td>\n",
       "      <td>Travel_Rarely</td>\n",
       "      <td>635</td>\n",
       "      <td>Sales</td>\n",
       "      <td>1</td>\n",
       "      <td>1</td>\n",
       "      <td>Life Sciences</td>\n",
       "      <td>1</td>\n",
       "      <td>387</td>\n",
       "      <td>...</td>\n",
       "      <td>3</td>\n",
       "      <td>80</td>\n",
       "      <td>0</td>\n",
       "      <td>20</td>\n",
       "      <td>3</td>\n",
       "      <td>3</td>\n",
       "      <td>20</td>\n",
       "      <td>16</td>\n",
       "      <td>11</td>\n",
       "      <td>6</td>\n",
       "    </tr>\n",
       "    <tr>\n",
       "      <th>3</th>\n",
       "      <td>35</td>\n",
       "      <td>No</td>\n",
       "      <td>Travel_Rarely</td>\n",
       "      <td>1402</td>\n",
       "      <td>Sales</td>\n",
       "      <td>28</td>\n",
       "      <td>4</td>\n",
       "      <td>Life Sciences</td>\n",
       "      <td>1</td>\n",
       "      <td>1554</td>\n",
       "      <td>...</td>\n",
       "      <td>1</td>\n",
       "      <td>80</td>\n",
       "      <td>2</td>\n",
       "      <td>6</td>\n",
       "      <td>5</td>\n",
       "      <td>3</td>\n",
       "      <td>5</td>\n",
       "      <td>3</td>\n",
       "      <td>4</td>\n",
       "      <td>2</td>\n",
       "    </tr>\n",
       "    <tr>\n",
       "      <th>4</th>\n",
       "      <td>24</td>\n",
       "      <td>No</td>\n",
       "      <td>Travel_Rarely</td>\n",
       "      <td>1371</td>\n",
       "      <td>Sales</td>\n",
       "      <td>10</td>\n",
       "      <td>4</td>\n",
       "      <td>Marketing</td>\n",
       "      <td>1</td>\n",
       "      <td>507</td>\n",
       "      <td>...</td>\n",
       "      <td>4</td>\n",
       "      <td>80</td>\n",
       "      <td>1</td>\n",
       "      <td>5</td>\n",
       "      <td>2</td>\n",
       "      <td>4</td>\n",
       "      <td>5</td>\n",
       "      <td>2</td>\n",
       "      <td>0</td>\n",
       "      <td>3</td>\n",
       "    </tr>\n",
       "  </tbody>\n",
       "</table>\n",
       "<p>5 rows × 35 columns</p>\n",
       "</div>"
      ],
      "text/plain": [
       "   Age Attrition BusinessTravel  DailyRate              Department  \\\n",
       "0   37        No  Travel_Rarely       1372  Research & Development   \n",
       "1   37        No  Travel_Rarely       1439  Research & Development   \n",
       "2   42        No  Travel_Rarely        635                   Sales   \n",
       "3   35        No  Travel_Rarely       1402                   Sales   \n",
       "4   24        No  Travel_Rarely       1371                   Sales   \n",
       "\n",
       "   DistanceFromHome  Education EducationField  EmployeeCount  EmployeeNumber  \\\n",
       "0                 1          3  Life Sciences              1             391   \n",
       "1                 4          1  Life Sciences              1            1394   \n",
       "2                 1          1  Life Sciences              1             387   \n",
       "3                28          4  Life Sciences              1            1554   \n",
       "4                10          4      Marketing              1             507   \n",
       "\n",
       "   ...  RelationshipSatisfaction StandardHours  StockOptionLevel  \\\n",
       "0  ...                         2            80                 0   \n",
       "1  ...                         4            80                 0   \n",
       "2  ...                         3            80                 0   \n",
       "3  ...                         1            80                 2   \n",
       "4  ...                         4            80                 1   \n",
       "\n",
       "   TotalWorkingYears  TrainingTimesLastYear WorkLifeBalance  YearsAtCompany  \\\n",
       "0                 17                      3               3              17   \n",
       "1                  8                      2               3               6   \n",
       "2                 20                      3               3              20   \n",
       "3                  6                      5               3               5   \n",
       "4                  5                      2               4               5   \n",
       "\n",
       "  YearsInCurrentRole  YearsSinceLastPromotion  YearsWithCurrManager  \n",
       "0                 12                        5                     7  \n",
       "1                  4                        1                     3  \n",
       "2                 16                       11                     6  \n",
       "3                  3                        4                     2  \n",
       "4                  2                        0                     3  \n",
       "\n",
       "[5 rows x 35 columns]"
      ]
     },
     "execution_count": 232,
     "metadata": {},
     "output_type": "execute_result"
    }
   ],
   "source": [
    "#Loading the top 5 rows\n",
    "data.head()"
   ]
  },
  {
   "cell_type": "markdown",
   "metadata": {},
   "source": [
    "# Data cleaning and Preprocessing"
   ]
  },
  {
   "cell_type": "code",
   "execution_count": 233,
   "metadata": {},
   "outputs": [
    {
     "data": {
      "text/plain": [
       "Age                         0\n",
       "Attrition                   0\n",
       "BusinessTravel              0\n",
       "DailyRate                   0\n",
       "Department                  0\n",
       "DistanceFromHome            0\n",
       "Education                   0\n",
       "EducationField              0\n",
       "EmployeeCount               0\n",
       "EmployeeNumber              0\n",
       "EnvironmentSatisfaction     0\n",
       "Gender                      0\n",
       "HourlyRate                  0\n",
       "JobInvolvement              0\n",
       "JobLevel                    0\n",
       "JobRole                     0\n",
       "JobSatisfaction             0\n",
       "MaritalStatus               0\n",
       "MonthlyIncome               0\n",
       "MonthlyRate                 0\n",
       "NumCompaniesWorked          0\n",
       "Over18                      0\n",
       "OverTime                    0\n",
       "PercentSalaryHike           0\n",
       "PerformanceRating           0\n",
       "RelationshipSatisfaction    0\n",
       "StandardHours               0\n",
       "StockOptionLevel            0\n",
       "TotalWorkingYears           0\n",
       "TrainingTimesLastYear       0\n",
       "WorkLifeBalance             0\n",
       "YearsAtCompany              0\n",
       "YearsInCurrentRole          0\n",
       "YearsSinceLastPromotion     0\n",
       "YearsWithCurrManager        0\n",
       "dtype: int64"
      ]
     },
     "execution_count": 233,
     "metadata": {},
     "output_type": "execute_result"
    }
   ],
   "source": [
    "data.isnull().sum()"
   ]
  },
  {
   "cell_type": "code",
   "execution_count": 234,
   "metadata": {},
   "outputs": [
    {
     "data": {
      "text/plain": [
       "0"
      ]
     },
     "execution_count": 234,
     "metadata": {},
     "output_type": "execute_result"
    }
   ],
   "source": [
    "data.duplicated().sum()"
   ]
  },
  {
   "cell_type": "code",
   "execution_count": 235,
   "metadata": {},
   "outputs": [
    {
     "data": {
      "text/plain": [
       "Age                           43\n",
       "Attrition                      2\n",
       "BusinessTravel                 3\n",
       "DailyRate                    703\n",
       "Department                     3\n",
       "DistanceFromHome              29\n",
       "Education                      5\n",
       "EducationField                 6\n",
       "EmployeeCount                  1\n",
       "EmployeeNumber              1029\n",
       "EnvironmentSatisfaction        4\n",
       "Gender                         2\n",
       "HourlyRate                    71\n",
       "JobInvolvement                 4\n",
       "JobLevel                       5\n",
       "JobRole                        9\n",
       "JobSatisfaction                4\n",
       "MaritalStatus                  3\n",
       "MonthlyIncome                961\n",
       "MonthlyRate                 1006\n",
       "NumCompaniesWorked            10\n",
       "Over18                         1\n",
       "OverTime                       2\n",
       "PercentSalaryHike             15\n",
       "PerformanceRating              2\n",
       "RelationshipSatisfaction       4\n",
       "StandardHours                  1\n",
       "StockOptionLevel               4\n",
       "TotalWorkingYears             40\n",
       "TrainingTimesLastYear          7\n",
       "WorkLifeBalance                4\n",
       "YearsAtCompany                36\n",
       "YearsInCurrentRole            19\n",
       "YearsSinceLastPromotion       16\n",
       "YearsWithCurrManager          17\n",
       "dtype: int64"
      ]
     },
     "execution_count": 235,
     "metadata": {},
     "output_type": "execute_result"
    }
   ],
   "source": [
    "data.nunique()"
   ]
  },
  {
   "cell_type": "markdown",
   "metadata": {},
   "source": [
    "The data has no missing values nor duplicates. The data is ready for analysis"
   ]
  },
  {
   "cell_type": "code",
   "execution_count": 236,
   "metadata": {},
   "outputs": [],
   "source": [
    "# dropping these two columns because they only have one value\n",
    "data = data.drop(['EmployeeCount','StandardHours'], axis=1)"
   ]
  },
  {
   "cell_type": "markdown",
   "metadata": {},
   "source": [
    "# Exploratory Data Analysis"
   ]
  },
  {
   "cell_type": "code",
   "execution_count": 285,
   "metadata": {},
   "outputs": [
    {
     "data": {
      "text/plain": [
       "(1029, 33)"
      ]
     },
     "execution_count": 285,
     "metadata": {},
     "output_type": "execute_result"
    }
   ],
   "source": [
    "#Checking the shape of the dataset\n",
    "data.shape"
   ]
  },
  {
   "cell_type": "markdown",
   "metadata": {},
   "source": [
    "There are 33 columns and 1029 rows in this dataset."
   ]
  },
  {
   "cell_type": "code",
   "execution_count": 286,
   "metadata": {},
   "outputs": [
    {
     "name": "stdout",
     "output_type": "stream",
     "text": [
      "<class 'pandas.core.frame.DataFrame'>\n",
      "RangeIndex: 1029 entries, 0 to 1028\n",
      "Data columns (total 33 columns):\n",
      " #   Column                    Non-Null Count  Dtype \n",
      "---  ------                    --------------  ----- \n",
      " 0   Age                       1029 non-null   int64 \n",
      " 1   Attrition                 1029 non-null   int64 \n",
      " 2   BusinessTravel            1029 non-null   object\n",
      " 3   DailyRate                 1029 non-null   int64 \n",
      " 4   Department                1029 non-null   object\n",
      " 5   DistanceFromHome          1029 non-null   int64 \n",
      " 6   Education                 1029 non-null   int64 \n",
      " 7   EducationField            1029 non-null   object\n",
      " 8   EmployeeNumber            1029 non-null   int64 \n",
      " 9   EnvironmentSatisfaction   1029 non-null   int64 \n",
      " 10  Gender                    1029 non-null   object\n",
      " 11  HourlyRate                1029 non-null   int64 \n",
      " 12  JobInvolvement            1029 non-null   int64 \n",
      " 13  JobLevel                  1029 non-null   int64 \n",
      " 14  JobRole                   1029 non-null   object\n",
      " 15  JobSatisfaction           1029 non-null   int64 \n",
      " 16  MaritalStatus             1029 non-null   object\n",
      " 17  MonthlyIncome             1029 non-null   int64 \n",
      " 18  MonthlyRate               1029 non-null   int64 \n",
      " 19  NumCompaniesWorked        1029 non-null   int64 \n",
      " 20  Over18                    1029 non-null   object\n",
      " 21  OverTime                  1029 non-null   object\n",
      " 22  PercentSalaryHike         1029 non-null   int64 \n",
      " 23  PerformanceRating         1029 non-null   int64 \n",
      " 24  RelationshipSatisfaction  1029 non-null   int64 \n",
      " 25  StockOptionLevel          1029 non-null   int64 \n",
      " 26  TotalWorkingYears         1029 non-null   int64 \n",
      " 27  TrainingTimesLastYear     1029 non-null   int64 \n",
      " 28  WorkLifeBalance           1029 non-null   int64 \n",
      " 29  YearsAtCompany            1029 non-null   int64 \n",
      " 30  YearsInCurrentRole        1029 non-null   int64 \n",
      " 31  YearsSinceLastPromotion   1029 non-null   int64 \n",
      " 32  YearsWithCurrManager      1029 non-null   int64 \n",
      "dtypes: int64(25), object(8)\n",
      "memory usage: 265.4+ KB\n"
     ]
    }
   ],
   "source": [
    "# Checking more information of the dataset\n",
    "data.info()"
   ]
  },
  {
   "cell_type": "code",
   "execution_count": 287,
   "metadata": {},
   "outputs": [
    {
     "data": {
      "text/plain": [
       "BusinessTravel    object\n",
       "Department        object\n",
       "EducationField    object\n",
       "Gender            object\n",
       "JobRole           object\n",
       "MaritalStatus     object\n",
       "Over18            object\n",
       "OverTime          object\n",
       "dtype: object"
      ]
     },
     "execution_count": 287,
     "metadata": {},
     "output_type": "execute_result"
    }
   ],
   "source": [
    "#Extracting the columns that are of datatype object\n",
    "data.select_dtypes(include=['object']).dtypes"
   ]
  },
  {
   "cell_type": "markdown",
   "metadata": {},
   "source": [
    "These are the categorical columns in the dataset."
   ]
  },
  {
   "cell_type": "markdown",
   "metadata": {},
   "source": [
    "# Univariate analysis of the Target column"
   ]
  },
  {
   "cell_type": "code",
   "execution_count": 240,
   "metadata": {},
   "outputs": [
    {
     "data": {
      "text/plain": [
       "No     868\n",
       "Yes    161\n",
       "Name: Attrition, dtype: int64"
      ]
     },
     "execution_count": 240,
     "metadata": {},
     "output_type": "execute_result"
    }
   ],
   "source": [
    "data['Attrition'].value_counts()"
   ]
  },
  {
   "cell_type": "code",
   "execution_count": 241,
   "metadata": {},
   "outputs": [
    {
     "name": "stdout",
     "output_type": "stream",
     "text": [
      "161 employees in the dataset left the company.\n",
      "\n"
     ]
    }
   ],
   "source": [
    "Attrition = data.query(\"Attrition == 'Yes'\")\n",
    "print(f\"{Attrition.shape[0]} employees in the dataset left the company.\\n\")"
   ]
  },
  {
   "cell_type": "code",
   "execution_count": 242,
   "metadata": {},
   "outputs": [
    {
     "data": {
      "text/html": [
       "<div>\n",
       "<style scoped>\n",
       "    .dataframe tbody tr th:only-of-type {\n",
       "        vertical-align: middle;\n",
       "    }\n",
       "\n",
       "    .dataframe tbody tr th {\n",
       "        vertical-align: top;\n",
       "    }\n",
       "\n",
       "    .dataframe thead th {\n",
       "        text-align: right;\n",
       "    }\n",
       "</style>\n",
       "<table border=\"1\" class=\"dataframe\">\n",
       "  <thead>\n",
       "    <tr style=\"text-align: right;\">\n",
       "      <th></th>\n",
       "      <th>Age</th>\n",
       "      <th>Attrition</th>\n",
       "      <th>BusinessTravel</th>\n",
       "      <th>DailyRate</th>\n",
       "      <th>Department</th>\n",
       "      <th>DistanceFromHome</th>\n",
       "      <th>Education</th>\n",
       "      <th>EducationField</th>\n",
       "      <th>EmployeeNumber</th>\n",
       "      <th>EnvironmentSatisfaction</th>\n",
       "      <th>...</th>\n",
       "      <th>PerformanceRating</th>\n",
       "      <th>RelationshipSatisfaction</th>\n",
       "      <th>StockOptionLevel</th>\n",
       "      <th>TotalWorkingYears</th>\n",
       "      <th>TrainingTimesLastYear</th>\n",
       "      <th>WorkLifeBalance</th>\n",
       "      <th>YearsAtCompany</th>\n",
       "      <th>YearsInCurrentRole</th>\n",
       "      <th>YearsSinceLastPromotion</th>\n",
       "      <th>YearsWithCurrManager</th>\n",
       "    </tr>\n",
       "  </thead>\n",
       "  <tbody>\n",
       "    <tr>\n",
       "      <th>0</th>\n",
       "      <td>37</td>\n",
       "      <td>0</td>\n",
       "      <td>Travel_Rarely</td>\n",
       "      <td>1372</td>\n",
       "      <td>Research &amp; Development</td>\n",
       "      <td>1</td>\n",
       "      <td>3</td>\n",
       "      <td>Life Sciences</td>\n",
       "      <td>391</td>\n",
       "      <td>4</td>\n",
       "      <td>...</td>\n",
       "      <td>3</td>\n",
       "      <td>2</td>\n",
       "      <td>0</td>\n",
       "      <td>17</td>\n",
       "      <td>3</td>\n",
       "      <td>3</td>\n",
       "      <td>17</td>\n",
       "      <td>12</td>\n",
       "      <td>5</td>\n",
       "      <td>7</td>\n",
       "    </tr>\n",
       "    <tr>\n",
       "      <th>1</th>\n",
       "      <td>37</td>\n",
       "      <td>0</td>\n",
       "      <td>Travel_Rarely</td>\n",
       "      <td>1439</td>\n",
       "      <td>Research &amp; Development</td>\n",
       "      <td>4</td>\n",
       "      <td>1</td>\n",
       "      <td>Life Sciences</td>\n",
       "      <td>1394</td>\n",
       "      <td>3</td>\n",
       "      <td>...</td>\n",
       "      <td>3</td>\n",
       "      <td>4</td>\n",
       "      <td>0</td>\n",
       "      <td>8</td>\n",
       "      <td>2</td>\n",
       "      <td>3</td>\n",
       "      <td>6</td>\n",
       "      <td>4</td>\n",
       "      <td>1</td>\n",
       "      <td>3</td>\n",
       "    </tr>\n",
       "    <tr>\n",
       "      <th>2</th>\n",
       "      <td>42</td>\n",
       "      <td>0</td>\n",
       "      <td>Travel_Rarely</td>\n",
       "      <td>635</td>\n",
       "      <td>Sales</td>\n",
       "      <td>1</td>\n",
       "      <td>1</td>\n",
       "      <td>Life Sciences</td>\n",
       "      <td>387</td>\n",
       "      <td>2</td>\n",
       "      <td>...</td>\n",
       "      <td>4</td>\n",
       "      <td>3</td>\n",
       "      <td>0</td>\n",
       "      <td>20</td>\n",
       "      <td>3</td>\n",
       "      <td>3</td>\n",
       "      <td>20</td>\n",
       "      <td>16</td>\n",
       "      <td>11</td>\n",
       "      <td>6</td>\n",
       "    </tr>\n",
       "    <tr>\n",
       "      <th>3</th>\n",
       "      <td>35</td>\n",
       "      <td>0</td>\n",
       "      <td>Travel_Rarely</td>\n",
       "      <td>1402</td>\n",
       "      <td>Sales</td>\n",
       "      <td>28</td>\n",
       "      <td>4</td>\n",
       "      <td>Life Sciences</td>\n",
       "      <td>1554</td>\n",
       "      <td>2</td>\n",
       "      <td>...</td>\n",
       "      <td>4</td>\n",
       "      <td>1</td>\n",
       "      <td>2</td>\n",
       "      <td>6</td>\n",
       "      <td>5</td>\n",
       "      <td>3</td>\n",
       "      <td>5</td>\n",
       "      <td>3</td>\n",
       "      <td>4</td>\n",
       "      <td>2</td>\n",
       "    </tr>\n",
       "    <tr>\n",
       "      <th>4</th>\n",
       "      <td>24</td>\n",
       "      <td>0</td>\n",
       "      <td>Travel_Rarely</td>\n",
       "      <td>1371</td>\n",
       "      <td>Sales</td>\n",
       "      <td>10</td>\n",
       "      <td>4</td>\n",
       "      <td>Marketing</td>\n",
       "      <td>507</td>\n",
       "      <td>4</td>\n",
       "      <td>...</td>\n",
       "      <td>3</td>\n",
       "      <td>4</td>\n",
       "      <td>1</td>\n",
       "      <td>5</td>\n",
       "      <td>2</td>\n",
       "      <td>4</td>\n",
       "      <td>5</td>\n",
       "      <td>2</td>\n",
       "      <td>0</td>\n",
       "      <td>3</td>\n",
       "    </tr>\n",
       "  </tbody>\n",
       "</table>\n",
       "<p>5 rows × 33 columns</p>\n",
       "</div>"
      ],
      "text/plain": [
       "   Age  Attrition BusinessTravel  DailyRate              Department  \\\n",
       "0   37          0  Travel_Rarely       1372  Research & Development   \n",
       "1   37          0  Travel_Rarely       1439  Research & Development   \n",
       "2   42          0  Travel_Rarely        635                   Sales   \n",
       "3   35          0  Travel_Rarely       1402                   Sales   \n",
       "4   24          0  Travel_Rarely       1371                   Sales   \n",
       "\n",
       "   DistanceFromHome  Education EducationField  EmployeeNumber  \\\n",
       "0                 1          3  Life Sciences             391   \n",
       "1                 4          1  Life Sciences            1394   \n",
       "2                 1          1  Life Sciences             387   \n",
       "3                28          4  Life Sciences            1554   \n",
       "4                10          4      Marketing             507   \n",
       "\n",
       "   EnvironmentSatisfaction  ... PerformanceRating  RelationshipSatisfaction  \\\n",
       "0                        4  ...                 3                         2   \n",
       "1                        3  ...                 3                         4   \n",
       "2                        2  ...                 4                         3   \n",
       "3                        2  ...                 4                         1   \n",
       "4                        4  ...                 3                         4   \n",
       "\n",
       "   StockOptionLevel  TotalWorkingYears TrainingTimesLastYear  WorkLifeBalance  \\\n",
       "0                 0                 17                     3                3   \n",
       "1                 0                  8                     2                3   \n",
       "2                 0                 20                     3                3   \n",
       "3                 2                  6                     5                3   \n",
       "4                 1                  5                     2                4   \n",
       "\n",
       "  YearsAtCompany  YearsInCurrentRole  YearsSinceLastPromotion  \\\n",
       "0             17                  12                        5   \n",
       "1              6                   4                        1   \n",
       "2             20                  16                       11   \n",
       "3              5                   3                        4   \n",
       "4              5                   2                        0   \n",
       "\n",
       "   YearsWithCurrManager  \n",
       "0                     7  \n",
       "1                     3  \n",
       "2                     6  \n",
       "3                     2  \n",
       "4                     3  \n",
       "\n",
       "[5 rows x 33 columns]"
      ]
     },
     "execution_count": 242,
     "metadata": {},
     "output_type": "execute_result"
    }
   ],
   "source": [
    "# let's encode the attrition column so we can use it for EDA\n",
    "data['Attrition'] = data['Attrition'].factorize(['No','Yes'])[0]\n",
    "data.head()"
   ]
  },
  {
   "cell_type": "markdown",
   "metadata": {},
   "source": [
    "Attrition: No = 0 Yes = 1"
   ]
  },
  {
   "cell_type": "code",
   "execution_count": 243,
   "metadata": {},
   "outputs": [
    {
     "data": {
      "image/png": "[encoded data removed]",
      "text/plain": [
       "<Figure size 576x576 with 1 Axes>"
      ]
     },
     "metadata": {},
     "output_type": "display_data"
    }
   ],
   "source": [
    "plt.figure(figsize=(8,8))\n",
    "pie = data.groupby('Attrition')['Attrition'].count()\n",
    "plt.pie(pie, explode=[0.1, 0.1], labels=['No', 'Yes'], autopct='%1.1f%%');"
   ]
  },
  {
   "cell_type": "markdown",
   "metadata": {},
   "source": [
    "84% of the employees in the dataset have not left the company."
   ]
  },
  {
   "cell_type": "code",
   "execution_count": 288,
   "metadata": {},
   "outputs": [
    {
     "data": {
      "text/plain": [
       "Age                         int64\n",
       "Attrition                   int64\n",
       "DailyRate                   int64\n",
       "DistanceFromHome            int64\n",
       "Education                   int64\n",
       "EmployeeNumber              int64\n",
       "EnvironmentSatisfaction     int64\n",
       "HourlyRate                  int64\n",
       "JobInvolvement              int64\n",
       "JobLevel                    int64\n",
       "JobSatisfaction             int64\n",
       "MonthlyIncome               int64\n",
       "MonthlyRate                 int64\n",
       "NumCompaniesWorked          int64\n",
       "PercentSalaryHike           int64\n",
       "PerformanceRating           int64\n",
       "RelationshipSatisfaction    int64\n",
       "StockOptionLevel            int64\n",
       "TotalWorkingYears           int64\n",
       "TrainingTimesLastYear       int64\n",
       "WorkLifeBalance             int64\n",
       "YearsAtCompany              int64\n",
       "YearsInCurrentRole          int64\n",
       "YearsSinceLastPromotion     int64\n",
       "YearsWithCurrManager        int64\n",
       "dtype: object"
      ]
     },
     "execution_count": 288,
     "metadata": {},
     "output_type": "execute_result"
    }
   ],
   "source": [
    "#Extracting columns of the dataset that are of datatype int\n",
    "data.select_dtypes(include=['int64']).dtypes"
   ]
  },
  {
   "cell_type": "markdown",
   "metadata": {},
   "source": [
    "These columns are numeric."
   ]
  },
  {
   "cell_type": "markdown",
   "metadata": {},
   "source": [
    "# Age vs Attrition"
   ]
  },
  {
   "cell_type": "code",
   "execution_count": 289,
   "metadata": {},
   "outputs": [
    {
     "data": {
      "text/plain": [
       "Age\n",
       "35     57\n",
       "36     52\n",
       "34     46\n",
       "29     44\n",
       "32     43\n",
       "31     42\n",
       "38     40\n",
       "30     39\n",
       "33     38\n",
       "28     36\n",
       "dtype: int64"
      ]
     },
     "execution_count": 289,
     "metadata": {},
     "output_type": "execute_result"
    }
   ],
   "source": [
    "#Checking the distribution of the age column\n",
    "data[['Age']].value_counts().sort_values(ascending=False).head(10)"
   ]
  },
  {
   "cell_type": "code",
   "execution_count": 246,
   "metadata": {},
   "outputs": [
    {
     "data": {
      "image/png": "[encoded data removed]",
      "text/plain": [
       "<Figure size 972x432 with 2 Axes>"
      ]
     },
     "metadata": {
      "needs_background": "light"
     },
     "output_type": "display_data"
    }
   ],
   "source": [
    "#Visualization to show Employee Distribution by Age.\n",
    "plt.figure(figsize=(13.5,6))\n",
    "plt.subplot(1,2,1)\n",
    "sns.histplot(x=\"Age\",hue=\"Attrition\",data=data,kde=True,palette=[\"#11264e\",\"#6faea4\"])\n",
    "plt.title(\"Employee Distribution by Age\",fontweight=\"black\",size=20,pad=10)\n",
    "\n",
    "\n",
    "#Visualization to show Employee Distribution by Age & Attrition.\n",
    "plt.subplot(1,2,2)\n",
    "sns.boxplot(x=\"Attrition\",y=\"Age\",data=data,palette=[\"#D4A1E7\",\"#6faea4\"])\n",
    "plt.title(\"Employee Distribution by Age & Attrition\",fontweight=\"black\",size=20,pad=10)\n",
    "plt.tight_layout()\n",
    "plt.show()"
   ]
  },
  {
   "cell_type": "markdown",
   "metadata": {},
   "source": [
    "1.Most of the emloyees are between age 30 to 40.\n",
    "\n",
    "2.We can clearly observe a trend that as the age is increasing the attrition is decreasing.\n",
    "\n",
    "3.From the boxplot we can also observe that the medain age of employee who left the organization is less than the employees\n",
    "\n",
    "who are working in the organization.\n",
    "\n",
    "4.Employees with young age leaves the company more compared to elder employees."
   ]
  },
  {
   "cell_type": "markdown",
   "metadata": {},
   "source": [
    "# Correlation Analysis"
   ]
  },
  {
   "cell_type": "code",
   "execution_count": 247,
   "metadata": {},
   "outputs": [
    {
     "data": {
      "text/plain": [
       "<AxesSubplot:>"
      ]
     },
     "execution_count": 247,
     "metadata": {},
     "output_type": "execute_result"
    },
    {
     "data": {
      "image/png": "[encoded data removed]",
      "text/plain": [
       "<Figure size 864x864 with 2 Axes>"
      ]
     },
     "metadata": {
      "needs_background": "light"
     },
     "output_type": "display_data"
    }
   ],
   "source": [
    "# We can use a heatmap to check correlation between the variables.\n",
    "corr = data.corr()\n",
    "plt.figure(figsize=(12,12))\n",
    "sns.heatmap(corr,cbar=True,square=True,fmt='.1f',annot=True,cmap='Reds')"
   ]
  },
  {
   "cell_type": "markdown",
   "metadata": {},
   "source": [
    "As we can see, there isn't a very strong correlation of the target column with any of the numerical columns. But we can see other correlations such as;\n",
    "\n",
    "    More senior employees have higher total working years (very obvious)\n",
    "    Higher performance ratings lead to salary hike percentage to increase\n",
    "    The more years an employee puts in, the more their monthly income increases\n",
    "    A lot of employees remain in their current role and also under the same manager as years pass by meaning they don't get promotion and this could be a major factor contributing to attrition\n",
    "\n",
    "From here, we can deduct that the lack of promotions may be a crucial factor to attritions."
   ]
  },
  {
   "cell_type": "markdown",
   "metadata": {},
   "source": [
    "# Years At Company"
   ]
  },
  {
   "cell_type": "code",
   "execution_count": 248,
   "metadata": {},
   "outputs": [
    {
     "data": {
      "text/plain": [
       "<AxesSubplot:xlabel='YearsAtCompany'>"
      ]
     },
     "execution_count": 248,
     "metadata": {},
     "output_type": "execute_result"
    },
    {
     "data": {
      "image/png": "[encoded data removed]",
      "text/plain": [
       "<Figure size 432x288 with 1 Axes>"
      ]
     },
     "metadata": {
      "needs_background": "light"
     },
     "output_type": "display_data"
    }
   ],
   "source": [
    "sns.boxplot(data[\"YearsAtCompany\"])"
   ]
  },
  {
   "cell_type": "markdown",
   "metadata": {},
   "source": [
    "Most employees remain in the company for 3-9 years with median being 5 years."
   ]
  },
  {
   "cell_type": "code",
   "execution_count": 249,
   "metadata": {},
   "outputs": [
    {
     "data": {
      "image/png": "[encoded data removed]",
      "text/plain": [
       "<Figure size 432x288 with 1 Axes>"
      ]
     },
     "metadata": {
      "needs_background": "light"
     },
     "output_type": "display_data"
    }
   ],
   "source": [
    "sns.countplot(x='BusinessTravel', hue='Attrition', data=data);"
   ]
  },
  {
   "cell_type": "markdown",
   "metadata": {},
   "source": [
    "Most employees who travel rarely don't leave the company. From the plot we can tell, sending employees on business travels or not doesn't really make much of a difference and doesn't have a significant effect on attrition."
   ]
  },
  {
   "cell_type": "markdown",
   "metadata": {},
   "source": [
    "# Department"
   ]
  },
  {
   "cell_type": "code",
   "execution_count": 250,
   "metadata": {},
   "outputs": [
    {
     "data": {
      "image/png": "[encoded data removed]",
      "text/plain": [
       "<Figure size 576x432 with 1 Axes>"
      ]
     },
     "metadata": {
      "needs_background": "light"
     },
     "output_type": "display_data"
    }
   ],
   "source": [
    "plt.figure(figsize=(8,6))\n",
    "sns.countplot(x='Department', hue='Attrition', data=data);"
   ]
  },
  {
   "cell_type": "code",
   "execution_count": 251,
   "metadata": {},
   "outputs": [
    {
     "data": {
      "text/plain": [
       "Research & Development    672\n",
       "Sales                     309\n",
       "Human Resources            48\n",
       "Name: Department, dtype: int64"
      ]
     },
     "execution_count": 251,
     "metadata": {},
     "output_type": "execute_result"
    }
   ],
   "source": [
    "data['Department'].value_counts()"
   ]
  },
  {
   "cell_type": "markdown",
   "metadata": {},
   "source": [
    "Most attritions are from the research & development department only for sales department to come second by a small margin. Human resources has the least number of attritions. But we need to keep in mind that R&D has a lot more employees than sales and HR.\n",
    "\n",
    "If we considered percentage of attritions per department, we would see that the HR department has most attritions.\n"
   ]
  },
  {
   "cell_type": "markdown",
   "metadata": {},
   "source": [
    "# Gender"
   ]
  },
  {
   "cell_type": "code",
   "execution_count": 252,
   "metadata": {},
   "outputs": [
    {
     "data": {
      "image/png": "[encoded data removed]",
      "text/plain": [
       "<Figure size 432x288 with 1 Axes>"
      ]
     },
     "metadata": {
      "needs_background": "light"
     },
     "output_type": "display_data"
    }
   ],
   "source": [
    "sns.countplot(x='Gender', hue='Attrition', data=data);"
   ]
  },
  {
   "cell_type": "markdown",
   "metadata": {},
   "source": [
    "Clearly there are more males in the organisation than females, so attritions are higher but slightly. I don't think gender is too significant a factor behind attritions."
   ]
  },
  {
   "cell_type": "markdown",
   "metadata": {},
   "source": [
    "# JobRole"
   ]
  },
  {
   "cell_type": "code",
   "execution_count": 253,
   "metadata": {},
   "outputs": [
    {
     "data": {
      "text/plain": [
       "(array([0, 1, 2, 3, 4, 5, 6, 7, 8]),\n",
       " [Text(0, 0, 'Research Scientist'),\n",
       "  Text(1, 0, 'Sales Executive'),\n",
       "  Text(2, 0, 'Sales Representative'),\n",
       "  Text(3, 0, 'Research Director'),\n",
       "  Text(4, 0, 'Manager'),\n",
       "  Text(5, 0, 'Manufacturing Director'),\n",
       "  Text(6, 0, 'Laboratory Technician'),\n",
       "  Text(7, 0, 'Human Resources'),\n",
       "  Text(8, 0, 'Healthcare Representative')])"
      ]
     },
     "execution_count": 253,
     "metadata": {},
     "output_type": "execute_result"
    },
    {
     "data": {
      "image/png": "[encoded data removed]",
      "text/plain": [
       "<Figure size 576x432 with 1 Axes>"
      ]
     },
     "metadata": {
      "needs_background": "light"
     },
     "output_type": "display_data"
    }
   ],
   "source": [
    "plt.figure(figsize=(8,6))\n",
    "sns.countplot(x='JobRole', hue='Attrition', data=data);\n",
    "plt.xticks(rotation=90)"
   ]
  },
  {
   "cell_type": "markdown",
   "metadata": {},
   "source": [
    "Among job roles, most laboratory technicians have departed from their jobs, only for research scientists, sales executives and sales representatives (% wise) to trail behind. We could look into salaries of each job roles and see if that may be the reason."
   ]
  },
  {
   "cell_type": "markdown",
   "metadata": {},
   "source": [
    "# To check if attrition in jobrole is affected by monthly income"
   ]
  },
  {
   "cell_type": "code",
   "execution_count": 254,
   "metadata": {},
   "outputs": [
    {
     "data": {
      "text/plain": [
       "(array([0, 1, 2, 3, 4, 5, 6, 7, 8]),\n",
       " [Text(0, 0, 'Research Scientist'),\n",
       "  Text(1, 0, 'Sales Executive'),\n",
       "  Text(2, 0, 'Sales Representative'),\n",
       "  Text(3, 0, 'Research Director'),\n",
       "  Text(4, 0, 'Manager'),\n",
       "  Text(5, 0, 'Manufacturing Director'),\n",
       "  Text(6, 0, 'Laboratory Technician'),\n",
       "  Text(7, 0, 'Human Resources'),\n",
       "  Text(8, 0, 'Healthcare Representative')])"
      ]
     },
     "execution_count": 254,
     "metadata": {},
     "output_type": "execute_result"
    },
    {
     "data": {
      "image/png": "[encoded data removed]",
      "text/plain": [
       "<Figure size 720x432 with 1 Axes>"
      ]
     },
     "metadata": {
      "needs_background": "light"
     },
     "output_type": "display_data"
    }
   ],
   "source": [
    "plt.figure(figsize=(10,6))\n",
    "sns.barplot(x='JobRole', y='MonthlyIncome', hue='Attrition', data=data)\n",
    "plt.xticks(rotation=90)"
   ]
  },
  {
   "cell_type": "markdown",
   "metadata": {},
   "source": [
    "As doubted, laboratory technicians, research scientists and sales representatives and executives have very low salary and this could be a major factor behind attritions.\n",
    "\n",
    "Also, as we had seen earlier, the HR department had the most attritions and we can see they have very low salaries as well so once again, this is something to think about.\n"
   ]
  },
  {
   "cell_type": "markdown",
   "metadata": {},
   "source": [
    "# Checking if attrition is affected by EducationField"
   ]
  },
  {
   "cell_type": "code",
   "execution_count": 255,
   "metadata": {},
   "outputs": [
    {
     "data": {
      "text/plain": [
       "(array([0, 1, 2, 3, 4, 5]),\n",
       " [Text(0, 0, 'Life Sciences'),\n",
       "  Text(1, 0, 'Marketing'),\n",
       "  Text(2, 0, 'Technical Degree'),\n",
       "  Text(3, 0, 'Medical'),\n",
       "  Text(4, 0, 'Other'),\n",
       "  Text(5, 0, 'Human Resources')])"
      ]
     },
     "execution_count": 255,
     "metadata": {},
     "output_type": "execute_result"
    },
    {
     "data": {
      "image/png": "[encoded data removed]",
      "text/plain": [
       "<Figure size 432x288 with 1 Axes>"
      ]
     },
     "metadata": {
      "needs_background": "light"
     },
     "output_type": "display_data"
    }
   ],
   "source": [
    "sns.countplot(x='EducationField', hue='Attrition', data=data);\n",
    "plt.xticks(rotation=45)"
   ]
  },
  {
   "cell_type": "markdown",
   "metadata": {},
   "source": [
    "I don't think the degrees of employees really matter here as most of the number of attritions are similar"
   ]
  },
  {
   "cell_type": "markdown",
   "metadata": {},
   "source": [
    "# Checking if attrition is affected by Overtime"
   ]
  },
  {
   "cell_type": "code",
   "execution_count": 256,
   "metadata": {},
   "outputs": [
    {
     "data": {
      "image/png": "[encoded data removed]",
      "text/plain": [
       "<Figure size 432x288 with 1 Axes>"
      ]
     },
     "metadata": {
      "needs_background": "light"
     },
     "output_type": "display_data"
    }
   ],
   "source": [
    "sns.countplot(x='OverTime', hue='Attrition', data=data);"
   ]
  },
  {
   "cell_type": "markdown",
   "metadata": {},
   "source": [
    "Overtime hours aren't a very crucial factor either."
   ]
  },
  {
   "cell_type": "markdown",
   "metadata": {},
   "source": [
    "# Checking if attrition is caused by Environment Dissatisfaction"
   ]
  },
  {
   "cell_type": "code",
   "execution_count": 257,
   "metadata": {},
   "outputs": [
    {
     "data": {
      "image/png": "[encoded data removed]",
      "text/plain": [
       "<Figure size 432x288 with 1 Axes>"
      ]
     },
     "metadata": {
      "needs_background": "light"
     },
     "output_type": "display_data"
    }
   ],
   "source": [
    "sns.countplot(x='EnvironmentSatisfaction', data=data);"
   ]
  },
  {
   "cell_type": "markdown",
   "metadata": {},
   "source": [
    "Most employees seem to be satisfied with the working environment"
   ]
  },
  {
   "cell_type": "markdown",
   "metadata": {},
   "source": [
    "# Splitting the Data"
   ]
  },
  {
   "cell_type": "code",
   "execution_count": 265,
   "metadata": {},
   "outputs": [],
   "source": [
    "# Separating the features from the target (In the process, we will drop features that we don't think are key factors.)\n",
    "X = data.drop(['Attrition'],axis=1) # Features\n",
    "y = data['Attrition'] # Target"
   ]
  },
  {
   "cell_type": "code",
   "execution_count": 266,
   "metadata": {},
   "outputs": [
    {
     "name": "stdout",
     "output_type": "stream",
     "text": [
      "X train size:  720\n",
      "X test size:  309\n",
      "y train size:  720\n",
      "y test size:  309\n"
     ]
    }
   ],
   "source": [
    "# Splitting data into train and test sets\n",
    "X_train, X_test, y_train, y_test = train_test_split(X,y,test_size = 0.3)\n",
    "print('X train size: ', len(X_train))\n",
    "print('X test size: ', len(X_test))\n",
    "print('y train size: ', len(y_train))\n",
    "print('y test size: ', len(y_test))"
   ]
  },
  {
   "cell_type": "markdown",
   "metadata": {},
   "source": [
    "# Encoding all categorical variables"
   ]
  },
  {
   "cell_type": "code",
   "execution_count": 267,
   "metadata": {},
   "outputs": [],
   "source": [
    "from sklearn.preprocessing import MinMaxScaler, OrdinalEncoder, OneHotEncoder"
   ]
  },
  {
   "cell_type": "code",
   "execution_count": 268,
   "metadata": {},
   "outputs": [
    {
     "data": {
      "text/html": [
       "<div>\n",
       "<style scoped>\n",
       "    .dataframe tbody tr th:only-of-type {\n",
       "        vertical-align: middle;\n",
       "    }\n",
       "\n",
       "    .dataframe tbody tr th {\n",
       "        vertical-align: top;\n",
       "    }\n",
       "\n",
       "    .dataframe thead th {\n",
       "        text-align: right;\n",
       "    }\n",
       "</style>\n",
       "<table border=\"1\" class=\"dataframe\">\n",
       "  <thead>\n",
       "    <tr style=\"text-align: right;\">\n",
       "      <th></th>\n",
       "      <th>Age</th>\n",
       "      <th>BusinessTravel</th>\n",
       "      <th>DailyRate</th>\n",
       "      <th>Department</th>\n",
       "      <th>DistanceFromHome</th>\n",
       "      <th>Education</th>\n",
       "      <th>EducationField</th>\n",
       "      <th>EmployeeNumber</th>\n",
       "      <th>EnvironmentSatisfaction</th>\n",
       "      <th>Gender</th>\n",
       "      <th>...</th>\n",
       "      <th>PerformanceRating</th>\n",
       "      <th>RelationshipSatisfaction</th>\n",
       "      <th>StockOptionLevel</th>\n",
       "      <th>TotalWorkingYears</th>\n",
       "      <th>TrainingTimesLastYear</th>\n",
       "      <th>WorkLifeBalance</th>\n",
       "      <th>YearsAtCompany</th>\n",
       "      <th>YearsInCurrentRole</th>\n",
       "      <th>YearsSinceLastPromotion</th>\n",
       "      <th>YearsWithCurrManager</th>\n",
       "    </tr>\n",
       "  </thead>\n",
       "  <tbody>\n",
       "    <tr>\n",
       "      <th>994</th>\n",
       "      <td>42</td>\n",
       "      <td>2.0</td>\n",
       "      <td>1396</td>\n",
       "      <td>Research &amp; Development</td>\n",
       "      <td>6</td>\n",
       "      <td>2.0</td>\n",
       "      <td>Medical</td>\n",
       "      <td>1911</td>\n",
       "      <td>2.0</td>\n",
       "      <td>Male</td>\n",
       "      <td>...</td>\n",
       "      <td>0.0</td>\n",
       "      <td>1.0</td>\n",
       "      <td>1</td>\n",
       "      <td>18</td>\n",
       "      <td>3</td>\n",
       "      <td>3.0</td>\n",
       "      <td>13</td>\n",
       "      <td>7</td>\n",
       "      <td>5</td>\n",
       "      <td>7</td>\n",
       "    </tr>\n",
       "    <tr>\n",
       "      <th>410</th>\n",
       "      <td>38</td>\n",
       "      <td>2.0</td>\n",
       "      <td>433</td>\n",
       "      <td>Human Resources</td>\n",
       "      <td>1</td>\n",
       "      <td>2.0</td>\n",
       "      <td>Human Resources</td>\n",
       "      <td>1152</td>\n",
       "      <td>2.0</td>\n",
       "      <td>Male</td>\n",
       "      <td>...</td>\n",
       "      <td>0.0</td>\n",
       "      <td>3.0</td>\n",
       "      <td>1</td>\n",
       "      <td>7</td>\n",
       "      <td>2</td>\n",
       "      <td>3.0</td>\n",
       "      <td>7</td>\n",
       "      <td>6</td>\n",
       "      <td>5</td>\n",
       "      <td>0</td>\n",
       "    </tr>\n",
       "    <tr>\n",
       "      <th>625</th>\n",
       "      <td>35</td>\n",
       "      <td>2.0</td>\n",
       "      <td>1224</td>\n",
       "      <td>Sales</td>\n",
       "      <td>7</td>\n",
       "      <td>3.0</td>\n",
       "      <td>Life Sciences</td>\n",
       "      <td>1962</td>\n",
       "      <td>2.0</td>\n",
       "      <td>Female</td>\n",
       "      <td>...</td>\n",
       "      <td>0.0</td>\n",
       "      <td>3.0</td>\n",
       "      <td>0</td>\n",
       "      <td>10</td>\n",
       "      <td>2</td>\n",
       "      <td>2.0</td>\n",
       "      <td>10</td>\n",
       "      <td>8</td>\n",
       "      <td>0</td>\n",
       "      <td>9</td>\n",
       "    </tr>\n",
       "    <tr>\n",
       "      <th>297</th>\n",
       "      <td>25</td>\n",
       "      <td>2.0</td>\n",
       "      <td>685</td>\n",
       "      <td>Research &amp; Development</td>\n",
       "      <td>1</td>\n",
       "      <td>2.0</td>\n",
       "      <td>Life Sciences</td>\n",
       "      <td>350</td>\n",
       "      <td>0.0</td>\n",
       "      <td>Female</td>\n",
       "      <td>...</td>\n",
       "      <td>0.0</td>\n",
       "      <td>3.0</td>\n",
       "      <td>2</td>\n",
       "      <td>5</td>\n",
       "      <td>3</td>\n",
       "      <td>2.0</td>\n",
       "      <td>4</td>\n",
       "      <td>2</td>\n",
       "      <td>1</td>\n",
       "      <td>2</td>\n",
       "    </tr>\n",
       "    <tr>\n",
       "      <th>399</th>\n",
       "      <td>53</td>\n",
       "      <td>2.0</td>\n",
       "      <td>1070</td>\n",
       "      <td>Research &amp; Development</td>\n",
       "      <td>3</td>\n",
       "      <td>3.0</td>\n",
       "      <td>Medical</td>\n",
       "      <td>386</td>\n",
       "      <td>2.0</td>\n",
       "      <td>Male</td>\n",
       "      <td>...</td>\n",
       "      <td>0.0</td>\n",
       "      <td>3.0</td>\n",
       "      <td>3</td>\n",
       "      <td>21</td>\n",
       "      <td>5</td>\n",
       "      <td>1.0</td>\n",
       "      <td>5</td>\n",
       "      <td>3</td>\n",
       "      <td>1</td>\n",
       "      <td>3</td>\n",
       "    </tr>\n",
       "    <tr>\n",
       "      <th>...</th>\n",
       "      <td>...</td>\n",
       "      <td>...</td>\n",
       "      <td>...</td>\n",
       "      <td>...</td>\n",
       "      <td>...</td>\n",
       "      <td>...</td>\n",
       "      <td>...</td>\n",
       "      <td>...</td>\n",
       "      <td>...</td>\n",
       "      <td>...</td>\n",
       "      <td>...</td>\n",
       "      <td>...</td>\n",
       "      <td>...</td>\n",
       "      <td>...</td>\n",
       "      <td>...</td>\n",
       "      <td>...</td>\n",
       "      <td>...</td>\n",
       "      <td>...</td>\n",
       "      <td>...</td>\n",
       "      <td>...</td>\n",
       "      <td>...</td>\n",
       "    </tr>\n",
       "    <tr>\n",
       "      <th>481</th>\n",
       "      <td>29</td>\n",
       "      <td>1.0</td>\n",
       "      <td>410</td>\n",
       "      <td>Research &amp; Development</td>\n",
       "      <td>2</td>\n",
       "      <td>0.0</td>\n",
       "      <td>Life Sciences</td>\n",
       "      <td>1513</td>\n",
       "      <td>3.0</td>\n",
       "      <td>Female</td>\n",
       "      <td>...</td>\n",
       "      <td>0.0</td>\n",
       "      <td>2.0</td>\n",
       "      <td>3</td>\n",
       "      <td>4</td>\n",
       "      <td>3</td>\n",
       "      <td>2.0</td>\n",
       "      <td>3</td>\n",
       "      <td>2</td>\n",
       "      <td>0</td>\n",
       "      <td>2</td>\n",
       "    </tr>\n",
       "    <tr>\n",
       "      <th>276</th>\n",
       "      <td>42</td>\n",
       "      <td>2.0</td>\n",
       "      <td>1128</td>\n",
       "      <td>Research &amp; Development</td>\n",
       "      <td>13</td>\n",
       "      <td>2.0</td>\n",
       "      <td>Medical</td>\n",
       "      <td>1803</td>\n",
       "      <td>1.0</td>\n",
       "      <td>Male</td>\n",
       "      <td>...</td>\n",
       "      <td>0.0</td>\n",
       "      <td>2.0</td>\n",
       "      <td>2</td>\n",
       "      <td>10</td>\n",
       "      <td>2</td>\n",
       "      <td>1.0</td>\n",
       "      <td>0</td>\n",
       "      <td>0</td>\n",
       "      <td>0</td>\n",
       "      <td>0</td>\n",
       "    </tr>\n",
       "    <tr>\n",
       "      <th>10</th>\n",
       "      <td>36</td>\n",
       "      <td>2.0</td>\n",
       "      <td>363</td>\n",
       "      <td>Research &amp; Development</td>\n",
       "      <td>1</td>\n",
       "      <td>2.0</td>\n",
       "      <td>Technical Degree</td>\n",
       "      <td>1237</td>\n",
       "      <td>2.0</td>\n",
       "      <td>Female</td>\n",
       "      <td>...</td>\n",
       "      <td>1.0</td>\n",
       "      <td>2.0</td>\n",
       "      <td>1</td>\n",
       "      <td>17</td>\n",
       "      <td>2</td>\n",
       "      <td>2.0</td>\n",
       "      <td>7</td>\n",
       "      <td>7</td>\n",
       "      <td>7</td>\n",
       "      <td>7</td>\n",
       "    </tr>\n",
       "    <tr>\n",
       "      <th>829</th>\n",
       "      <td>36</td>\n",
       "      <td>2.0</td>\n",
       "      <td>311</td>\n",
       "      <td>Research &amp; Development</td>\n",
       "      <td>7</td>\n",
       "      <td>2.0</td>\n",
       "      <td>Life Sciences</td>\n",
       "      <td>1659</td>\n",
       "      <td>0.0</td>\n",
       "      <td>Male</td>\n",
       "      <td>...</td>\n",
       "      <td>0.0</td>\n",
       "      <td>2.0</td>\n",
       "      <td>0</td>\n",
       "      <td>15</td>\n",
       "      <td>4</td>\n",
       "      <td>2.0</td>\n",
       "      <td>4</td>\n",
       "      <td>3</td>\n",
       "      <td>1</td>\n",
       "      <td>3</td>\n",
       "    </tr>\n",
       "    <tr>\n",
       "      <th>385</th>\n",
       "      <td>27</td>\n",
       "      <td>1.0</td>\n",
       "      <td>591</td>\n",
       "      <td>Research &amp; Development</td>\n",
       "      <td>2</td>\n",
       "      <td>2.0</td>\n",
       "      <td>Medical</td>\n",
       "      <td>1648</td>\n",
       "      <td>3.0</td>\n",
       "      <td>Male</td>\n",
       "      <td>...</td>\n",
       "      <td>0.0</td>\n",
       "      <td>2.0</td>\n",
       "      <td>0</td>\n",
       "      <td>6</td>\n",
       "      <td>0</td>\n",
       "      <td>1.0</td>\n",
       "      <td>4</td>\n",
       "      <td>2</td>\n",
       "      <td>1</td>\n",
       "      <td>2</td>\n",
       "    </tr>\n",
       "  </tbody>\n",
       "</table>\n",
       "<p>720 rows × 32 columns</p>\n",
       "</div>"
      ],
      "text/plain": [
       "     Age  BusinessTravel  DailyRate              Department  DistanceFromHome  \\\n",
       "994   42             2.0       1396  Research & Development                 6   \n",
       "410   38             2.0        433         Human Resources                 1   \n",
       "625   35             2.0       1224                   Sales                 7   \n",
       "297   25             2.0        685  Research & Development                 1   \n",
       "399   53             2.0       1070  Research & Development                 3   \n",
       "..   ...             ...        ...                     ...               ...   \n",
       "481   29             1.0        410  Research & Development                 2   \n",
       "276   42             2.0       1128  Research & Development                13   \n",
       "10    36             2.0        363  Research & Development                 1   \n",
       "829   36             2.0        311  Research & Development                 7   \n",
       "385   27             1.0        591  Research & Development                 2   \n",
       "\n",
       "     Education    EducationField  EmployeeNumber  EnvironmentSatisfaction  \\\n",
       "994        2.0           Medical            1911                      2.0   \n",
       "410        2.0   Human Resources            1152                      2.0   \n",
       "625        3.0     Life Sciences            1962                      2.0   \n",
       "297        2.0     Life Sciences             350                      0.0   \n",
       "399        3.0           Medical             386                      2.0   \n",
       "..         ...               ...             ...                      ...   \n",
       "481        0.0     Life Sciences            1513                      3.0   \n",
       "276        2.0           Medical            1803                      1.0   \n",
       "10         2.0  Technical Degree            1237                      2.0   \n",
       "829        2.0     Life Sciences            1659                      0.0   \n",
       "385        2.0           Medical            1648                      3.0   \n",
       "\n",
       "     Gender  ...  PerformanceRating  RelationshipSatisfaction  \\\n",
       "994    Male  ...                0.0                       1.0   \n",
       "410    Male  ...                0.0                       3.0   \n",
       "625  Female  ...                0.0                       3.0   \n",
       "297  Female  ...                0.0                       3.0   \n",
       "399    Male  ...                0.0                       3.0   \n",
       "..      ...  ...                ...                       ...   \n",
       "481  Female  ...                0.0                       2.0   \n",
       "276    Male  ...                0.0                       2.0   \n",
       "10   Female  ...                1.0                       2.0   \n",
       "829    Male  ...                0.0                       2.0   \n",
       "385    Male  ...                0.0                       2.0   \n",
       "\n",
       "     StockOptionLevel TotalWorkingYears  TrainingTimesLastYear  \\\n",
       "994                 1                18                      3   \n",
       "410                 1                 7                      2   \n",
       "625                 0                10                      2   \n",
       "297                 2                 5                      3   \n",
       "399                 3                21                      5   \n",
       "..                ...               ...                    ...   \n",
       "481                 3                 4                      3   \n",
       "276                 2                10                      2   \n",
       "10                  1                17                      2   \n",
       "829                 0                15                      4   \n",
       "385                 0                 6                      0   \n",
       "\n",
       "    WorkLifeBalance  YearsAtCompany  YearsInCurrentRole  \\\n",
       "994             3.0              13                   7   \n",
       "410             3.0               7                   6   \n",
       "625             2.0              10                   8   \n",
       "297             2.0               4                   2   \n",
       "399             1.0               5                   3   \n",
       "..              ...             ...                 ...   \n",
       "481             2.0               3                   2   \n",
       "276             1.0               0                   0   \n",
       "10              2.0               7                   7   \n",
       "829             2.0               4                   3   \n",
       "385             1.0               4                   2   \n",
       "\n",
       "     YearsSinceLastPromotion YearsWithCurrManager  \n",
       "994                        5                    7  \n",
       "410                        5                    0  \n",
       "625                        0                    9  \n",
       "297                        1                    2  \n",
       "399                        1                    3  \n",
       "..                       ...                  ...  \n",
       "481                        0                    2  \n",
       "276                        0                    0  \n",
       "10                         7                    7  \n",
       "829                        1                    3  \n",
       "385                        1                    2  \n",
       "\n",
       "[720 rows x 32 columns]"
      ]
     },
     "execution_count": 268,
     "metadata": {},
     "output_type": "execute_result"
    }
   ],
   "source": [
    "# Enoding categorical variables with Ordinal Encoder\n",
    "OE = OrdinalEncoder()\n",
    "columns_OE = ['BusinessTravel', 'Education', 'EnvironmentSatisfaction', 'JobInvolvement',\n",
    "             'JobSatisfaction','WorkLifeBalance','PerformanceRating','RelationshipSatisfaction']\n",
    "X_train[columns_OE] = OE.fit_transform(X_train[columns_OE])\n",
    "X_test[columns_OE] = OE.transform(X_test[columns_OE])\n",
    "X_train"
   ]
  },
  {
   "cell_type": "code",
   "execution_count": 269,
   "metadata": {},
   "outputs": [],
   "source": [
    "# Transforming bicategoric variables into binary values\n",
    "X_train['OverTime'].replace({'Yes': 1,\n",
    "                                      'No':0}, inplace=True)\n",
    "X_test['OverTime'].replace({'Yes': 1,\n",
    "                                      'No':0}, inplace=True)\n",
    "X_train['Gender'].replace({'Male': 1,\n",
    "                                      'Female':0}, inplace=True)\n",
    "X_test['Gender'].replace({'Male': 1,\n",
    "                                      'Female':0}, inplace=True)"
   ]
  },
  {
   "cell_type": "code",
   "execution_count": 270,
   "metadata": {},
   "outputs": [
    {
     "data": {
      "text/plain": [
       "0    506\n",
       "1    214\n",
       "Name: OverTime, dtype: int64"
      ]
     },
     "execution_count": 270,
     "metadata": {},
     "output_type": "execute_result"
    }
   ],
   "source": [
    "X_train.OverTime.value_counts()"
   ]
  },
  {
   "cell_type": "code",
   "execution_count": 271,
   "metadata": {},
   "outputs": [
    {
     "data": {
      "text/plain": [
       "1    181\n",
       "0    128\n",
       "Name: Gender, dtype: int64"
      ]
     },
     "execution_count": 271,
     "metadata": {},
     "output_type": "execute_result"
    }
   ],
   "source": [
    "X_test.Gender.value_counts()"
   ]
  },
  {
   "cell_type": "code",
   "execution_count": 272,
   "metadata": {},
   "outputs": [
    {
     "data": {
      "text/html": [
       "<div>\n",
       "<style scoped>\n",
       "    .dataframe tbody tr th:only-of-type {\n",
       "        vertical-align: middle;\n",
       "    }\n",
       "\n",
       "    .dataframe tbody tr th {\n",
       "        vertical-align: top;\n",
       "    }\n",
       "\n",
       "    .dataframe thead th {\n",
       "        text-align: right;\n",
       "    }\n",
       "</style>\n",
       "<table border=\"1\" class=\"dataframe\">\n",
       "  <thead>\n",
       "    <tr style=\"text-align: right;\">\n",
       "      <th></th>\n",
       "      <th>Age</th>\n",
       "      <th>BusinessTravel</th>\n",
       "      <th>DailyRate</th>\n",
       "      <th>Department</th>\n",
       "      <th>DistanceFromHome</th>\n",
       "      <th>Education</th>\n",
       "      <th>EducationField</th>\n",
       "      <th>EmployeeNumber</th>\n",
       "      <th>EnvironmentSatisfaction</th>\n",
       "      <th>Gender</th>\n",
       "      <th>...</th>\n",
       "      <th>PerformanceRating</th>\n",
       "      <th>RelationshipSatisfaction</th>\n",
       "      <th>StockOptionLevel</th>\n",
       "      <th>TotalWorkingYears</th>\n",
       "      <th>TrainingTimesLastYear</th>\n",
       "      <th>WorkLifeBalance</th>\n",
       "      <th>YearsAtCompany</th>\n",
       "      <th>YearsInCurrentRole</th>\n",
       "      <th>YearsSinceLastPromotion</th>\n",
       "      <th>YearsWithCurrManager</th>\n",
       "    </tr>\n",
       "  </thead>\n",
       "  <tbody>\n",
       "    <tr>\n",
       "      <th>994</th>\n",
       "      <td>42</td>\n",
       "      <td>2.0</td>\n",
       "      <td>1396</td>\n",
       "      <td>Research &amp; Development</td>\n",
       "      <td>6</td>\n",
       "      <td>2.0</td>\n",
       "      <td>Medical</td>\n",
       "      <td>1911</td>\n",
       "      <td>2.0</td>\n",
       "      <td>1</td>\n",
       "      <td>...</td>\n",
       "      <td>0.0</td>\n",
       "      <td>1.0</td>\n",
       "      <td>1</td>\n",
       "      <td>18</td>\n",
       "      <td>3</td>\n",
       "      <td>3.0</td>\n",
       "      <td>13</td>\n",
       "      <td>7</td>\n",
       "      <td>5</td>\n",
       "      <td>7</td>\n",
       "    </tr>\n",
       "    <tr>\n",
       "      <th>410</th>\n",
       "      <td>38</td>\n",
       "      <td>2.0</td>\n",
       "      <td>433</td>\n",
       "      <td>Human Resources</td>\n",
       "      <td>1</td>\n",
       "      <td>2.0</td>\n",
       "      <td>Human Resources</td>\n",
       "      <td>1152</td>\n",
       "      <td>2.0</td>\n",
       "      <td>1</td>\n",
       "      <td>...</td>\n",
       "      <td>0.0</td>\n",
       "      <td>3.0</td>\n",
       "      <td>1</td>\n",
       "      <td>7</td>\n",
       "      <td>2</td>\n",
       "      <td>3.0</td>\n",
       "      <td>7</td>\n",
       "      <td>6</td>\n",
       "      <td>5</td>\n",
       "      <td>0</td>\n",
       "    </tr>\n",
       "    <tr>\n",
       "      <th>625</th>\n",
       "      <td>35</td>\n",
       "      <td>2.0</td>\n",
       "      <td>1224</td>\n",
       "      <td>Sales</td>\n",
       "      <td>7</td>\n",
       "      <td>3.0</td>\n",
       "      <td>Life Sciences</td>\n",
       "      <td>1962</td>\n",
       "      <td>2.0</td>\n",
       "      <td>0</td>\n",
       "      <td>...</td>\n",
       "      <td>0.0</td>\n",
       "      <td>3.0</td>\n",
       "      <td>0</td>\n",
       "      <td>10</td>\n",
       "      <td>2</td>\n",
       "      <td>2.0</td>\n",
       "      <td>10</td>\n",
       "      <td>8</td>\n",
       "      <td>0</td>\n",
       "      <td>9</td>\n",
       "    </tr>\n",
       "    <tr>\n",
       "      <th>297</th>\n",
       "      <td>25</td>\n",
       "      <td>2.0</td>\n",
       "      <td>685</td>\n",
       "      <td>Research &amp; Development</td>\n",
       "      <td>1</td>\n",
       "      <td>2.0</td>\n",
       "      <td>Life Sciences</td>\n",
       "      <td>350</td>\n",
       "      <td>0.0</td>\n",
       "      <td>0</td>\n",
       "      <td>...</td>\n",
       "      <td>0.0</td>\n",
       "      <td>3.0</td>\n",
       "      <td>2</td>\n",
       "      <td>5</td>\n",
       "      <td>3</td>\n",
       "      <td>2.0</td>\n",
       "      <td>4</td>\n",
       "      <td>2</td>\n",
       "      <td>1</td>\n",
       "      <td>2</td>\n",
       "    </tr>\n",
       "    <tr>\n",
       "      <th>399</th>\n",
       "      <td>53</td>\n",
       "      <td>2.0</td>\n",
       "      <td>1070</td>\n",
       "      <td>Research &amp; Development</td>\n",
       "      <td>3</td>\n",
       "      <td>3.0</td>\n",
       "      <td>Medical</td>\n",
       "      <td>386</td>\n",
       "      <td>2.0</td>\n",
       "      <td>1</td>\n",
       "      <td>...</td>\n",
       "      <td>0.0</td>\n",
       "      <td>3.0</td>\n",
       "      <td>3</td>\n",
       "      <td>21</td>\n",
       "      <td>5</td>\n",
       "      <td>1.0</td>\n",
       "      <td>5</td>\n",
       "      <td>3</td>\n",
       "      <td>1</td>\n",
       "      <td>3</td>\n",
       "    </tr>\n",
       "    <tr>\n",
       "      <th>...</th>\n",
       "      <td>...</td>\n",
       "      <td>...</td>\n",
       "      <td>...</td>\n",
       "      <td>...</td>\n",
       "      <td>...</td>\n",
       "      <td>...</td>\n",
       "      <td>...</td>\n",
       "      <td>...</td>\n",
       "      <td>...</td>\n",
       "      <td>...</td>\n",
       "      <td>...</td>\n",
       "      <td>...</td>\n",
       "      <td>...</td>\n",
       "      <td>...</td>\n",
       "      <td>...</td>\n",
       "      <td>...</td>\n",
       "      <td>...</td>\n",
       "      <td>...</td>\n",
       "      <td>...</td>\n",
       "      <td>...</td>\n",
       "      <td>...</td>\n",
       "    </tr>\n",
       "    <tr>\n",
       "      <th>481</th>\n",
       "      <td>29</td>\n",
       "      <td>1.0</td>\n",
       "      <td>410</td>\n",
       "      <td>Research &amp; Development</td>\n",
       "      <td>2</td>\n",
       "      <td>0.0</td>\n",
       "      <td>Life Sciences</td>\n",
       "      <td>1513</td>\n",
       "      <td>3.0</td>\n",
       "      <td>0</td>\n",
       "      <td>...</td>\n",
       "      <td>0.0</td>\n",
       "      <td>2.0</td>\n",
       "      <td>3</td>\n",
       "      <td>4</td>\n",
       "      <td>3</td>\n",
       "      <td>2.0</td>\n",
       "      <td>3</td>\n",
       "      <td>2</td>\n",
       "      <td>0</td>\n",
       "      <td>2</td>\n",
       "    </tr>\n",
       "    <tr>\n",
       "      <th>276</th>\n",
       "      <td>42</td>\n",
       "      <td>2.0</td>\n",
       "      <td>1128</td>\n",
       "      <td>Research &amp; Development</td>\n",
       "      <td>13</td>\n",
       "      <td>2.0</td>\n",
       "      <td>Medical</td>\n",
       "      <td>1803</td>\n",
       "      <td>1.0</td>\n",
       "      <td>1</td>\n",
       "      <td>...</td>\n",
       "      <td>0.0</td>\n",
       "      <td>2.0</td>\n",
       "      <td>2</td>\n",
       "      <td>10</td>\n",
       "      <td>2</td>\n",
       "      <td>1.0</td>\n",
       "      <td>0</td>\n",
       "      <td>0</td>\n",
       "      <td>0</td>\n",
       "      <td>0</td>\n",
       "    </tr>\n",
       "    <tr>\n",
       "      <th>10</th>\n",
       "      <td>36</td>\n",
       "      <td>2.0</td>\n",
       "      <td>363</td>\n",
       "      <td>Research &amp; Development</td>\n",
       "      <td>1</td>\n",
       "      <td>2.0</td>\n",
       "      <td>Technical Degree</td>\n",
       "      <td>1237</td>\n",
       "      <td>2.0</td>\n",
       "      <td>0</td>\n",
       "      <td>...</td>\n",
       "      <td>1.0</td>\n",
       "      <td>2.0</td>\n",
       "      <td>1</td>\n",
       "      <td>17</td>\n",
       "      <td>2</td>\n",
       "      <td>2.0</td>\n",
       "      <td>7</td>\n",
       "      <td>7</td>\n",
       "      <td>7</td>\n",
       "      <td>7</td>\n",
       "    </tr>\n",
       "    <tr>\n",
       "      <th>829</th>\n",
       "      <td>36</td>\n",
       "      <td>2.0</td>\n",
       "      <td>311</td>\n",
       "      <td>Research &amp; Development</td>\n",
       "      <td>7</td>\n",
       "      <td>2.0</td>\n",
       "      <td>Life Sciences</td>\n",
       "      <td>1659</td>\n",
       "      <td>0.0</td>\n",
       "      <td>1</td>\n",
       "      <td>...</td>\n",
       "      <td>0.0</td>\n",
       "      <td>2.0</td>\n",
       "      <td>0</td>\n",
       "      <td>15</td>\n",
       "      <td>4</td>\n",
       "      <td>2.0</td>\n",
       "      <td>4</td>\n",
       "      <td>3</td>\n",
       "      <td>1</td>\n",
       "      <td>3</td>\n",
       "    </tr>\n",
       "    <tr>\n",
       "      <th>385</th>\n",
       "      <td>27</td>\n",
       "      <td>1.0</td>\n",
       "      <td>591</td>\n",
       "      <td>Research &amp; Development</td>\n",
       "      <td>2</td>\n",
       "      <td>2.0</td>\n",
       "      <td>Medical</td>\n",
       "      <td>1648</td>\n",
       "      <td>3.0</td>\n",
       "      <td>1</td>\n",
       "      <td>...</td>\n",
       "      <td>0.0</td>\n",
       "      <td>2.0</td>\n",
       "      <td>0</td>\n",
       "      <td>6</td>\n",
       "      <td>0</td>\n",
       "      <td>1.0</td>\n",
       "      <td>4</td>\n",
       "      <td>2</td>\n",
       "      <td>1</td>\n",
       "      <td>2</td>\n",
       "    </tr>\n",
       "  </tbody>\n",
       "</table>\n",
       "<p>720 rows × 32 columns</p>\n",
       "</div>"
      ],
      "text/plain": [
       "     Age  BusinessTravel  DailyRate              Department  DistanceFromHome  \\\n",
       "994   42             2.0       1396  Research & Development                 6   \n",
       "410   38             2.0        433         Human Resources                 1   \n",
       "625   35             2.0       1224                   Sales                 7   \n",
       "297   25             2.0        685  Research & Development                 1   \n",
       "399   53             2.0       1070  Research & Development                 3   \n",
       "..   ...             ...        ...                     ...               ...   \n",
       "481   29             1.0        410  Research & Development                 2   \n",
       "276   42             2.0       1128  Research & Development                13   \n",
       "10    36             2.0        363  Research & Development                 1   \n",
       "829   36             2.0        311  Research & Development                 7   \n",
       "385   27             1.0        591  Research & Development                 2   \n",
       "\n",
       "     Education    EducationField  EmployeeNumber  EnvironmentSatisfaction  \\\n",
       "994        2.0           Medical            1911                      2.0   \n",
       "410        2.0   Human Resources            1152                      2.0   \n",
       "625        3.0     Life Sciences            1962                      2.0   \n",
       "297        2.0     Life Sciences             350                      0.0   \n",
       "399        3.0           Medical             386                      2.0   \n",
       "..         ...               ...             ...                      ...   \n",
       "481        0.0     Life Sciences            1513                      3.0   \n",
       "276        2.0           Medical            1803                      1.0   \n",
       "10         2.0  Technical Degree            1237                      2.0   \n",
       "829        2.0     Life Sciences            1659                      0.0   \n",
       "385        2.0           Medical            1648                      3.0   \n",
       "\n",
       "     Gender  ...  PerformanceRating  RelationshipSatisfaction  \\\n",
       "994       1  ...                0.0                       1.0   \n",
       "410       1  ...                0.0                       3.0   \n",
       "625       0  ...                0.0                       3.0   \n",
       "297       0  ...                0.0                       3.0   \n",
       "399       1  ...                0.0                       3.0   \n",
       "..      ...  ...                ...                       ...   \n",
       "481       0  ...                0.0                       2.0   \n",
       "276       1  ...                0.0                       2.0   \n",
       "10        0  ...                1.0                       2.0   \n",
       "829       1  ...                0.0                       2.0   \n",
       "385       1  ...                0.0                       2.0   \n",
       "\n",
       "     StockOptionLevel TotalWorkingYears  TrainingTimesLastYear  \\\n",
       "994                 1                18                      3   \n",
       "410                 1                 7                      2   \n",
       "625                 0                10                      2   \n",
       "297                 2                 5                      3   \n",
       "399                 3                21                      5   \n",
       "..                ...               ...                    ...   \n",
       "481                 3                 4                      3   \n",
       "276                 2                10                      2   \n",
       "10                  1                17                      2   \n",
       "829                 0                15                      4   \n",
       "385                 0                 6                      0   \n",
       "\n",
       "    WorkLifeBalance  YearsAtCompany  YearsInCurrentRole  \\\n",
       "994             3.0              13                   7   \n",
       "410             3.0               7                   6   \n",
       "625             2.0              10                   8   \n",
       "297             2.0               4                   2   \n",
       "399             1.0               5                   3   \n",
       "..              ...             ...                 ...   \n",
       "481             2.0               3                   2   \n",
       "276             1.0               0                   0   \n",
       "10              2.0               7                   7   \n",
       "829             2.0               4                   3   \n",
       "385             1.0               4                   2   \n",
       "\n",
       "     YearsSinceLastPromotion YearsWithCurrManager  \n",
       "994                        5                    7  \n",
       "410                        5                    0  \n",
       "625                        0                    9  \n",
       "297                        1                    2  \n",
       "399                        1                    3  \n",
       "..                       ...                  ...  \n",
       "481                        0                    2  \n",
       "276                        0                    0  \n",
       "10                         7                    7  \n",
       "829                        1                    3  \n",
       "385                        1                    2  \n",
       "\n",
       "[720 rows x 32 columns]"
      ]
     },
     "execution_count": 272,
     "metadata": {},
     "output_type": "execute_result"
    }
   ],
   "source": [
    "X_train"
   ]
  },
  {
   "cell_type": "code",
   "execution_count": 273,
   "metadata": {},
   "outputs": [
    {
     "data": {
      "text/plain": [
       "Index(['Age', 'BusinessTravel', 'DailyRate', 'Department', 'DistanceFromHome',\n",
       "       'Education', 'EducationField', 'EmployeeNumber',\n",
       "       'EnvironmentSatisfaction', 'Gender', 'HourlyRate', 'JobInvolvement',\n",
       "       'JobLevel', 'JobRole', 'JobSatisfaction', 'MaritalStatus',\n",
       "       'MonthlyIncome', 'MonthlyRate', 'NumCompaniesWorked', 'Over18',\n",
       "       'OverTime', 'PercentSalaryHike', 'PerformanceRating',\n",
       "       'RelationshipSatisfaction', 'StockOptionLevel', 'TotalWorkingYears',\n",
       "       'TrainingTimesLastYear', 'WorkLifeBalance', 'YearsAtCompany',\n",
       "       'YearsInCurrentRole', 'YearsSinceLastPromotion',\n",
       "       'YearsWithCurrManager'],\n",
       "      dtype='object')"
      ]
     },
     "execution_count": 273,
     "metadata": {},
     "output_type": "execute_result"
    }
   ],
   "source": [
    "X_train.columns"
   ]
  },
  {
   "cell_type": "code",
   "execution_count": 274,
   "metadata": {},
   "outputs": [],
   "source": [
    "# Enoding categorical variables with One Hot Encoder\n",
    "OHE = OneHotEncoder(handle_unknown = 'ignore', sparse=False)\n",
    "columns_OHE = ['Department', 'EducationField', 'JobRole', 'MaritalStatus']\n",
    "X_train_cols = pd.DataFrame(OHE.fit_transform(X_train[columns_OHE]))\n",
    "X_test_cols = pd.DataFrame(OHE.transform(X_test[columns_OHE]))\n",
    "# Putting index back\n",
    "X_train_cols.index = X_train.index\n",
    "X_test_cols.index = X_test.index\n",
    "# Removing categorical columns\n",
    "num_X_train = X_train.drop([col for col in X_train.columns if X_train[col].dtype == \"object\"], axis = 1)\n",
    "num_X_test = X_test.drop([col for col in X_test.columns if X_test[col].dtype == \"object\"], axis = 1)\n",
    "# Adding one-hot encoded columns to numerical features\n",
    "X_train = pd.concat([num_X_train,X_train_cols ],axis = 1)\n",
    "X_test = pd.concat([num_X_test, X_test_cols], axis = 1)"
   ]
  },
  {
   "cell_type": "code",
   "execution_count": 275,
   "metadata": {},
   "outputs": [
    {
     "data": {
      "text/html": [
       "<div>\n",
       "<style scoped>\n",
       "    .dataframe tbody tr th:only-of-type {\n",
       "        vertical-align: middle;\n",
       "    }\n",
       "\n",
       "    .dataframe tbody tr th {\n",
       "        vertical-align: top;\n",
       "    }\n",
       "\n",
       "    .dataframe thead th {\n",
       "        text-align: right;\n",
       "    }\n",
       "</style>\n",
       "<table border=\"1\" class=\"dataframe\">\n",
       "  <thead>\n",
       "    <tr style=\"text-align: right;\">\n",
       "      <th></th>\n",
       "      <th>Age</th>\n",
       "      <th>BusinessTravel</th>\n",
       "      <th>DailyRate</th>\n",
       "      <th>DistanceFromHome</th>\n",
       "      <th>Education</th>\n",
       "      <th>EmployeeNumber</th>\n",
       "      <th>EnvironmentSatisfaction</th>\n",
       "      <th>Gender</th>\n",
       "      <th>HourlyRate</th>\n",
       "      <th>JobInvolvement</th>\n",
       "      <th>...</th>\n",
       "      <th>11</th>\n",
       "      <th>12</th>\n",
       "      <th>13</th>\n",
       "      <th>14</th>\n",
       "      <th>15</th>\n",
       "      <th>16</th>\n",
       "      <th>17</th>\n",
       "      <th>18</th>\n",
       "      <th>19</th>\n",
       "      <th>20</th>\n",
       "    </tr>\n",
       "  </thead>\n",
       "  <tbody>\n",
       "    <tr>\n",
       "      <th>994</th>\n",
       "      <td>42</td>\n",
       "      <td>2.0</td>\n",
       "      <td>1396</td>\n",
       "      <td>6</td>\n",
       "      <td>2.0</td>\n",
       "      <td>1911</td>\n",
       "      <td>2.0</td>\n",
       "      <td>1</td>\n",
       "      <td>83</td>\n",
       "      <td>2.0</td>\n",
       "      <td>...</td>\n",
       "      <td>0.0</td>\n",
       "      <td>0.0</td>\n",
       "      <td>0.0</td>\n",
       "      <td>1.0</td>\n",
       "      <td>0.0</td>\n",
       "      <td>0.0</td>\n",
       "      <td>0.0</td>\n",
       "      <td>0.0</td>\n",
       "      <td>1.0</td>\n",
       "      <td>0.0</td>\n",
       "    </tr>\n",
       "    <tr>\n",
       "      <th>410</th>\n",
       "      <td>38</td>\n",
       "      <td>2.0</td>\n",
       "      <td>433</td>\n",
       "      <td>1</td>\n",
       "      <td>2.0</td>\n",
       "      <td>1152</td>\n",
       "      <td>2.0</td>\n",
       "      <td>1</td>\n",
       "      <td>37</td>\n",
       "      <td>3.0</td>\n",
       "      <td>...</td>\n",
       "      <td>0.0</td>\n",
       "      <td>0.0</td>\n",
       "      <td>0.0</td>\n",
       "      <td>0.0</td>\n",
       "      <td>0.0</td>\n",
       "      <td>0.0</td>\n",
       "      <td>0.0</td>\n",
       "      <td>0.0</td>\n",
       "      <td>1.0</td>\n",
       "      <td>0.0</td>\n",
       "    </tr>\n",
       "    <tr>\n",
       "      <th>625</th>\n",
       "      <td>35</td>\n",
       "      <td>2.0</td>\n",
       "      <td>1224</td>\n",
       "      <td>7</td>\n",
       "      <td>3.0</td>\n",
       "      <td>1962</td>\n",
       "      <td>2.0</td>\n",
       "      <td>0</td>\n",
       "      <td>55</td>\n",
       "      <td>2.0</td>\n",
       "      <td>...</td>\n",
       "      <td>0.0</td>\n",
       "      <td>0.0</td>\n",
       "      <td>0.0</td>\n",
       "      <td>0.0</td>\n",
       "      <td>0.0</td>\n",
       "      <td>1.0</td>\n",
       "      <td>0.0</td>\n",
       "      <td>0.0</td>\n",
       "      <td>1.0</td>\n",
       "      <td>0.0</td>\n",
       "    </tr>\n",
       "    <tr>\n",
       "      <th>297</th>\n",
       "      <td>25</td>\n",
       "      <td>2.0</td>\n",
       "      <td>685</td>\n",
       "      <td>1</td>\n",
       "      <td>2.0</td>\n",
       "      <td>350</td>\n",
       "      <td>0.0</td>\n",
       "      <td>0</td>\n",
       "      <td>62</td>\n",
       "      <td>2.0</td>\n",
       "      <td>...</td>\n",
       "      <td>0.0</td>\n",
       "      <td>0.0</td>\n",
       "      <td>1.0</td>\n",
       "      <td>0.0</td>\n",
       "      <td>0.0</td>\n",
       "      <td>0.0</td>\n",
       "      <td>0.0</td>\n",
       "      <td>0.0</td>\n",
       "      <td>1.0</td>\n",
       "      <td>0.0</td>\n",
       "    </tr>\n",
       "    <tr>\n",
       "      <th>399</th>\n",
       "      <td>53</td>\n",
       "      <td>2.0</td>\n",
       "      <td>1070</td>\n",
       "      <td>3</td>\n",
       "      <td>3.0</td>\n",
       "      <td>386</td>\n",
       "      <td>2.0</td>\n",
       "      <td>1</td>\n",
       "      <td>45</td>\n",
       "      <td>2.0</td>\n",
       "      <td>...</td>\n",
       "      <td>0.0</td>\n",
       "      <td>0.0</td>\n",
       "      <td>0.0</td>\n",
       "      <td>1.0</td>\n",
       "      <td>0.0</td>\n",
       "      <td>0.0</td>\n",
       "      <td>0.0</td>\n",
       "      <td>0.0</td>\n",
       "      <td>1.0</td>\n",
       "      <td>0.0</td>\n",
       "    </tr>\n",
       "    <tr>\n",
       "      <th>...</th>\n",
       "      <td>...</td>\n",
       "      <td>...</td>\n",
       "      <td>...</td>\n",
       "      <td>...</td>\n",
       "      <td>...</td>\n",
       "      <td>...</td>\n",
       "      <td>...</td>\n",
       "      <td>...</td>\n",
       "      <td>...</td>\n",
       "      <td>...</td>\n",
       "      <td>...</td>\n",
       "      <td>...</td>\n",
       "      <td>...</td>\n",
       "      <td>...</td>\n",
       "      <td>...</td>\n",
       "      <td>...</td>\n",
       "      <td>...</td>\n",
       "      <td>...</td>\n",
       "      <td>...</td>\n",
       "      <td>...</td>\n",
       "      <td>...</td>\n",
       "    </tr>\n",
       "    <tr>\n",
       "      <th>481</th>\n",
       "      <td>29</td>\n",
       "      <td>1.0</td>\n",
       "      <td>410</td>\n",
       "      <td>2</td>\n",
       "      <td>0.0</td>\n",
       "      <td>1513</td>\n",
       "      <td>3.0</td>\n",
       "      <td>0</td>\n",
       "      <td>97</td>\n",
       "      <td>2.0</td>\n",
       "      <td>...</td>\n",
       "      <td>1.0</td>\n",
       "      <td>0.0</td>\n",
       "      <td>0.0</td>\n",
       "      <td>0.0</td>\n",
       "      <td>0.0</td>\n",
       "      <td>0.0</td>\n",
       "      <td>0.0</td>\n",
       "      <td>0.0</td>\n",
       "      <td>1.0</td>\n",
       "      <td>0.0</td>\n",
       "    </tr>\n",
       "    <tr>\n",
       "      <th>276</th>\n",
       "      <td>42</td>\n",
       "      <td>2.0</td>\n",
       "      <td>1128</td>\n",
       "      <td>13</td>\n",
       "      <td>2.0</td>\n",
       "      <td>1803</td>\n",
       "      <td>1.0</td>\n",
       "      <td>1</td>\n",
       "      <td>95</td>\n",
       "      <td>3.0</td>\n",
       "      <td>...</td>\n",
       "      <td>0.0</td>\n",
       "      <td>0.0</td>\n",
       "      <td>0.0</td>\n",
       "      <td>0.0</td>\n",
       "      <td>0.0</td>\n",
       "      <td>0.0</td>\n",
       "      <td>0.0</td>\n",
       "      <td>0.0</td>\n",
       "      <td>1.0</td>\n",
       "      <td>0.0</td>\n",
       "    </tr>\n",
       "    <tr>\n",
       "      <th>10</th>\n",
       "      <td>36</td>\n",
       "      <td>2.0</td>\n",
       "      <td>363</td>\n",
       "      <td>1</td>\n",
       "      <td>2.0</td>\n",
       "      <td>1237</td>\n",
       "      <td>2.0</td>\n",
       "      <td>0</td>\n",
       "      <td>77</td>\n",
       "      <td>0.0</td>\n",
       "      <td>...</td>\n",
       "      <td>0.0</td>\n",
       "      <td>0.0</td>\n",
       "      <td>1.0</td>\n",
       "      <td>0.0</td>\n",
       "      <td>0.0</td>\n",
       "      <td>0.0</td>\n",
       "      <td>0.0</td>\n",
       "      <td>1.0</td>\n",
       "      <td>0.0</td>\n",
       "      <td>0.0</td>\n",
       "    </tr>\n",
       "    <tr>\n",
       "      <th>829</th>\n",
       "      <td>36</td>\n",
       "      <td>2.0</td>\n",
       "      <td>311</td>\n",
       "      <td>7</td>\n",
       "      <td>2.0</td>\n",
       "      <td>1659</td>\n",
       "      <td>0.0</td>\n",
       "      <td>1</td>\n",
       "      <td>77</td>\n",
       "      <td>2.0</td>\n",
       "      <td>...</td>\n",
       "      <td>1.0</td>\n",
       "      <td>0.0</td>\n",
       "      <td>0.0</td>\n",
       "      <td>0.0</td>\n",
       "      <td>0.0</td>\n",
       "      <td>0.0</td>\n",
       "      <td>0.0</td>\n",
       "      <td>0.0</td>\n",
       "      <td>0.0</td>\n",
       "      <td>1.0</td>\n",
       "    </tr>\n",
       "    <tr>\n",
       "      <th>385</th>\n",
       "      <td>27</td>\n",
       "      <td>1.0</td>\n",
       "      <td>591</td>\n",
       "      <td>2</td>\n",
       "      <td>2.0</td>\n",
       "      <td>1648</td>\n",
       "      <td>3.0</td>\n",
       "      <td>1</td>\n",
       "      <td>87</td>\n",
       "      <td>2.0</td>\n",
       "      <td>...</td>\n",
       "      <td>0.0</td>\n",
       "      <td>0.0</td>\n",
       "      <td>0.0</td>\n",
       "      <td>0.0</td>\n",
       "      <td>1.0</td>\n",
       "      <td>0.0</td>\n",
       "      <td>0.0</td>\n",
       "      <td>0.0</td>\n",
       "      <td>0.0</td>\n",
       "      <td>1.0</td>\n",
       "    </tr>\n",
       "  </tbody>\n",
       "</table>\n",
       "<p>720 rows × 48 columns</p>\n",
       "</div>"
      ],
      "text/plain": [
       "     Age  BusinessTravel  DailyRate  DistanceFromHome  Education  \\\n",
       "994   42             2.0       1396                 6        2.0   \n",
       "410   38             2.0        433                 1        2.0   \n",
       "625   35             2.0       1224                 7        3.0   \n",
       "297   25             2.0        685                 1        2.0   \n",
       "399   53             2.0       1070                 3        3.0   \n",
       "..   ...             ...        ...               ...        ...   \n",
       "481   29             1.0        410                 2        0.0   \n",
       "276   42             2.0       1128                13        2.0   \n",
       "10    36             2.0        363                 1        2.0   \n",
       "829   36             2.0        311                 7        2.0   \n",
       "385   27             1.0        591                 2        2.0   \n",
       "\n",
       "     EmployeeNumber  EnvironmentSatisfaction  Gender  HourlyRate  \\\n",
       "994            1911                      2.0       1          83   \n",
       "410            1152                      2.0       1          37   \n",
       "625            1962                      2.0       0          55   \n",
       "297             350                      0.0       0          62   \n",
       "399             386                      2.0       1          45   \n",
       "..              ...                      ...     ...         ...   \n",
       "481            1513                      3.0       0          97   \n",
       "276            1803                      1.0       1          95   \n",
       "10             1237                      2.0       0          77   \n",
       "829            1659                      0.0       1          77   \n",
       "385            1648                      3.0       1          87   \n",
       "\n",
       "     JobInvolvement  ...   11   12   13   14   15   16   17   18   19   20  \n",
       "994             2.0  ...  0.0  0.0  0.0  1.0  0.0  0.0  0.0  0.0  1.0  0.0  \n",
       "410             3.0  ...  0.0  0.0  0.0  0.0  0.0  0.0  0.0  0.0  1.0  0.0  \n",
       "625             2.0  ...  0.0  0.0  0.0  0.0  0.0  1.0  0.0  0.0  1.0  0.0  \n",
       "297             2.0  ...  0.0  0.0  1.0  0.0  0.0  0.0  0.0  0.0  1.0  0.0  \n",
       "399             2.0  ...  0.0  0.0  0.0  1.0  0.0  0.0  0.0  0.0  1.0  0.0  \n",
       "..              ...  ...  ...  ...  ...  ...  ...  ...  ...  ...  ...  ...  \n",
       "481             2.0  ...  1.0  0.0  0.0  0.0  0.0  0.0  0.0  0.0  1.0  0.0  \n",
       "276             3.0  ...  0.0  0.0  0.0  0.0  0.0  0.0  0.0  0.0  1.0  0.0  \n",
       "10              0.0  ...  0.0  0.0  1.0  0.0  0.0  0.0  0.0  1.0  0.0  0.0  \n",
       "829             2.0  ...  1.0  0.0  0.0  0.0  0.0  0.0  0.0  0.0  0.0  1.0  \n",
       "385             2.0  ...  0.0  0.0  0.0  0.0  1.0  0.0  0.0  0.0  0.0  1.0  \n",
       "\n",
       "[720 rows x 48 columns]"
      ]
     },
     "execution_count": 275,
     "metadata": {},
     "output_type": "execute_result"
    }
   ],
   "source": [
    "X_train"
   ]
  },
  {
   "cell_type": "code",
   "execution_count": 276,
   "metadata": {},
   "outputs": [
    {
     "data": {
      "text/html": [
       "<div>\n",
       "<style scoped>\n",
       "    .dataframe tbody tr th:only-of-type {\n",
       "        vertical-align: middle;\n",
       "    }\n",
       "\n",
       "    .dataframe tbody tr th {\n",
       "        vertical-align: top;\n",
       "    }\n",
       "\n",
       "    .dataframe thead th {\n",
       "        text-align: right;\n",
       "    }\n",
       "</style>\n",
       "<table border=\"1\" class=\"dataframe\">\n",
       "  <thead>\n",
       "    <tr style=\"text-align: right;\">\n",
       "      <th></th>\n",
       "      <th>Age</th>\n",
       "      <th>BusinessTravel</th>\n",
       "      <th>DailyRate</th>\n",
       "      <th>DistanceFromHome</th>\n",
       "      <th>Education</th>\n",
       "      <th>EmployeeNumber</th>\n",
       "      <th>EnvironmentSatisfaction</th>\n",
       "      <th>Gender</th>\n",
       "      <th>HourlyRate</th>\n",
       "      <th>JobInvolvement</th>\n",
       "      <th>...</th>\n",
       "      <th>11</th>\n",
       "      <th>12</th>\n",
       "      <th>13</th>\n",
       "      <th>14</th>\n",
       "      <th>15</th>\n",
       "      <th>16</th>\n",
       "      <th>17</th>\n",
       "      <th>18</th>\n",
       "      <th>19</th>\n",
       "      <th>20</th>\n",
       "    </tr>\n",
       "  </thead>\n",
       "  <tbody>\n",
       "    <tr>\n",
       "      <th>994</th>\n",
       "      <td>0.571429</td>\n",
       "      <td>2.0</td>\n",
       "      <td>0.926218</td>\n",
       "      <td>0.178571</td>\n",
       "      <td>2.0</td>\n",
       "      <td>1911</td>\n",
       "      <td>2.0</td>\n",
       "      <td>1</td>\n",
       "      <td>0.757143</td>\n",
       "      <td>2.0</td>\n",
       "      <td>...</td>\n",
       "      <td>0.0</td>\n",
       "      <td>0.0</td>\n",
       "      <td>0.0</td>\n",
       "      <td>1.0</td>\n",
       "      <td>0.0</td>\n",
       "      <td>0.0</td>\n",
       "      <td>0.0</td>\n",
       "      <td>0.0</td>\n",
       "      <td>1.0</td>\n",
       "      <td>0.0</td>\n",
       "    </tr>\n",
       "    <tr>\n",
       "      <th>410</th>\n",
       "      <td>0.476190</td>\n",
       "      <td>2.0</td>\n",
       "      <td>0.236390</td>\n",
       "      <td>0.000000</td>\n",
       "      <td>2.0</td>\n",
       "      <td>1152</td>\n",
       "      <td>2.0</td>\n",
       "      <td>1</td>\n",
       "      <td>0.100000</td>\n",
       "      <td>3.0</td>\n",
       "      <td>...</td>\n",
       "      <td>0.0</td>\n",
       "      <td>0.0</td>\n",
       "      <td>0.0</td>\n",
       "      <td>0.0</td>\n",
       "      <td>0.0</td>\n",
       "      <td>0.0</td>\n",
       "      <td>0.0</td>\n",
       "      <td>0.0</td>\n",
       "      <td>1.0</td>\n",
       "      <td>0.0</td>\n",
       "    </tr>\n",
       "    <tr>\n",
       "      <th>625</th>\n",
       "      <td>0.404762</td>\n",
       "      <td>2.0</td>\n",
       "      <td>0.803009</td>\n",
       "      <td>0.214286</td>\n",
       "      <td>3.0</td>\n",
       "      <td>1962</td>\n",
       "      <td>2.0</td>\n",
       "      <td>0</td>\n",
       "      <td>0.357143</td>\n",
       "      <td>2.0</td>\n",
       "      <td>...</td>\n",
       "      <td>0.0</td>\n",
       "      <td>0.0</td>\n",
       "      <td>0.0</td>\n",
       "      <td>0.0</td>\n",
       "      <td>0.0</td>\n",
       "      <td>1.0</td>\n",
       "      <td>0.0</td>\n",
       "      <td>0.0</td>\n",
       "      <td>1.0</td>\n",
       "      <td>0.0</td>\n",
       "    </tr>\n",
       "    <tr>\n",
       "      <th>297</th>\n",
       "      <td>0.166667</td>\n",
       "      <td>2.0</td>\n",
       "      <td>0.416905</td>\n",
       "      <td>0.000000</td>\n",
       "      <td>2.0</td>\n",
       "      <td>350</td>\n",
       "      <td>0.0</td>\n",
       "      <td>0</td>\n",
       "      <td>0.457143</td>\n",
       "      <td>2.0</td>\n",
       "      <td>...</td>\n",
       "      <td>0.0</td>\n",
       "      <td>0.0</td>\n",
       "      <td>1.0</td>\n",
       "      <td>0.0</td>\n",
       "      <td>0.0</td>\n",
       "      <td>0.0</td>\n",
       "      <td>0.0</td>\n",
       "      <td>0.0</td>\n",
       "      <td>1.0</td>\n",
       "      <td>0.0</td>\n",
       "    </tr>\n",
       "    <tr>\n",
       "      <th>399</th>\n",
       "      <td>0.833333</td>\n",
       "      <td>2.0</td>\n",
       "      <td>0.692693</td>\n",
       "      <td>0.071429</td>\n",
       "      <td>3.0</td>\n",
       "      <td>386</td>\n",
       "      <td>2.0</td>\n",
       "      <td>1</td>\n",
       "      <td>0.214286</td>\n",
       "      <td>2.0</td>\n",
       "      <td>...</td>\n",
       "      <td>0.0</td>\n",
       "      <td>0.0</td>\n",
       "      <td>0.0</td>\n",
       "      <td>1.0</td>\n",
       "      <td>0.0</td>\n",
       "      <td>0.0</td>\n",
       "      <td>0.0</td>\n",
       "      <td>0.0</td>\n",
       "      <td>1.0</td>\n",
       "      <td>0.0</td>\n",
       "    </tr>\n",
       "    <tr>\n",
       "      <th>...</th>\n",
       "      <td>...</td>\n",
       "      <td>...</td>\n",
       "      <td>...</td>\n",
       "      <td>...</td>\n",
       "      <td>...</td>\n",
       "      <td>...</td>\n",
       "      <td>...</td>\n",
       "      <td>...</td>\n",
       "      <td>...</td>\n",
       "      <td>...</td>\n",
       "      <td>...</td>\n",
       "      <td>...</td>\n",
       "      <td>...</td>\n",
       "      <td>...</td>\n",
       "      <td>...</td>\n",
       "      <td>...</td>\n",
       "      <td>...</td>\n",
       "      <td>...</td>\n",
       "      <td>...</td>\n",
       "      <td>...</td>\n",
       "      <td>...</td>\n",
       "    </tr>\n",
       "    <tr>\n",
       "      <th>481</th>\n",
       "      <td>0.261905</td>\n",
       "      <td>1.0</td>\n",
       "      <td>0.219914</td>\n",
       "      <td>0.035714</td>\n",
       "      <td>0.0</td>\n",
       "      <td>1513</td>\n",
       "      <td>3.0</td>\n",
       "      <td>0</td>\n",
       "      <td>0.957143</td>\n",
       "      <td>2.0</td>\n",
       "      <td>...</td>\n",
       "      <td>1.0</td>\n",
       "      <td>0.0</td>\n",
       "      <td>0.0</td>\n",
       "      <td>0.0</td>\n",
       "      <td>0.0</td>\n",
       "      <td>0.0</td>\n",
       "      <td>0.0</td>\n",
       "      <td>0.0</td>\n",
       "      <td>1.0</td>\n",
       "      <td>0.0</td>\n",
       "    </tr>\n",
       "    <tr>\n",
       "      <th>276</th>\n",
       "      <td>0.571429</td>\n",
       "      <td>2.0</td>\n",
       "      <td>0.734241</td>\n",
       "      <td>0.428571</td>\n",
       "      <td>2.0</td>\n",
       "      <td>1803</td>\n",
       "      <td>1.0</td>\n",
       "      <td>1</td>\n",
       "      <td>0.928571</td>\n",
       "      <td>3.0</td>\n",
       "      <td>...</td>\n",
       "      <td>0.0</td>\n",
       "      <td>0.0</td>\n",
       "      <td>0.0</td>\n",
       "      <td>0.0</td>\n",
       "      <td>0.0</td>\n",
       "      <td>0.0</td>\n",
       "      <td>0.0</td>\n",
       "      <td>0.0</td>\n",
       "      <td>1.0</td>\n",
       "      <td>0.0</td>\n",
       "    </tr>\n",
       "    <tr>\n",
       "      <th>10</th>\n",
       "      <td>0.428571</td>\n",
       "      <td>2.0</td>\n",
       "      <td>0.186246</td>\n",
       "      <td>0.000000</td>\n",
       "      <td>2.0</td>\n",
       "      <td>1237</td>\n",
       "      <td>2.0</td>\n",
       "      <td>0</td>\n",
       "      <td>0.671429</td>\n",
       "      <td>0.0</td>\n",
       "      <td>...</td>\n",
       "      <td>0.0</td>\n",
       "      <td>0.0</td>\n",
       "      <td>1.0</td>\n",
       "      <td>0.0</td>\n",
       "      <td>0.0</td>\n",
       "      <td>0.0</td>\n",
       "      <td>0.0</td>\n",
       "      <td>1.0</td>\n",
       "      <td>0.0</td>\n",
       "      <td>0.0</td>\n",
       "    </tr>\n",
       "    <tr>\n",
       "      <th>829</th>\n",
       "      <td>0.428571</td>\n",
       "      <td>2.0</td>\n",
       "      <td>0.148997</td>\n",
       "      <td>0.214286</td>\n",
       "      <td>2.0</td>\n",
       "      <td>1659</td>\n",
       "      <td>0.0</td>\n",
       "      <td>1</td>\n",
       "      <td>0.671429</td>\n",
       "      <td>2.0</td>\n",
       "      <td>...</td>\n",
       "      <td>1.0</td>\n",
       "      <td>0.0</td>\n",
       "      <td>0.0</td>\n",
       "      <td>0.0</td>\n",
       "      <td>0.0</td>\n",
       "      <td>0.0</td>\n",
       "      <td>0.0</td>\n",
       "      <td>0.0</td>\n",
       "      <td>0.0</td>\n",
       "      <td>1.0</td>\n",
       "    </tr>\n",
       "    <tr>\n",
       "      <th>385</th>\n",
       "      <td>0.214286</td>\n",
       "      <td>1.0</td>\n",
       "      <td>0.349570</td>\n",
       "      <td>0.035714</td>\n",
       "      <td>2.0</td>\n",
       "      <td>1648</td>\n",
       "      <td>3.0</td>\n",
       "      <td>1</td>\n",
       "      <td>0.814286</td>\n",
       "      <td>2.0</td>\n",
       "      <td>...</td>\n",
       "      <td>0.0</td>\n",
       "      <td>0.0</td>\n",
       "      <td>0.0</td>\n",
       "      <td>0.0</td>\n",
       "      <td>1.0</td>\n",
       "      <td>0.0</td>\n",
       "      <td>0.0</td>\n",
       "      <td>0.0</td>\n",
       "      <td>0.0</td>\n",
       "      <td>1.0</td>\n",
       "    </tr>\n",
       "  </tbody>\n",
       "</table>\n",
       "<p>720 rows × 48 columns</p>\n",
       "</div>"
      ],
      "text/plain": [
       "          Age  BusinessTravel  DailyRate  DistanceFromHome  Education  \\\n",
       "994  0.571429             2.0   0.926218          0.178571        2.0   \n",
       "410  0.476190             2.0   0.236390          0.000000        2.0   \n",
       "625  0.404762             2.0   0.803009          0.214286        3.0   \n",
       "297  0.166667             2.0   0.416905          0.000000        2.0   \n",
       "399  0.833333             2.0   0.692693          0.071429        3.0   \n",
       "..        ...             ...        ...               ...        ...   \n",
       "481  0.261905             1.0   0.219914          0.035714        0.0   \n",
       "276  0.571429             2.0   0.734241          0.428571        2.0   \n",
       "10   0.428571             2.0   0.186246          0.000000        2.0   \n",
       "829  0.428571             2.0   0.148997          0.214286        2.0   \n",
       "385  0.214286             1.0   0.349570          0.035714        2.0   \n",
       "\n",
       "     EmployeeNumber  EnvironmentSatisfaction  Gender  HourlyRate  \\\n",
       "994            1911                      2.0       1    0.757143   \n",
       "410            1152                      2.0       1    0.100000   \n",
       "625            1962                      2.0       0    0.357143   \n",
       "297             350                      0.0       0    0.457143   \n",
       "399             386                      2.0       1    0.214286   \n",
       "..              ...                      ...     ...         ...   \n",
       "481            1513                      3.0       0    0.957143   \n",
       "276            1803                      1.0       1    0.928571   \n",
       "10             1237                      2.0       0    0.671429   \n",
       "829            1659                      0.0       1    0.671429   \n",
       "385            1648                      3.0       1    0.814286   \n",
       "\n",
       "     JobInvolvement  ...   11   12   13   14   15   16   17   18   19   20  \n",
       "994             2.0  ...  0.0  0.0  0.0  1.0  0.0  0.0  0.0  0.0  1.0  0.0  \n",
       "410             3.0  ...  0.0  0.0  0.0  0.0  0.0  0.0  0.0  0.0  1.0  0.0  \n",
       "625             2.0  ...  0.0  0.0  0.0  0.0  0.0  1.0  0.0  0.0  1.0  0.0  \n",
       "297             2.0  ...  0.0  0.0  1.0  0.0  0.0  0.0  0.0  0.0  1.0  0.0  \n",
       "399             2.0  ...  0.0  0.0  0.0  1.0  0.0  0.0  0.0  0.0  1.0  0.0  \n",
       "..              ...  ...  ...  ...  ...  ...  ...  ...  ...  ...  ...  ...  \n",
       "481             2.0  ...  1.0  0.0  0.0  0.0  0.0  0.0  0.0  0.0  1.0  0.0  \n",
       "276             3.0  ...  0.0  0.0  0.0  0.0  0.0  0.0  0.0  0.0  1.0  0.0  \n",
       "10              0.0  ...  0.0  0.0  1.0  0.0  0.0  0.0  0.0  1.0  0.0  0.0  \n",
       "829             2.0  ...  1.0  0.0  0.0  0.0  0.0  0.0  0.0  0.0  0.0  1.0  \n",
       "385             2.0  ...  0.0  0.0  0.0  0.0  1.0  0.0  0.0  0.0  0.0  1.0  \n",
       "\n",
       "[720 rows x 48 columns]"
      ]
     },
     "execution_count": 276,
     "metadata": {},
     "output_type": "execute_result"
    }
   ],
   "source": [
    "# Rescaling Data\n",
    "Scaler = MinMaxScaler()\n",
    "Scaling_Cols = ['TrainingTimesLastYear','YearsAtCompany','TotalWorkingYears',\n",
    "               'YearsInCurrentRole','YearsSinceLastPromotion','YearsWithCurrManager',\n",
    "               'PercentSalaryHike','Age','DailyRate','DistanceFromHome','HourlyRate',\n",
    "               'MonthlyIncome','MonthlyRate','NumCompaniesWorked']\n",
    "X_train[Scaling_Cols] = Scaler.fit_transform(X_train[Scaling_Cols])\n",
    "X_test[Scaling_Cols] = Scaler.transform(X_test[Scaling_Cols])\n",
    "X_train"
   ]
  },
  {
   "cell_type": "code",
   "execution_count": 277,
   "metadata": {},
   "outputs": [
    {
     "name": "stdout",
     "output_type": "stream",
     "text": [
      "0    617\n",
      "1    103\n",
      "Name: Attrition, dtype: int64\n",
      "0    251\n",
      "1     58\n",
      "Name: Attrition, dtype: int64\n"
     ]
    }
   ],
   "source": [
    "print(y_train.value_counts())\n",
    "print(y_test.value_counts())"
   ]
  },
  {
   "cell_type": "markdown",
   "metadata": {},
   "source": [
    "Our target variable is unbalanced, with much more 'No' values than 'Yes'.I will SMOTE to synthetically create more 'Yes' values and have a 50/50 distribution for both classes during training. I prefer to oversample our minor class than undersampling the major class because undersampling may cause a loss of relevant data.\n"
   ]
  },
  {
   "cell_type": "code",
   "execution_count": 278,
   "metadata": {},
   "outputs": [],
   "source": [
    "# Dealing with Class Imbalance using SMOTE\n",
    "from imblearn.over_sampling import SMOTE\n",
    "X_train,y_train = SMOTE().fit_resample(X_train,y_train)"
   ]
  },
  {
   "cell_type": "code",
   "execution_count": 279,
   "metadata": {},
   "outputs": [
    {
     "data": {
      "text/plain": [
       "1    617\n",
       "0    617\n",
       "Name: Attrition, dtype: int64"
      ]
     },
     "execution_count": 279,
     "metadata": {},
     "output_type": "execute_result"
    }
   ],
   "source": [
    "y_train.value_counts()"
   ]
  },
  {
   "cell_type": "code",
   "execution_count": 280,
   "metadata": {},
   "outputs": [],
   "source": [
    "# from sklearn.linear_model import LogisticRegression\n",
    "# from sklearn.metrics import accuracy_score, classification_report\n",
    "# # Fit a Logistic Regression model\n",
    "# model = LogisticRegression(random_state=42)\n",
    "\n",
    "# # Fit the model on the scaled training data\n",
    "# model.fit(X_train, y_train)\n",
    "\n",
    "# # Evaluate the model\n",
    "# # Predictions on the testing set\n",
    "# y_pred = model.predict(X_test)\n",
    "\n",
    "# # Model accuracy\n",
    "# accuracy = accuracy_score(y_test, y_predict)\n",
    "# print(f\"Model Accuracy: {accuracy}\")\n",
    "\n",
    "# # Classification report\n",
    "# report = classification_report(y_test, y_predict)\n",
    "# print(\"Classification Report:\\n\", report)"
   ]
  },
  {
   "cell_type": "code",
   "execution_count": 281,
   "metadata": {},
   "outputs": [],
   "source": [
    "from sklearn.linear_model import LogisticRegression"
   ]
  },
  {
   "cell_type": "code",
   "execution_count": 282,
   "metadata": {},
   "outputs": [
    {
     "name": "stdout",
     "output_type": "stream",
     "text": [
      "Model Accuracy: 0.7702265372168284\n",
      "Classification Report:\n",
      "               precision    recall  f1-score   support\n",
      "\n",
      "           0       0.91      0.80      0.85       251\n",
      "           1       0.43      0.64      0.51        58\n",
      "\n",
      "    accuracy                           0.77       309\n",
      "   macro avg       0.67      0.72      0.68       309\n",
      "weighted avg       0.82      0.77      0.79       309\n",
      "\n"
     ]
    }
   ],
   "source": [
    "# Fit the model on the scaled training data\n",
    "model = LogisticRegression(max_iter=1000, random_state=42)\n",
    "model.fit(X_train, y_train)\n",
    "\n",
    "# Evaluate the model\n",
    "# Predictions on the testing set\n",
    "y_pred = model.predict(X_test)\n",
    "\n",
    "# Model accuracy\n",
    "accuracy = accuracy_score(y_test, y_pred)\n",
    "print(f\"Model Accuracy: {accuracy}\")\n",
    "\n",
    "# Classification report\n",
    "report = classification_report(y_test, y_pred)\n",
    "print(\"Classification Report:\\n\", report)"
   ]
  },
  {
   "cell_type": "code",
   "execution_count": 283,
   "metadata": {},
   "outputs": [
    {
     "name": "stdout",
     "output_type": "stream",
     "text": [
      "Confusion Matrix:\n",
      " [[201  50]\n",
      " [ 21  37]]\n"
     ]
    },
    {
     "data": {
      "image/png": "[encoded data removed]",
      "text/plain": [
       "<Figure size 576x432 with 2 Axes>"
      ]
     },
     "metadata": {
      "needs_background": "light"
     },
     "output_type": "display_data"
    }
   ],
   "source": [
    "# Confusion matrix\n",
    "cm = confusion_matrix(y_test, y_pred)\n",
    "print(\"Confusion Matrix:\\n\", cm)\n",
    "# Visualize confusion matrix\n",
    "plt.figure(figsize=(8, 6))\n",
    "sns.heatmap(cm, annot=True, fmt='d', cmap='Blues', xticklabels=['No', 'Yes'], yticklabels=['No', 'Yes'])\n",
    "plt.xlabel('Predicted')\n",
    "plt.ylabel('Actual')\n",
    "plt.title('Confusion Matrix')\n",
    "plt.show()"
   ]
  },
  {
   "cell_type": "markdown",
   "metadata": {},
   "source": [
    "# Interpretation of the confusion matrix"
   ]
  },
  {
   "cell_type": "markdown",
   "metadata": {},
   "source": [
    "True Positives (TP): 30\n",
    "These are the cases where the model correctly predicted \"Yes\" for attrition.\n",
    "\n",
    "True Negatives (TN): 202\n",
    "These are the cases where the model correctly predicted \"No\" for attrition.\n",
    "\n",
    "False Positives (FP): 55\n",
    "These are the cases where the model incorrectly predicted \"Yes\" for attrition when it was actually \"No\". This is also known as a Type I error.\n",
    "\n",
    "False Negatives (FN): 22\n",
    "These are the cases where the model incorrectly predicted \"No\" for attrition when it was actually \"Yes\". This is also known as a Type II error."
   ]
  },
  {
   "cell_type": "markdown",
   "metadata": {},
   "source": [
    "The model has a high number of True Negatives (202) and a relatively lower number of True Positives (30), indicating that it performs better at identifying \"No\" for attrition than \"Yes\".\n",
    "The precision for predicting \"Yes\" is quite low (0.35), meaning that when the model predicts attrition, it is only correct about 35% of the time.\n",
    "The recall for predicting \"Yes\" is moderate (0.58), meaning the model correctly identifies 58% of the actual \"Yes\" cases.\n",
    "The model's overall accuracy is 0.75, indicating that 75% of the predictions are correct. However, this is influenced by the class imbalance, as there are more \"No\" cases than \"Yes\"."
   ]
  }
 ],
 "metadata": {
  "kernelspec": {
   "display_name": "Python 3 (ipykernel)",
   "language": "python",
   "name": "python3"
  },
  "language_info": {
   "codemirror_mode": {
    "name": "ipython",
    "version": 3
   },
   "file_extension": ".py",
   "mimetype": "text/x-python",
   "name": "python",
   "nbconvert_exporter": "python",
   "pygments_lexer": "ipython3",
   "version": "3.11.4"
  }
 },
 "nbformat": 4,
 "nbformat_minor": 2
}
